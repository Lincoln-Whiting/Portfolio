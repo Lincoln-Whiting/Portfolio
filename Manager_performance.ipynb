{
  "cells": [
    {
      "cell_type": "markdown",
      "metadata": {
        "id": "G9Nyy7B2qXl7"
      },
      "source": [
        "## **Part 1: Data Clearning/Understanding**\n"
      ]
    },
    {
      "cell_type": "markdown",
      "metadata": {
        "id": "-6UdHR0DuFmb"
      },
      "source": [
        "## **Data Transformations & Assumptions**\n",
        "\n",
        "* **Manager_ID**\n",
        "  * **Action**: None\n",
        "  * **Assumption**: All values appear correct with no duplicates\n",
        "* **First_Name**\n",
        "  * **Action**: Remove\n",
        "  * **Assumption**: Names aren't necessary for calculations\n",
        "* **Last_Name**\n",
        "  * **Action**: Remove\n",
        "  * **Asumption**: Names aren't necessary for calculations\n",
        "* **Age**\n",
        "  * **Action**: Remove\n",
        "  * **Assumption**: Ethical concerns with agism.\n",
        "* **Time_Employed**\n",
        "  * **Action**: Correcting values and standardizing them all to the same numerical format.\n",
        "  * **Assumption**: 'O' was changed to '0' because it was assumed that 'O' indicated '0'.\n",
        "* **Num_Prev_Positions**\n",
        "  * **Action**: Standardize all the values to the same numerical format.\n",
        "  * **Assumption**: 'three' was changed to '3' because it was assumed that 'three' indicated '3'.\n",
        "* **Teamwork**\n",
        "  * **Action**: None\n",
        "  * **Assumption**: All values appear correct.\n",
        "* **Motivation**\n",
        "  * **Action**: None\n",
        "  * **Assumption**: All values appear correct.\n",
        "* **Leadership**\n",
        "  * **Action**: Standardize all the values to the same 1-10 numerical scale.\n",
        "  * **Assumption**: '100' was changed to '10' because it was assumed that '100' indicated '10'.\n",
        "* **Performance_Evaluation**\n",
        "  * **Action_1**: Change 'highgh' to 'high'.\n",
        "  * **Assumption_1**: 'highgh' was changed to 'high' because it was assumed that 'highgh' indicated 'high'\n",
        "  * **Action_2**: Change 'loow' to 'low'.\n",
        "  * **Assumption_2**: 'loow' was changed to 'low' because it was assumed that 'loow' indicated 'low'.\n",
        "  * **Action_3**: none\n",
        "  * **Assumption_3**:All values appear correct.\n"
      ]
    },
    {
      "cell_type": "code",
      "execution_count": 1,
      "metadata": {
        "id": "24lUOG55pYL7"
      },
      "outputs": [],
      "source": [
        "import pandas as pd\n",
        "import numpy as np\n",
        "import matplotlib.pyplot as plt\n",
        "import warnings\n",
        "warnings.filterwarnings(\"ignore\")"
      ]
    },
    {
      "cell_type": "code",
      "execution_count": 2,
      "metadata": {
        "colab": {
          "base_uri": "https://localhost:8080/",
          "height": 1000
        },
        "id": "XjHTvFESy488",
        "outputId": "60fd933d-7ca7-47e8-db08-68b56cf13be5"
      },
      "outputs": [
        {
          "data": {
            "text/html": [
              "<div>\n",
              "<style scoped>\n",
              "    .dataframe tbody tr th:only-of-type {\n",
              "        vertical-align: middle;\n",
              "    }\n",
              "\n",
              "    .dataframe tbody tr th {\n",
              "        vertical-align: top;\n",
              "    }\n",
              "\n",
              "    .dataframe thead th {\n",
              "        text-align: right;\n",
              "    }\n",
              "</style>\n",
              "<table border=\"1\" class=\"dataframe\">\n",
              "  <thead>\n",
              "    <tr style=\"text-align: right;\">\n",
              "      <th></th>\n",
              "      <th>Manager_ID</th>\n",
              "      <th>First_Name</th>\n",
              "      <th>Last_Mame</th>\n",
              "      <th>Age</th>\n",
              "      <th>Time_Employed</th>\n",
              "      <th>Num_Prev_Positions</th>\n",
              "      <th>Teamwork</th>\n",
              "      <th>Motivation</th>\n",
              "      <th>Leadership</th>\n",
              "      <th>Performance_Evaluation</th>\n",
              "    </tr>\n",
              "  </thead>\n",
              "  <tbody>\n",
              "    <tr>\n",
              "      <th>0</th>\n",
              "      <td>1</td>\n",
              "      <td>James</td>\n",
              "      <td>Butt</td>\n",
              "      <td>44</td>\n",
              "      <td>8</td>\n",
              "      <td>2</td>\n",
              "      <td>4</td>\n",
              "      <td>10</td>\n",
              "      <td>8</td>\n",
              "      <td>high</td>\n",
              "    </tr>\n",
              "    <tr>\n",
              "      <th>1</th>\n",
              "      <td>2</td>\n",
              "      <td>Josephine</td>\n",
              "      <td>Darakjy</td>\n",
              "      <td>49</td>\n",
              "      <td>4</td>\n",
              "      <td>3</td>\n",
              "      <td>8</td>\n",
              "      <td>7</td>\n",
              "      <td>8</td>\n",
              "      <td>high</td>\n",
              "    </tr>\n",
              "    <tr>\n",
              "      <th>2</th>\n",
              "      <td>3</td>\n",
              "      <td>Art</td>\n",
              "      <td>Venere</td>\n",
              "      <td>70</td>\n",
              "      <td>3</td>\n",
              "      <td>3</td>\n",
              "      <td>1</td>\n",
              "      <td>7</td>\n",
              "      <td>5</td>\n",
              "      <td>low</td>\n",
              "    </tr>\n",
              "    <tr>\n",
              "      <th>3</th>\n",
              "      <td>4</td>\n",
              "      <td>Lenna</td>\n",
              "      <td>Paprocki</td>\n",
              "      <td>34</td>\n",
              "      <td>9</td>\n",
              "      <td>1</td>\n",
              "      <td>4</td>\n",
              "      <td>4</td>\n",
              "      <td>5</td>\n",
              "      <td>low</td>\n",
              "    </tr>\n",
              "    <tr>\n",
              "      <th>4</th>\n",
              "      <td>5</td>\n",
              "      <td>Donette</td>\n",
              "      <td>Foller</td>\n",
              "      <td>39</td>\n",
              "      <td>7</td>\n",
              "      <td>3</td>\n",
              "      <td>3</td>\n",
              "      <td>2</td>\n",
              "      <td>10</td>\n",
              "      <td>low</td>\n",
              "    </tr>\n",
              "  </tbody>\n",
              "</table>\n",
              "</div>"
            ],
            "text/plain": [
              "   Manager_ID First_Name Last_Mame  Age Time_Employed Num_Prev_Positions  \\\n",
              "0           1      James      Butt   44             8                  2   \n",
              "1           2  Josephine   Darakjy   49             4                  3   \n",
              "2           3        Art    Venere   70             3                  3   \n",
              "3           4      Lenna  Paprocki   34             9                  1   \n",
              "4           5    Donette    Foller   39             7                  3   \n",
              "\n",
              "   Teamwork  Motivation  Leadership Performance_Evaluation  \n",
              "0         4          10           8                   high  \n",
              "1         8           7           8                   high  \n",
              "2         1           7           5                    low  \n",
              "3         4           4           5                    low  \n",
              "4         3           2          10                    low  "
            ]
          },
          "execution_count": 2,
          "metadata": {},
          "output_type": "execute_result"
        }
      ],
      "source": [
        "df = pd.read_csv(\"/Users/lincolnwhiting/Git Portfolio/Datasets/manager_performance.csv\")\n",
        "df.head()"
      ]
    },
    {
      "cell_type": "code",
      "execution_count": 3,
      "metadata": {
        "id": "JbqK66BizO3A"
      },
      "outputs": [],
      "source": [
        "df = df.drop(columns = ['First_Name', 'Last_Mame', 'Age'])\n",
        "df = df.replace(['O'], [0])\n",
        "df = df.replace(['three', [3]])\n",
        "df = df.replace([100], [10])\n",
        "df = df.replace(['highgh'], ['high'])\n",
        "df = df.replace(['loow'], ['low'])\n",
        "df = df.set_index('Manager_ID')"
      ]
    },
    {
      "cell_type": "code",
      "execution_count": 4,
      "metadata": {
        "colab": {
          "base_uri": "https://localhost:8080/",
          "height": 1000
        },
        "id": "L0CCUWdkDTCn",
        "outputId": "abbcd889-ffd9-47e4-c06b-97831dfe4203"
      },
      "outputs": [
        {
          "data": {
            "text/html": [
              "<div>\n",
              "<style scoped>\n",
              "    .dataframe tbody tr th:only-of-type {\n",
              "        vertical-align: middle;\n",
              "    }\n",
              "\n",
              "    .dataframe tbody tr th {\n",
              "        vertical-align: top;\n",
              "    }\n",
              "\n",
              "    .dataframe thead th {\n",
              "        text-align: right;\n",
              "    }\n",
              "</style>\n",
              "<table border=\"1\" class=\"dataframe\">\n",
              "  <thead>\n",
              "    <tr style=\"text-align: right;\">\n",
              "      <th></th>\n",
              "      <th>Time_Employed</th>\n",
              "      <th>Num_Prev_Positions</th>\n",
              "      <th>Teamwork</th>\n",
              "      <th>Motivation</th>\n",
              "      <th>Leadership</th>\n",
              "      <th>Performance_Evaluation</th>\n",
              "    </tr>\n",
              "    <tr>\n",
              "      <th>Manager_ID</th>\n",
              "      <th></th>\n",
              "      <th></th>\n",
              "      <th></th>\n",
              "      <th></th>\n",
              "      <th></th>\n",
              "      <th></th>\n",
              "    </tr>\n",
              "  </thead>\n",
              "  <tbody>\n",
              "    <tr>\n",
              "      <th>1</th>\n",
              "      <td>8</td>\n",
              "      <td>2</td>\n",
              "      <td>4</td>\n",
              "      <td>10</td>\n",
              "      <td>8</td>\n",
              "      <td>high</td>\n",
              "    </tr>\n",
              "    <tr>\n",
              "      <th>2</th>\n",
              "      <td>4</td>\n",
              "      <td>3</td>\n",
              "      <td>8</td>\n",
              "      <td>7</td>\n",
              "      <td>8</td>\n",
              "      <td>high</td>\n",
              "    </tr>\n",
              "    <tr>\n",
              "      <th>2</th>\n",
              "      <td>3</td>\n",
              "      <td>3</td>\n",
              "      <td>1</td>\n",
              "      <td>7</td>\n",
              "      <td>5</td>\n",
              "      <td>low</td>\n",
              "    </tr>\n",
              "    <tr>\n",
              "      <th>4</th>\n",
              "      <td>9</td>\n",
              "      <td>1</td>\n",
              "      <td>4</td>\n",
              "      <td>4</td>\n",
              "      <td>5</td>\n",
              "      <td>low</td>\n",
              "    </tr>\n",
              "    <tr>\n",
              "      <th>5</th>\n",
              "      <td>7</td>\n",
              "      <td>3</td>\n",
              "      <td>4</td>\n",
              "      <td>2</td>\n",
              "      <td>10</td>\n",
              "      <td>low</td>\n",
              "    </tr>\n",
              "    <tr>\n",
              "      <th>6</th>\n",
              "      <td>1</td>\n",
              "      <td>2</td>\n",
              "      <td>9</td>\n",
              "      <td>1</td>\n",
              "      <td>9</td>\n",
              "      <td>low</td>\n",
              "    </tr>\n",
              "    <tr>\n",
              "      <th>7</th>\n",
              "      <td>11</td>\n",
              "      <td>2</td>\n",
              "      <td>6</td>\n",
              "      <td>9</td>\n",
              "      <td>10</td>\n",
              "      <td>high</td>\n",
              "    </tr>\n",
              "    <tr>\n",
              "      <th>8</th>\n",
              "      <td>6</td>\n",
              "      <td>3</td>\n",
              "      <td>6</td>\n",
              "      <td>8</td>\n",
              "      <td>6</td>\n",
              "      <td>high</td>\n",
              "    </tr>\n",
              "    <tr>\n",
              "      <th>9</th>\n",
              "      <td>12</td>\n",
              "      <td>2</td>\n",
              "      <td>2</td>\n",
              "      <td>8</td>\n",
              "      <td>4</td>\n",
              "      <td>low</td>\n",
              "    </tr>\n",
              "    <tr>\n",
              "      <th>10</th>\n",
              "      <td>6</td>\n",
              "      <td>3</td>\n",
              "      <td>10</td>\n",
              "      <td>9</td>\n",
              "      <td>7</td>\n",
              "      <td>high</td>\n",
              "    </tr>\n",
              "  </tbody>\n",
              "</table>\n",
              "</div>"
            ],
            "text/plain": [
              "           Time_Employed Num_Prev_Positions  Teamwork  Motivation  Leadership  \\\n",
              "Manager_ID                                                                      \n",
              "1                      8                  2         4          10           8   \n",
              "2                      4                  3         8           7           8   \n",
              "2                      3                  3         1           7           5   \n",
              "4                      9                  1         4           4           5   \n",
              "5                      7                  3         4           2          10   \n",
              "6                      1                  2         9           1           9   \n",
              "7                     11                  2         6           9          10   \n",
              "8                      6                  3         6           8           6   \n",
              "9                     12                  2         2           8           4   \n",
              "10                     6                  3        10           9           7   \n",
              "\n",
              "           Performance_Evaluation  \n",
              "Manager_ID                         \n",
              "1                            high  \n",
              "2                            high  \n",
              "2                             low  \n",
              "4                             low  \n",
              "5                             low  \n",
              "6                             low  \n",
              "7                            high  \n",
              "8                            high  \n",
              "9                             low  \n",
              "10                           high  "
            ]
          },
          "execution_count": 4,
          "metadata": {},
          "output_type": "execute_result"
        }
      ],
      "source": [
        "df.head(10)"
      ]
    },
    {
      "cell_type": "markdown",
      "metadata": {
        "id": "bBYpVmoM3qxn"
      },
      "source": [
        "### **Data Understanding:**\n"
      ]
    },
    {
      "cell_type": "markdown",
      "metadata": {
        "id": "lmBM-2wf41Be"
      },
      "source": [
        "**Produce a descriptive statistics table that excludes `Manager_ID` and groups by performance evaluation (i.e., high vs low). (*Hint: will need to use the groupby() and describe() functions*). Display below:**"
      ]
    },
    {
      "cell_type": "code",
      "execution_count": 5,
      "metadata": {
        "id": "2kwbBdHoC1jr"
      },
      "outputs": [],
      "source": [
        "df =pd.read_csv(\"/Users/lincolnwhiting/Git Portfolio/Datasets/manager_performance_clean.csv\")"
      ]
    },
    {
      "cell_type": "code",
      "execution_count": 6,
      "metadata": {
        "colab": {
          "base_uri": "https://localhost:8080/",
          "height": 394
        },
        "id": "4zYADlSh6CXF",
        "outputId": "d7a9bf35-4b54-48e4-8f5c-ebfa948d676f"
      },
      "outputs": [
        {
          "data": {
            "text/html": [
              "<div>\n",
              "<style scoped>\n",
              "    .dataframe tbody tr th:only-of-type {\n",
              "        vertical-align: middle;\n",
              "    }\n",
              "\n",
              "    .dataframe tbody tr th {\n",
              "        vertical-align: top;\n",
              "    }\n",
              "\n",
              "    .dataframe thead th {\n",
              "        text-align: right;\n",
              "    }\n",
              "</style>\n",
              "<table border=\"1\" class=\"dataframe\">\n",
              "  <thead>\n",
              "    <tr style=\"text-align: right;\">\n",
              "      <th></th>\n",
              "      <th></th>\n",
              "      <th>25%</th>\n",
              "      <th>50%</th>\n",
              "      <th>75%</th>\n",
              "      <th>count</th>\n",
              "      <th>max</th>\n",
              "      <th>mean</th>\n",
              "      <th>min</th>\n",
              "      <th>std</th>\n",
              "    </tr>\n",
              "    <tr>\n",
              "      <th>Performance_Evaluation</th>\n",
              "      <th></th>\n",
              "      <th></th>\n",
              "      <th></th>\n",
              "      <th></th>\n",
              "      <th></th>\n",
              "      <th></th>\n",
              "      <th></th>\n",
              "      <th></th>\n",
              "      <th></th>\n",
              "    </tr>\n",
              "  </thead>\n",
              "  <tbody>\n",
              "    <tr>\n",
              "      <th rowspan=\"5\" valign=\"top\">high</th>\n",
              "      <th>Leadership</th>\n",
              "      <td>5.0</td>\n",
              "      <td>7.0</td>\n",
              "      <td>9.0</td>\n",
              "      <td>313.0</td>\n",
              "      <td>10.0</td>\n",
              "      <td>6.738019</td>\n",
              "      <td>1.0</td>\n",
              "      <td>2.664172</td>\n",
              "    </tr>\n",
              "    <tr>\n",
              "      <th>Motivation</th>\n",
              "      <td>6.0</td>\n",
              "      <td>7.0</td>\n",
              "      <td>9.0</td>\n",
              "      <td>313.0</td>\n",
              "      <td>10.0</td>\n",
              "      <td>6.974441</td>\n",
              "      <td>1.0</td>\n",
              "      <td>2.373596</td>\n",
              "    </tr>\n",
              "    <tr>\n",
              "      <th>Num_Prev_Positions</th>\n",
              "      <td>1.0</td>\n",
              "      <td>2.0</td>\n",
              "      <td>3.0</td>\n",
              "      <td>313.0</td>\n",
              "      <td>3.0</td>\n",
              "      <td>1.942492</td>\n",
              "      <td>0.0</td>\n",
              "      <td>0.942183</td>\n",
              "    </tr>\n",
              "    <tr>\n",
              "      <th>Teamwork</th>\n",
              "      <td>5.0</td>\n",
              "      <td>7.0</td>\n",
              "      <td>9.0</td>\n",
              "      <td>313.0</td>\n",
              "      <td>10.0</td>\n",
              "      <td>6.805112</td>\n",
              "      <td>1.0</td>\n",
              "      <td>2.577710</td>\n",
              "    </tr>\n",
              "    <tr>\n",
              "      <th>Time_Employed</th>\n",
              "      <td>6.0</td>\n",
              "      <td>9.0</td>\n",
              "      <td>12.0</td>\n",
              "      <td>313.0</td>\n",
              "      <td>15.0</td>\n",
              "      <td>8.897764</td>\n",
              "      <td>0.0</td>\n",
              "      <td>4.138906</td>\n",
              "    </tr>\n",
              "    <tr>\n",
              "      <th rowspan=\"5\" valign=\"top\">low</th>\n",
              "      <th>Leadership</th>\n",
              "      <td>2.0</td>\n",
              "      <td>4.0</td>\n",
              "      <td>7.0</td>\n",
              "      <td>687.0</td>\n",
              "      <td>10.0</td>\n",
              "      <td>4.761281</td>\n",
              "      <td>1.0</td>\n",
              "      <td>2.813143</td>\n",
              "    </tr>\n",
              "    <tr>\n",
              "      <th>Motivation</th>\n",
              "      <td>2.0</td>\n",
              "      <td>4.0</td>\n",
              "      <td>7.0</td>\n",
              "      <td>687.0</td>\n",
              "      <td>10.0</td>\n",
              "      <td>4.605531</td>\n",
              "      <td>1.0</td>\n",
              "      <td>2.771707</td>\n",
              "    </tr>\n",
              "    <tr>\n",
              "      <th>Num_Prev_Positions</th>\n",
              "      <td>0.0</td>\n",
              "      <td>1.0</td>\n",
              "      <td>2.0</td>\n",
              "      <td>687.0</td>\n",
              "      <td>3.0</td>\n",
              "      <td>1.257642</td>\n",
              "      <td>0.0</td>\n",
              "      <td>1.139918</td>\n",
              "    </tr>\n",
              "    <tr>\n",
              "      <th>Teamwork</th>\n",
              "      <td>2.0</td>\n",
              "      <td>4.0</td>\n",
              "      <td>7.0</td>\n",
              "      <td>687.0</td>\n",
              "      <td>10.0</td>\n",
              "      <td>4.605531</td>\n",
              "      <td>1.0</td>\n",
              "      <td>2.724497</td>\n",
              "    </tr>\n",
              "    <tr>\n",
              "      <th>Time_Employed</th>\n",
              "      <td>3.0</td>\n",
              "      <td>6.0</td>\n",
              "      <td>11.0</td>\n",
              "      <td>687.0</td>\n",
              "      <td>15.0</td>\n",
              "      <td>6.783115</td>\n",
              "      <td>0.0</td>\n",
              "      <td>4.644926</td>\n",
              "    </tr>\n",
              "  </tbody>\n",
              "</table>\n",
              "</div>"
            ],
            "text/plain": [
              "                                           25%  50%   75%  count   max  \\\n",
              "Performance_Evaluation                                                   \n",
              "high                   Leadership          5.0  7.0   9.0  313.0  10.0   \n",
              "                       Motivation          6.0  7.0   9.0  313.0  10.0   \n",
              "                       Num_Prev_Positions  1.0  2.0   3.0  313.0   3.0   \n",
              "                       Teamwork            5.0  7.0   9.0  313.0  10.0   \n",
              "                       Time_Employed       6.0  9.0  12.0  313.0  15.0   \n",
              "low                    Leadership          2.0  4.0   7.0  687.0  10.0   \n",
              "                       Motivation          2.0  4.0   7.0  687.0  10.0   \n",
              "                       Num_Prev_Positions  0.0  1.0   2.0  687.0   3.0   \n",
              "                       Teamwork            2.0  4.0   7.0  687.0  10.0   \n",
              "                       Time_Employed       3.0  6.0  11.0  687.0  15.0   \n",
              "\n",
              "                                               mean  min       std  \n",
              "Performance_Evaluation                                              \n",
              "high                   Leadership          6.738019  1.0  2.664172  \n",
              "                       Motivation          6.974441  1.0  2.373596  \n",
              "                       Num_Prev_Positions  1.942492  0.0  0.942183  \n",
              "                       Teamwork            6.805112  1.0  2.577710  \n",
              "                       Time_Employed       8.897764  0.0  4.138906  \n",
              "low                    Leadership          4.761281  1.0  2.813143  \n",
              "                       Motivation          4.605531  1.0  2.771707  \n",
              "                       Num_Prev_Positions  1.257642  0.0  1.139918  \n",
              "                       Teamwork            4.605531  1.0  2.724497  \n",
              "                       Time_Employed       6.783115  0.0  4.644926  "
            ]
          },
          "execution_count": 6,
          "metadata": {},
          "output_type": "execute_result"
        }
      ],
      "source": [
        "df_stat = df.drop(columns=['Manager_ID'])\n",
        "df_stat = df_stat.groupby('Performance_Evaluation').describe().stack(0)\n",
        "df_stat"
      ]
    },
    {
      "cell_type": "markdown",
      "metadata": {
        "id": "ViZow_AD_AvS"
      },
      "source": [
        "**Our hypotheses:**"
      ]
    },
    {
      "cell_type": "markdown",
      "metadata": {
        "id": "KIvRcw1I_L86"
      },
      "source": [
        "1. People who have more previous positions tend to perform as managers better, because they have more experience solving business situations and a wider range of skillsets from past jobs.\n",
        "2. People with higher leadership rating will receive a higher performance evalutation because their leadership allows them to solve more problems, and people are more likely to respond to their decisions positvely."
      ]
    },
    {
      "cell_type": "markdown",
      "metadata": {
        "id": "AzkyaYh6BL9H"
      },
      "source": [
        "**Develop a data visualization that distinguishes between high-and low-performers in the dataset. Include a brief caption describing the figure.**"
      ]
    },
    {
      "cell_type": "code",
      "execution_count": 7,
      "metadata": {
        "colab": {
          "base_uri": "https://localhost:8080/",
          "height": 622
        },
        "id": "mpvn-KyIB3eq",
        "outputId": "21d6141e-52d0-4d04-af29-a2bf80511527"
      },
      "outputs": [
        {
          "data": {
            "text/plain": [
              "<function matplotlib.pyplot.show(close=None, block=None)>"
            ]
          },
          "execution_count": 7,
          "metadata": {},
          "output_type": "execute_result"
        },
        {
          "data": {
            "image/png": "[encoded data removed]",
            "text/plain": [
              "<Figure size 640x480 with 1 Axes>"
            ]
          },
          "metadata": {},
          "output_type": "display_data"
        }
      ],
      "source": [
        "category_average = df.groupby(by ='Performance_Evaluation').mean()\n",
        "category_average[\"Leadership\"]\n",
        "\n",
        "plt.bar(x=category_average.index.values, height=category_average[\"Leadership\"])\n",
        "plt.title(\"Average Leadership Score\")\n",
        "plt.show"
      ]
    },
    {
      "cell_type": "markdown",
      "metadata": {
        "id": "FUVWtYW1CqYk"
      },
      "source": [
        "Caption: This shows the difference between average leadership scores of the high performers vs the low performers."
      ]
    },
    {
      "cell_type": "markdown",
      "metadata": {
        "id": "cQEFe0OJDa1d"
      },
      "source": [
        "**Develop a correlation matrix that includes all candidate independent variables, then display the correlation matrix in a color-mapped table. Assume all variables are normally distributed and DO NOT require transformations.**"
      ]
    },
    {
      "cell_type": "code",
      "execution_count": 8,
      "metadata": {
        "colab": {
          "base_uri": "https://localhost:8080/",
          "height": 206
        },
        "id": "D3a6s5CrDqBu",
        "outputId": "c9ebcbb5-8fc6-4d22-dac9-0c24f7248007"
      },
      "outputs": [
        {
          "data": {
            "text/html": [
              "<style type=\"text/css\">\n",
              "#T_44569_row0_col0, #T_44569_row1_col1, #T_44569_row2_col2, #T_44569_row3_col3, #T_44569_row4_col4 {\n",
              "  background-color: #b40426;\n",
              "  color: #f1f1f1;\n",
              "}\n",
              "#T_44569_row0_col1, #T_44569_row1_col0 {\n",
              "  background-color: #e4d9d2;\n",
              "  color: #000000;\n",
              "}\n",
              "#T_44569_row0_col2, #T_44569_row2_col0 {\n",
              "  background-color: #d8dce2;\n",
              "  color: #000000;\n",
              "}\n",
              "#T_44569_row0_col3, #T_44569_row3_col0 {\n",
              "  background-color: #e1dad6;\n",
              "  color: #000000;\n",
              "}\n",
              "#T_44569_row0_col4, #T_44569_row1_col2, #T_44569_row1_col4, #T_44569_row2_col1, #T_44569_row3_col4, #T_44569_row4_col0, #T_44569_row4_col1, #T_44569_row4_col3 {\n",
              "  background-color: #d9dce1;\n",
              "  color: #000000;\n",
              "}\n",
              "#T_44569_row1_col3, #T_44569_row3_col1 {\n",
              "  background-color: #dedcdb;\n",
              "  color: #000000;\n",
              "}\n",
              "#T_44569_row2_col3, #T_44569_row3_col2 {\n",
              "  background-color: #dddcdc;\n",
              "  color: #000000;\n",
              "}\n",
              "#T_44569_row2_col4, #T_44569_row4_col2 {\n",
              "  background-color: #dbdcde;\n",
              "  color: #000000;\n",
              "}\n",
              "</style>\n",
              "<table id=\"T_44569\">\n",
              "  <thead>\n",
              "    <tr>\n",
              "      <th class=\"blank level0\" >&nbsp;</th>\n",
              "      <th id=\"T_44569_level0_col0\" class=\"col_heading level0 col0\" >Time_Employed</th>\n",
              "      <th id=\"T_44569_level0_col1\" class=\"col_heading level0 col1\" >Num_Prev_Positions</th>\n",
              "      <th id=\"T_44569_level0_col2\" class=\"col_heading level0 col2\" >Teamwork</th>\n",
              "      <th id=\"T_44569_level0_col3\" class=\"col_heading level0 col3\" >Motivation</th>\n",
              "      <th id=\"T_44569_level0_col4\" class=\"col_heading level0 col4\" >Leadership</th>\n",
              "    </tr>\n",
              "  </thead>\n",
              "  <tbody>\n",
              "    <tr>\n",
              "      <th id=\"T_44569_level0_row0\" class=\"row_heading level0 row0\" >Time_Employed</th>\n",
              "      <td id=\"T_44569_row0_col0\" class=\"data row0 col0\" >1.000000</td>\n",
              "      <td id=\"T_44569_row0_col1\" class=\"data row0 col1\" >0.060079</td>\n",
              "      <td id=\"T_44569_row0_col2\" class=\"data row0 col2\" >-0.034257</td>\n",
              "      <td id=\"T_44569_row0_col3\" class=\"data row0 col3\" >0.036908</td>\n",
              "      <td id=\"T_44569_row0_col4\" class=\"data row0 col4\" >-0.027508</td>\n",
              "    </tr>\n",
              "    <tr>\n",
              "      <th id=\"T_44569_level0_row1\" class=\"row_heading level0 row1\" >Num_Prev_Positions</th>\n",
              "      <td id=\"T_44569_row1_col0\" class=\"data row1 col0\" >0.060079</td>\n",
              "      <td id=\"T_44569_row1_col1\" class=\"data row1 col1\" >1.000000</td>\n",
              "      <td id=\"T_44569_row1_col2\" class=\"data row1 col2\" >-0.027816</td>\n",
              "      <td id=\"T_44569_row1_col3\" class=\"data row1 col3\" >0.011512</td>\n",
              "      <td id=\"T_44569_row1_col4\" class=\"data row1 col4\" >-0.028756</td>\n",
              "    </tr>\n",
              "    <tr>\n",
              "      <th id=\"T_44569_level0_row2\" class=\"row_heading level0 row2\" >Teamwork</th>\n",
              "      <td id=\"T_44569_row2_col0\" class=\"data row2 col0\" >-0.034257</td>\n",
              "      <td id=\"T_44569_row2_col1\" class=\"data row2 col1\" >-0.027816</td>\n",
              "      <td id=\"T_44569_row2_col2\" class=\"data row2 col2\" >1.000000</td>\n",
              "      <td id=\"T_44569_row2_col3\" class=\"data row2 col3\" >0.002309</td>\n",
              "      <td id=\"T_44569_row2_col4\" class=\"data row2 col4\" >-0.010993</td>\n",
              "    </tr>\n",
              "    <tr>\n",
              "      <th id=\"T_44569_level0_row3\" class=\"row_heading level0 row3\" >Motivation</th>\n",
              "      <td id=\"T_44569_row3_col0\" class=\"data row3 col0\" >0.036908</td>\n",
              "      <td id=\"T_44569_row3_col1\" class=\"data row3 col1\" >0.011512</td>\n",
              "      <td id=\"T_44569_row3_col2\" class=\"data row3 col2\" >0.002309</td>\n",
              "      <td id=\"T_44569_row3_col3\" class=\"data row3 col3\" >1.000000</td>\n",
              "      <td id=\"T_44569_row3_col4\" class=\"data row3 col4\" >-0.029894</td>\n",
              "    </tr>\n",
              "    <tr>\n",
              "      <th id=\"T_44569_level0_row4\" class=\"row_heading level0 row4\" >Leadership</th>\n",
              "      <td id=\"T_44569_row4_col0\" class=\"data row4 col0\" >-0.027508</td>\n",
              "      <td id=\"T_44569_row4_col1\" class=\"data row4 col1\" >-0.028756</td>\n",
              "      <td id=\"T_44569_row4_col2\" class=\"data row4 col2\" >-0.010993</td>\n",
              "      <td id=\"T_44569_row4_col3\" class=\"data row4 col3\" >-0.029894</td>\n",
              "      <td id=\"T_44569_row4_col4\" class=\"data row4 col4\" >1.000000</td>\n",
              "    </tr>\n",
              "  </tbody>\n",
              "</table>\n"
            ],
            "text/plain": [
              "<pandas.io.formats.style.Styler at 0x13f059250>"
            ]
          },
          "execution_count": 8,
          "metadata": {},
          "output_type": "execute_result"
        }
      ],
      "source": [
        "df = df.drop(columns = ['Manager_ID', 'Performance_Evaluation'])\n",
        "cor_matrix = df.corr()\n",
        "cor_matrix.style.background_gradient(cmap= 'coolwarm', axis=None, vmin = -1, vmax=1)"
      ]
    },
    {
      "cell_type": "markdown",
      "metadata": {
        "id": "JTaI-hEGFKfp"
      },
      "source": [
        "**Are there any variable pairs that are multicollinear based on a correlation coefficient value cut-off of 0.6? Explain your answer.**"
      ]
    },
    {
      "cell_type": "markdown",
      "metadata": {
        "id": "IaJF3i9lFTZo"
      },
      "source": [
        "None of the variables are multicollinear, because none fo them have a correlation coefficient value above 0.6."
      ]
    },
    {
      "cell_type": "markdown",
      "metadata": {
        "id": "MWDz1R0fFi2D"
      },
      "source": [
        "##  Unsupervised DM \n",
        "\n",
        "\n",
        "\n",
        "\n",
        "**Choose an appropriate and informative unsupervised data mining model. Think about what we're interested in figuring out with this manager performance dataset (performance evaluation) and how many classes we have for this variable. Change one parameter in your unsupervised analysis, based on this.**"
      ]
    },
    {
      "cell_type": "markdown",
      "metadata": {
        "id": "RhAGXXPuG5Pd"
      },
      "source": [
        "### **A**\n",
        "\n",
        "**Identify which model was selected and why. The why should focus on the types of data variables in the manager performance dataset. Also discuss any parameters changed in the model and why.**\n",
        "\n",
        "**Selected K means to better understand similar groups that are formed, specifically what traits high performers tend to have.**"
      ]
    },
    {
      "cell_type": "markdown",
      "metadata": {
        "id": "Sm2hrQxgHtdt"
      },
      "source": [
        "### **B**"
      ]
    },
    {
      "cell_type": "code",
      "execution_count": 9,
      "metadata": {
        "colab": {
          "base_uri": "https://localhost:8080/"
        },
        "id": "mRJoE1oRIFhF",
        "outputId": "577de12f-01e9-4d67-900e-916d5b321275"
      },
      "outputs": [
        {
          "name": "stdout",
          "output_type": "stream",
          "text": [
            "Requirement already satisfied: kneed in /Users/lincolnwhiting/anaconda3/lib/python3.11/site-packages (0.8.5)\n",
            "Requirement already satisfied: numpy>=1.14.2 in /Users/lincolnwhiting/anaconda3/lib/python3.11/site-packages (from kneed) (1.24.3)\n",
            "Requirement already satisfied: scipy>=1.0.0 in /Users/lincolnwhiting/anaconda3/lib/python3.11/site-packages (from kneed) (1.11.1)\n",
            "Note: you may need to restart the kernel to use updated packages.\n"
          ]
        }
      ],
      "source": [
        "df = pd.read_csv('/Users/lincolnwhiting/Git Portfolio/Datasets/manager_performance_clean.csv')\n",
        "%pip install kneed\n",
        "\n",
        "import matplotlib.pyplot as plt\n",
        "import pandas as pd\n",
        "import numpy as np\n",
        "from kneed import KneeLocator\n",
        "import sklearn.cluster\n",
        "from sklearn.cluster import KMeans\n",
        "from sklearn.metrics import silhouette_score\n",
        "from sklearn.preprocessing import StandardScaler"
      ]
    },
    {
      "cell_type": "code",
      "execution_count": 10,
      "metadata": {
        "colab": {
          "base_uri": "https://localhost:8080/",
          "height": 206
        },
        "id": "uWWSIADsfDGQ",
        "outputId": "f5e786d8-8f88-4cba-a002-b454f279aaab"
      },
      "outputs": [
        {
          "data": {
            "text/html": [
              "<div>\n",
              "<style scoped>\n",
              "    .dataframe tbody tr th:only-of-type {\n",
              "        vertical-align: middle;\n",
              "    }\n",
              "\n",
              "    .dataframe tbody tr th {\n",
              "        vertical-align: top;\n",
              "    }\n",
              "\n",
              "    .dataframe thead th {\n",
              "        text-align: right;\n",
              "    }\n",
              "</style>\n",
              "<table border=\"1\" class=\"dataframe\">\n",
              "  <thead>\n",
              "    <tr style=\"text-align: right;\">\n",
              "      <th></th>\n",
              "      <th>Manager_ID</th>\n",
              "      <th>Time_Employed</th>\n",
              "      <th>Num_Prev_Positions</th>\n",
              "      <th>Teamwork</th>\n",
              "      <th>Motivation</th>\n",
              "      <th>Leadership</th>\n",
              "      <th>Performance_Evaluation_low</th>\n",
              "    </tr>\n",
              "  </thead>\n",
              "  <tbody>\n",
              "    <tr>\n",
              "      <th>0</th>\n",
              "      <td>1</td>\n",
              "      <td>8</td>\n",
              "      <td>2</td>\n",
              "      <td>4</td>\n",
              "      <td>10</td>\n",
              "      <td>8</td>\n",
              "      <td>False</td>\n",
              "    </tr>\n",
              "    <tr>\n",
              "      <th>1</th>\n",
              "      <td>2</td>\n",
              "      <td>4</td>\n",
              "      <td>3</td>\n",
              "      <td>8</td>\n",
              "      <td>7</td>\n",
              "      <td>8</td>\n",
              "      <td>False</td>\n",
              "    </tr>\n",
              "    <tr>\n",
              "      <th>2</th>\n",
              "      <td>3</td>\n",
              "      <td>3</td>\n",
              "      <td>3</td>\n",
              "      <td>1</td>\n",
              "      <td>7</td>\n",
              "      <td>5</td>\n",
              "      <td>True</td>\n",
              "    </tr>\n",
              "    <tr>\n",
              "      <th>3</th>\n",
              "      <td>4</td>\n",
              "      <td>9</td>\n",
              "      <td>1</td>\n",
              "      <td>4</td>\n",
              "      <td>4</td>\n",
              "      <td>5</td>\n",
              "      <td>True</td>\n",
              "    </tr>\n",
              "    <tr>\n",
              "      <th>4</th>\n",
              "      <td>5</td>\n",
              "      <td>7</td>\n",
              "      <td>3</td>\n",
              "      <td>3</td>\n",
              "      <td>2</td>\n",
              "      <td>10</td>\n",
              "      <td>True</td>\n",
              "    </tr>\n",
              "  </tbody>\n",
              "</table>\n",
              "</div>"
            ],
            "text/plain": [
              "   Manager_ID  Time_Employed  Num_Prev_Positions  Teamwork  Motivation  \\\n",
              "0           1              8                   2         4          10   \n",
              "1           2              4                   3         8           7   \n",
              "2           3              3                   3         1           7   \n",
              "3           4              9                   1         4           4   \n",
              "4           5              7                   3         3           2   \n",
              "\n",
              "   Leadership  Performance_Evaluation_low  \n",
              "0           8                       False  \n",
              "1           8                       False  \n",
              "2           5                        True  \n",
              "3           5                        True  \n",
              "4          10                        True  "
            ]
          },
          "execution_count": 10,
          "metadata": {},
          "output_type": "execute_result"
        }
      ],
      "source": [
        "df = pd.get_dummies(df, ['Performance_Evaluation'], drop_first=True)\n",
        "df.head()"
      ]
    },
    {
      "cell_type": "code",
      "execution_count": 11,
      "metadata": {
        "colab": {
          "base_uri": "https://localhost:8080/",
          "height": 206
        },
        "id": "vzthU-RuhEJs",
        "outputId": "2c149e1d-f827-48ac-cba8-18d650a83cde"
      },
      "outputs": [
        {
          "data": {
            "text/html": [
              "<div>\n",
              "<style scoped>\n",
              "    .dataframe tbody tr th:only-of-type {\n",
              "        vertical-align: middle;\n",
              "    }\n",
              "\n",
              "    .dataframe tbody tr th {\n",
              "        vertical-align: top;\n",
              "    }\n",
              "\n",
              "    .dataframe thead th {\n",
              "        text-align: right;\n",
              "    }\n",
              "</style>\n",
              "<table border=\"1\" class=\"dataframe\">\n",
              "  <thead>\n",
              "    <tr style=\"text-align: right;\">\n",
              "      <th></th>\n",
              "      <th>Time_Employed</th>\n",
              "      <th>Num_Prev_Positions</th>\n",
              "      <th>Teamwork</th>\n",
              "      <th>Motivation</th>\n",
              "      <th>Leadership</th>\n",
              "    </tr>\n",
              "  </thead>\n",
              "  <tbody>\n",
              "    <tr>\n",
              "      <th>0</th>\n",
              "      <td>8</td>\n",
              "      <td>2</td>\n",
              "      <td>4</td>\n",
              "      <td>10</td>\n",
              "      <td>8</td>\n",
              "    </tr>\n",
              "    <tr>\n",
              "      <th>1</th>\n",
              "      <td>4</td>\n",
              "      <td>3</td>\n",
              "      <td>8</td>\n",
              "      <td>7</td>\n",
              "      <td>8</td>\n",
              "    </tr>\n",
              "    <tr>\n",
              "      <th>2</th>\n",
              "      <td>3</td>\n",
              "      <td>3</td>\n",
              "      <td>1</td>\n",
              "      <td>7</td>\n",
              "      <td>5</td>\n",
              "    </tr>\n",
              "    <tr>\n",
              "      <th>3</th>\n",
              "      <td>9</td>\n",
              "      <td>1</td>\n",
              "      <td>4</td>\n",
              "      <td>4</td>\n",
              "      <td>5</td>\n",
              "    </tr>\n",
              "    <tr>\n",
              "      <th>4</th>\n",
              "      <td>7</td>\n",
              "      <td>3</td>\n",
              "      <td>3</td>\n",
              "      <td>2</td>\n",
              "      <td>10</td>\n",
              "    </tr>\n",
              "  </tbody>\n",
              "</table>\n",
              "</div>"
            ],
            "text/plain": [
              "   Time_Employed  Num_Prev_Positions  Teamwork  Motivation  Leadership\n",
              "0              8                   2         4          10           8\n",
              "1              4                   3         8           7           8\n",
              "2              3                   3         1           7           5\n",
              "3              9                   1         4           4           5\n",
              "4              7                   3         3           2          10"
            ]
          },
          "execution_count": 11,
          "metadata": {},
          "output_type": "execute_result"
        }
      ],
      "source": [
        "features = df[[\"Time_Employed\", \"Num_Prev_Positions\", \"Teamwork\", \"Motivation\", \"Leadership\"]]\n",
        "features.head()"
      ]
    },
    {
      "cell_type": "code",
      "execution_count": 12,
      "metadata": {
        "colab": {
          "base_uri": "https://localhost:8080/"
        },
        "id": "JjweT4zwhUle",
        "outputId": "249cf492-96b3-45cf-9c09-c0946e05be70"
      },
      "outputs": [
        {
          "data": {
            "text/plain": [
              "array([[ 0.12080363,  0.46866892, -0.45173117,  1.62148164,  0.89952078],\n",
              "       [-0.74985316,  1.35629945,  0.94465575,  0.57603893,  0.89952078],\n",
              "       [-0.96751736,  1.35629945, -1.49902136,  0.57603893, -0.13046485],\n",
              "       ...,\n",
              "       [-0.96751736,  1.35629945,  0.24646229, -1.51484649, -1.50377901],\n",
              "       [-0.09686057, -0.41896161, -1.49902136, -0.12092287,  1.58617786],\n",
              "       [ 1.42678882, -1.30659214, -0.45173117, -0.46940378, -0.13046485]])"
            ]
          },
          "execution_count": 12,
          "metadata": {},
          "output_type": "execute_result"
        }
      ],
      "source": [
        "scaler = StandardScaler()\n",
        "scaled_features = scaler.fit_transform(features)\n",
        "scaled_features"
      ]
    },
    {
      "cell_type": "code",
      "execution_count": 13,
      "metadata": {
        "colab": {
          "base_uri": "https://localhost:8080/",
          "height": 449
        },
        "id": "44dIv7WSsfU7",
        "outputId": "17f87cec-1c56-4c11-9645-692855086ec2"
      },
      "outputs": [
        {
          "data": {
            "image/png": "[encoded data removed]",
            "text/plain": [
              "<Figure size 640x480 with 1 Axes>"
            ]
          },
          "metadata": {},
          "output_type": "display_data"
        }
      ],
      "source": [
        "kmeans_elbow = {\n",
        "    \"n_init\": 10,\n",
        "    \"max_iter\": 300,\n",
        "    \"random_state\": 42,\n",
        "} \n",
        "\n",
        "sse = [] \n",
        "\n",
        "for k in range(1,11): \n",
        "    kmeans = KMeans(n_clusters=k, **kmeans_elbow) \n",
        "    kmeans.fit(scaled_features) \n",
        "    sse.append(kmeans.inertia_) \n",
        "\n",
        "plt.plot(range(1,11), sse) \n",
        "plt.xticks(range(1,11)) \n",
        "plt.xlabel(\"Number of Clusters\") \n",
        "plt.ylabel(\"SSE\") \n",
        "plt.show()"
      ]
    },
    {
      "cell_type": "code",
      "execution_count": 14,
      "metadata": {
        "colab": {
          "base_uri": "https://localhost:8080/"
        },
        "id": "IeEpz5P2gIUg",
        "outputId": "da63e4d8-3766-4ee7-86a8-aa2c3a176186"
      },
      "outputs": [
        {
          "data": {
            "text/plain": [
              "3333.755635237622"
            ]
          },
          "execution_count": 14,
          "metadata": {},
          "output_type": "execute_result"
        }
      ],
      "source": [
        "kmeans = KMeans(\n",
        "    init=\"random\",\n",
        "    n_clusters = 4, \n",
        "    n_init = 10,\n",
        "    max_iter=300,\n",
        "    random_state=42,\n",
        ")\n",
        "\n",
        "\n",
        "kmeans.fit(scaled_features)\n",
        "kmeans.inertia_"
      ]
    },
    {
      "cell_type": "code",
      "execution_count": 15,
      "metadata": {
        "colab": {
          "base_uri": "https://localhost:8080/",
          "height": 175
        },
        "id": "vuTg6xjUgTLs",
        "outputId": "9810f259-1ced-42e5-83e5-f789732161e3"
      },
      "outputs": [
        {
          "data": {
            "text/html": [
              "<div>\n",
              "<style scoped>\n",
              "    .dataframe tbody tr th:only-of-type {\n",
              "        vertical-align: middle;\n",
              "    }\n",
              "\n",
              "    .dataframe tbody tr th {\n",
              "        vertical-align: top;\n",
              "    }\n",
              "\n",
              "    .dataframe thead th {\n",
              "        text-align: right;\n",
              "    }\n",
              "</style>\n",
              "<table border=\"1\" class=\"dataframe\">\n",
              "  <thead>\n",
              "    <tr style=\"text-align: right;\">\n",
              "      <th></th>\n",
              "      <th>Time_Employed</th>\n",
              "      <th>Num_Prev_Positions</th>\n",
              "      <th>Teamwork</th>\n",
              "      <th>Motivation</th>\n",
              "      <th>Leadership</th>\n",
              "    </tr>\n",
              "  </thead>\n",
              "  <tbody>\n",
              "    <tr>\n",
              "      <th>Cluster_0</th>\n",
              "      <td>-0.023399</td>\n",
              "      <td>0.346620</td>\n",
              "      <td>1.033385</td>\n",
              "      <td>-0.062843</td>\n",
              "      <td>-0.752748</td>\n",
              "    </tr>\n",
              "    <tr>\n",
              "      <th>Cluster_1</th>\n",
              "      <td>-0.051237</td>\n",
              "      <td>-0.895724</td>\n",
              "      <td>-0.672775</td>\n",
              "      <td>0.212341</td>\n",
              "      <td>-0.593733</td>\n",
              "    </tr>\n",
              "    <tr>\n",
              "      <th>Cluster_2</th>\n",
              "      <td>-0.245704</td>\n",
              "      <td>-0.497282</td>\n",
              "      <td>0.385074</td>\n",
              "      <td>-0.042771</td>\n",
              "      <td>1.049727</td>\n",
              "    </tr>\n",
              "    <tr>\n",
              "      <th>Cluster_3</th>\n",
              "      <td>0.325021</td>\n",
              "      <td>0.993022</td>\n",
              "      <td>-0.767131</td>\n",
              "      <td>-0.084595</td>\n",
              "      <td>0.120072</td>\n",
              "    </tr>\n",
              "  </tbody>\n",
              "</table>\n",
              "</div>"
            ],
            "text/plain": [
              "           Time_Employed  Num_Prev_Positions  Teamwork  Motivation  Leadership\n",
              "Cluster_0      -0.023399            0.346620  1.033385   -0.062843   -0.752748\n",
              "Cluster_1      -0.051237           -0.895724 -0.672775    0.212341   -0.593733\n",
              "Cluster_2      -0.245704           -0.497282  0.385074   -0.042771    1.049727\n",
              "Cluster_3       0.325021            0.993022 -0.767131   -0.084595    0.120072"
            ]
          },
          "execution_count": 15,
          "metadata": {},
          "output_type": "execute_result"
        }
      ],
      "source": [
        "centroids = kmeans.cluster_centers_\n",
        "\n",
        "centroid_table = pd.DataFrame(centroids,\n",
        "                              columns=[\"Time_Employed\", \"Num_Prev_Positions\", \"Teamwork\", \"Motivation\", \"Leadership\"],\n",
        "                              index=['Cluster_0', 'Cluster_1', 'Cluster_2', 'Cluster_3'])\n",
        "\n",
        "centroid_table"
      ]
    },
    {
      "cell_type": "code",
      "execution_count": 16,
      "metadata": {
        "colab": {
          "base_uri": "https://localhost:8080/",
          "height": 481
        },
        "id": "yZTeM3oFkZnh",
        "outputId": "8d0aa9e7-73c9-4719-b5ee-bb27d7ba3025"
      },
      "outputs": [
        {
          "data": {
            "image/png": "[encoded data removed]",
            "text/plain": [
              "<Figure size 640x480 with 1 Axes>"
            ]
          },
          "metadata": {},
          "output_type": "display_data"
        }
      ],
      "source": [
        "ax = centroid_table.plot()\n",
        "ax.set_xticks(range(0,len(centroid_table)))\n",
        "ax.set_xticklabels(centroid_table.index.values, rotation=90) \n",
        "plt.show()"
      ]
    },
    {
      "cell_type": "markdown",
      "metadata": {
        "id": "mD1IebXFn82s"
      },
      "source": [
        "**Results interpretation for ALL results generated in 2B**:\n",
        "* Cluster 0: Those with average  and motivation had lower leadership, but higher teamwork.\n",
        "* Cluster 1: Those with more previous presitions and leadership had lower teamwork skills.\n",
        "* Cluster 2: Those who ranked low leadership and teamwork, as well as less previous positions, had much higher motivation.\n",
        "* Cluster 3: Those with very low number of previous positions scored much higher in motivation and leadership.\n",
        "\n",
        "\n",
        "\n"
      ]
    },
    {
      "cell_type": "markdown",
      "metadata": {
        "id": "ICpWe-5zogky"
      },
      "source": [
        "### **C**"
      ]
    },
    {
      "cell_type": "code",
      "execution_count": 17,
      "metadata": {
        "colab": {
          "base_uri": "https://localhost:8080/",
          "height": 175
        },
        "id": "Tr2lRtn5i2zy",
        "outputId": "f72291f9-ee8e-4f2d-8147-b131ab4e5bd9"
      },
      "outputs": [
        {
          "data": {
            "text/html": [
              "<div>\n",
              "<style scoped>\n",
              "    .dataframe tbody tr th:only-of-type {\n",
              "        vertical-align: middle;\n",
              "    }\n",
              "\n",
              "    .dataframe tbody tr th {\n",
              "        vertical-align: top;\n",
              "    }\n",
              "\n",
              "    .dataframe thead th {\n",
              "        text-align: right;\n",
              "    }\n",
              "</style>\n",
              "<table border=\"1\" class=\"dataframe\">\n",
              "  <thead>\n",
              "    <tr style=\"text-align: right;\">\n",
              "      <th></th>\n",
              "      <th>Time_Employed</th>\n",
              "      <th>Num_Prev_Positions</th>\n",
              "      <th>Teamwork</th>\n",
              "      <th>Motivation</th>\n",
              "      <th>Leadership</th>\n",
              "    </tr>\n",
              "  </thead>\n",
              "  <tbody>\n",
              "    <tr>\n",
              "      <th>Cluster_0</th>\n",
              "      <td>7.337500</td>\n",
              "      <td>1.862500</td>\n",
              "      <td>8.254167</td>\n",
              "      <td>5.166667</td>\n",
              "      <td>3.187500</td>\n",
              "    </tr>\n",
              "    <tr>\n",
              "      <th>Cluster_1</th>\n",
              "      <td>7.209607</td>\n",
              "      <td>0.462882</td>\n",
              "      <td>3.366812</td>\n",
              "      <td>5.956332</td>\n",
              "      <td>3.650655</td>\n",
              "    </tr>\n",
              "    <tr>\n",
              "      <th>Cluster_2</th>\n",
              "      <td>6.316176</td>\n",
              "      <td>0.911765</td>\n",
              "      <td>6.397059</td>\n",
              "      <td>5.224265</td>\n",
              "      <td>8.437500</td>\n",
              "    </tr>\n",
              "    <tr>\n",
              "      <th>Cluster_3</th>\n",
              "      <td>8.938224</td>\n",
              "      <td>2.590734</td>\n",
              "      <td>3.096525</td>\n",
              "      <td>5.104247</td>\n",
              "      <td>5.729730</td>\n",
              "    </tr>\n",
              "  </tbody>\n",
              "</table>\n",
              "</div>"
            ],
            "text/plain": [
              "           Time_Employed  Num_Prev_Positions  Teamwork  Motivation  Leadership\n",
              "Cluster_0       7.337500            1.862500  8.254167    5.166667    3.187500\n",
              "Cluster_1       7.209607            0.462882  3.366812    5.956332    3.650655\n",
              "Cluster_2       6.316176            0.911765  6.397059    5.224265    8.437500\n",
              "Cluster_3       8.938224            2.590734  3.096525    5.104247    5.729730"
            ]
          },
          "execution_count": 17,
          "metadata": {},
          "output_type": "execute_result"
        }
      ],
      "source": [
        "unscaled = scaler.inverse_transform(centroids)\n",
        "unscaled_table = pd.DataFrame(unscaled, \n",
        "                              columns = [\"Time_Employed\", \"Num_Prev_Positions\", \"Teamwork\", \"Motivation\", \"Leadership\"], \n",
        "                              index =['Cluster_0', 'Cluster_1', 'Cluster_2', 'Cluster_3']) \n",
        "\n",
        "unscaled_table"
      ]
    },
    {
      "cell_type": "code",
      "execution_count": 18,
      "metadata": {
        "colab": {
          "base_uri": "https://localhost:8080/",
          "height": 503
        },
        "id": "HlsZH3SNphUv",
        "outputId": "5ef3667e-3689-4ce5-c36e-13ddcdbb741a"
      },
      "outputs": [
        {
          "data": {
            "image/png": "[encoded data removed]",
            "text/plain": [
              "<Figure size 640x480 with 1 Axes>"
            ]
          },
          "metadata": {},
          "output_type": "display_data"
        }
      ],
      "source": [
        "unscaled_table.plot(kind = 'bar', y = ['Teamwork', 'Motivation', 'Leadership','Time_Employed','Num_Prev_Positions'])\n",
        "plt.title(\"Performance Metrics\")\n",
        "plt.ylabel(\"Evaluation\")\n",
        "plt.show()"
      ]
    },
    {
      "cell_type": "markdown",
      "metadata": {
        "id": "83lbvhcg5eaJ"
      },
      "source": [
        "Those with highest time employed had lower teamwork scores on average (cluster_1,cluster_2)"
      ]
    },
    {
      "cell_type": "markdown",
      "metadata": {
        "id": "-zyqZKt8HYdX"
      },
      "source": [
        "## **Superviesd DM Technique 1**\n",
        "\n",
        "\n"
      ]
    },
    {
      "cell_type": "markdown",
      "metadata": {
        "id": "w2YziAmOMhoN"
      },
      "source": [
        "Following our clustering analysis, it is best to use decision trees for this dataset. A decision tree analysis ranks feature importance based on our DV (Performance_Evaluation). This will allow us to visualize the importance of candidate characteristics."
      ]
    },
    {
      "cell_type": "markdown",
      "metadata": {
        "id": "mbx5F5LaNA9H"
      },
      "source": [
        "## B"
      ]
    },
    {
      "cell_type": "code",
      "execution_count": 19,
      "metadata": {
        "id": "FRzdu6N3Yy2K"
      },
      "outputs": [],
      "source": [
        "df = pd.read_csv('/Users/lincolnwhiting/Git Portfolio/Datasets/manager_performance_clean.csv')\n",
        "import numpy as np\n",
        "import pandas as pd\n",
        "import matplotlib.pyplot as plt\n",
        "\n",
        "from sklearn.tree import DecisionTreeClassifier\n",
        "from sklearn.metrics import classification_report\n",
        "from sklearn.model_selection import KFold\n",
        "from sklearn.model_selection import train_test_split\n",
        "from sklearn.model_selection import cross_validate\n",
        "from sklearn.model_selection import cross_val_predict\n",
        "from sklearn.metrics import classification_report, confusion_matrix\n",
        "import sklearn.metrics as metrics \n",
        "\n",
        "\n",
        "from sklearn import tree \n",
        "\n",
        "import seaborn as sns\n",
        "import graphviz "
      ]
    },
    {
      "cell_type": "code",
      "execution_count": 20,
      "metadata": {
        "id": "G5m-oDq_YAxu"
      },
      "outputs": [],
      "source": [
        "x = df.drop(['Manager_ID', 'Performance_Evaluation'], axis=1)\n",
        "x = pd.get_dummies(data = x, drop_first = False)\n",
        "y = df['Performance_Evaluation']\n"
      ]
    },
    {
      "cell_type": "code",
      "execution_count": 21,
      "metadata": {
        "id": "dKrfCMMxYhEb"
      },
      "outputs": [],
      "source": [
        "x_train, x_test, y_train, y_test = train_test_split(\n",
        "    x, y, test_size = 0.2, random_state = 100)"
      ]
    },
    {
      "cell_type": "code",
      "execution_count": 22,
      "metadata": {
        "colab": {
          "base_uri": "https://localhost:8080/",
          "height": 75
        },
        "id": "7YBSeJqmZX9y",
        "outputId": "9e5780ec-f20e-4fe0-d538-94299cea9b87"
      },
      "outputs": [
        {
          "data": {
            "text/html": [
              "<style>#sk-container-id-1 {\n",
              "  /* Definition of color scheme common for light and dark mode */\n",
              "  --sklearn-color-text: black;\n",
              "  --sklearn-color-line: gray;\n",
              "  /* Definition of color scheme for unfitted estimators */\n",
              "  --sklearn-color-unfitted-level-0: #fff5e6;\n",
              "  --sklearn-color-unfitted-level-1: #f6e4d2;\n",
              "  --sklearn-color-unfitted-level-2: #ffe0b3;\n",
              "  --sklearn-color-unfitted-level-3: chocolate;\n",
              "  /* Definition of color scheme for fitted estimators */\n",
              "  --sklearn-color-fitted-level-0: #f0f8ff;\n",
              "  --sklearn-color-fitted-level-1: #d4ebff;\n",
              "  --sklearn-color-fitted-level-2: #b3dbfd;\n",
              "  --sklearn-color-fitted-level-3: cornflowerblue;\n",
              "\n",
              "  /* Specific color for light theme */\n",
              "  --sklearn-color-text-on-default-background: var(--sg-text-color, var(--theme-code-foreground, var(--jp-content-font-color1, black)));\n",
              "  --sklearn-color-background: var(--sg-background-color, var(--theme-background, var(--jp-layout-color0, white)));\n",
              "  --sklearn-color-border-box: var(--sg-text-color, var(--theme-code-foreground, var(--jp-content-font-color1, black)));\n",
              "  --sklearn-color-icon: #696969;\n",
              "\n",
              "  @media (prefers-color-scheme: dark) {\n",
              "    /* Redefinition of color scheme for dark theme */\n",
              "    --sklearn-color-text-on-default-background: var(--sg-text-color, var(--theme-code-foreground, var(--jp-content-font-color1, white)));\n",
              "    --sklearn-color-background: var(--sg-background-color, var(--theme-background, var(--jp-layout-color0, #111)));\n",
              "    --sklearn-color-border-box: var(--sg-text-color, var(--theme-code-foreground, var(--jp-content-font-color1, white)));\n",
              "    --sklearn-color-icon: #878787;\n",
              "  }\n",
              "}\n",
              "\n",
              "#sk-container-id-1 {\n",
              "  color: var(--sklearn-color-text);\n",
              "}\n",
              "\n",
              "#sk-container-id-1 pre {\n",
              "  padding: 0;\n",
              "}\n",
              "\n",
              "#sk-container-id-1 input.sk-hidden--visually {\n",
              "  border: 0;\n",
              "  clip: rect(1px 1px 1px 1px);\n",
              "  clip: rect(1px, 1px, 1px, 1px);\n",
              "  height: 1px;\n",
              "  margin: -1px;\n",
              "  overflow: hidden;\n",
              "  padding: 0;\n",
              "  position: absolute;\n",
              "  width: 1px;\n",
              "}\n",
              "\n",
              "#sk-container-id-1 div.sk-dashed-wrapped {\n",
              "  border: 1px dashed var(--sklearn-color-line);\n",
              "  margin: 0 0.4em 0.5em 0.4em;\n",
              "  box-sizing: border-box;\n",
              "  padding-bottom: 0.4em;\n",
              "  background-color: var(--sklearn-color-background);\n",
              "}\n",
              "\n",
              "#sk-container-id-1 div.sk-container {\n",
              "  /* jupyter's `normalize.less` sets `[hidden] { display: none; }`\n",
              "     but bootstrap.min.css set `[hidden] { display: none !important; }`\n",
              "     so we also need the `!important` here to be able to override the\n",
              "     default hidden behavior on the sphinx rendered scikit-learn.org.\n",
              "     See: https://github.com/scikit-learn/scikit-learn/issues/21755 */\n",
              "  display: inline-block !important;\n",
              "  position: relative;\n",
              "}\n",
              "\n",
              "#sk-container-id-1 div.sk-text-repr-fallback {\n",
              "  display: none;\n",
              "}\n",
              "\n",
              "div.sk-parallel-item,\n",
              "div.sk-serial,\n",
              "div.sk-item {\n",
              "  /* draw centered vertical line to link estimators */\n",
              "  background-image: linear-gradient(var(--sklearn-color-text-on-default-background), var(--sklearn-color-text-on-default-background));\n",
              "  background-size: 2px 100%;\n",
              "  background-repeat: no-repeat;\n",
              "  background-position: center center;\n",
              "}\n",
              "\n",
              "/* Parallel-specific style estimator block */\n",
              "\n",
              "#sk-container-id-1 div.sk-parallel-item::after {\n",
              "  content: \"\";\n",
              "  width: 100%;\n",
              "  border-bottom: 2px solid var(--sklearn-color-text-on-default-background);\n",
              "  flex-grow: 1;\n",
              "}\n",
              "\n",
              "#sk-container-id-1 div.sk-parallel {\n",
              "  display: flex;\n",
              "  align-items: stretch;\n",
              "  justify-content: center;\n",
              "  background-color: var(--sklearn-color-background);\n",
              "  position: relative;\n",
              "}\n",
              "\n",
              "#sk-container-id-1 div.sk-parallel-item {\n",
              "  display: flex;\n",
              "  flex-direction: column;\n",
              "}\n",
              "\n",
              "#sk-container-id-1 div.sk-parallel-item:first-child::after {\n",
              "  align-self: flex-end;\n",
              "  width: 50%;\n",
              "}\n",
              "\n",
              "#sk-container-id-1 div.sk-parallel-item:last-child::after {\n",
              "  align-self: flex-start;\n",
              "  width: 50%;\n",
              "}\n",
              "\n",
              "#sk-container-id-1 div.sk-parallel-item:only-child::after {\n",
              "  width: 0;\n",
              "}\n",
              "\n",
              "/* Serial-specific style estimator block */\n",
              "\n",
              "#sk-container-id-1 div.sk-serial {\n",
              "  display: flex;\n",
              "  flex-direction: column;\n",
              "  align-items: center;\n",
              "  background-color: var(--sklearn-color-background);\n",
              "  padding-right: 1em;\n",
              "  padding-left: 1em;\n",
              "}\n",
              "\n",
              "\n",
              "/* Toggleable style: style used for estimator/Pipeline/ColumnTransformer box that is\n",
              "clickable and can be expanded/collapsed.\n",
              "- Pipeline and ColumnTransformer use this feature and define the default style\n",
              "- Estimators will overwrite some part of the style using the `sk-estimator` class\n",
              "*/\n",
              "\n",
              "/* Pipeline and ColumnTransformer style (default) */\n",
              "\n",
              "#sk-container-id-1 div.sk-toggleable {\n",
              "  /* Default theme specific background. It is overwritten whether we have a\n",
              "  specific estimator or a Pipeline/ColumnTransformer */\n",
              "  background-color: var(--sklearn-color-background);\n",
              "}\n",
              "\n",
              "/* Toggleable label */\n",
              "#sk-container-id-1 label.sk-toggleable__label {\n",
              "  cursor: pointer;\n",
              "  display: block;\n",
              "  width: 100%;\n",
              "  margin-bottom: 0;\n",
              "  padding: 0.5em;\n",
              "  box-sizing: border-box;\n",
              "  text-align: center;\n",
              "}\n",
              "\n",
              "#sk-container-id-1 label.sk-toggleable__label-arrow:before {\n",
              "  /* Arrow on the left of the label */\n",
              "  content: \"▸\";\n",
              "  float: left;\n",
              "  margin-right: 0.25em;\n",
              "  color: var(--sklearn-color-icon);\n",
              "}\n",
              "\n",
              "#sk-container-id-1 label.sk-toggleable__label-arrow:hover:before {\n",
              "  color: var(--sklearn-color-text);\n",
              "}\n",
              "\n",
              "/* Toggleable content - dropdown */\n",
              "\n",
              "#sk-container-id-1 div.sk-toggleable__content {\n",
              "  max-height: 0;\n",
              "  max-width: 0;\n",
              "  overflow: hidden;\n",
              "  text-align: left;\n",
              "  /* unfitted */\n",
              "  background-color: var(--sklearn-color-unfitted-level-0);\n",
              "}\n",
              "\n",
              "#sk-container-id-1 div.sk-toggleable__content.fitted {\n",
              "  /* fitted */\n",
              "  background-color: var(--sklearn-color-fitted-level-0);\n",
              "}\n",
              "\n",
              "#sk-container-id-1 div.sk-toggleable__content pre {\n",
              "  margin: 0.2em;\n",
              "  border-radius: 0.25em;\n",
              "  color: var(--sklearn-color-text);\n",
              "  /* unfitted */\n",
              "  background-color: var(--sklearn-color-unfitted-level-0);\n",
              "}\n",
              "\n",
              "#sk-container-id-1 div.sk-toggleable__content.fitted pre {\n",
              "  /* unfitted */\n",
              "  background-color: var(--sklearn-color-fitted-level-0);\n",
              "}\n",
              "\n",
              "#sk-container-id-1 input.sk-toggleable__control:checked~div.sk-toggleable__content {\n",
              "  /* Expand drop-down */\n",
              "  max-height: 200px;\n",
              "  max-width: 100%;\n",
              "  overflow: auto;\n",
              "}\n",
              "\n",
              "#sk-container-id-1 input.sk-toggleable__control:checked~label.sk-toggleable__label-arrow:before {\n",
              "  content: \"▾\";\n",
              "}\n",
              "\n",
              "/* Pipeline/ColumnTransformer-specific style */\n",
              "\n",
              "#sk-container-id-1 div.sk-label input.sk-toggleable__control:checked~label.sk-toggleable__label {\n",
              "  color: var(--sklearn-color-text);\n",
              "  background-color: var(--sklearn-color-unfitted-level-2);\n",
              "}\n",
              "\n",
              "#sk-container-id-1 div.sk-label.fitted input.sk-toggleable__control:checked~label.sk-toggleable__label {\n",
              "  background-color: var(--sklearn-color-fitted-level-2);\n",
              "}\n",
              "\n",
              "/* Estimator-specific style */\n",
              "\n",
              "/* Colorize estimator box */\n",
              "#sk-container-id-1 div.sk-estimator input.sk-toggleable__control:checked~label.sk-toggleable__label {\n",
              "  /* unfitted */\n",
              "  background-color: var(--sklearn-color-unfitted-level-2);\n",
              "}\n",
              "\n",
              "#sk-container-id-1 div.sk-estimator.fitted input.sk-toggleable__control:checked~label.sk-toggleable__label {\n",
              "  /* fitted */\n",
              "  background-color: var(--sklearn-color-fitted-level-2);\n",
              "}\n",
              "\n",
              "#sk-container-id-1 div.sk-label label.sk-toggleable__label,\n",
              "#sk-container-id-1 div.sk-label label {\n",
              "  /* The background is the default theme color */\n",
              "  color: var(--sklearn-color-text-on-default-background);\n",
              "}\n",
              "\n",
              "/* On hover, darken the color of the background */\n",
              "#sk-container-id-1 div.sk-label:hover label.sk-toggleable__label {\n",
              "  color: var(--sklearn-color-text);\n",
              "  background-color: var(--sklearn-color-unfitted-level-2);\n",
              "}\n",
              "\n",
              "/* Label box, darken color on hover, fitted */\n",
              "#sk-container-id-1 div.sk-label.fitted:hover label.sk-toggleable__label.fitted {\n",
              "  color: var(--sklearn-color-text);\n",
              "  background-color: var(--sklearn-color-fitted-level-2);\n",
              "}\n",
              "\n",
              "/* Estimator label */\n",
              "\n",
              "#sk-container-id-1 div.sk-label label {\n",
              "  font-family: monospace;\n",
              "  font-weight: bold;\n",
              "  display: inline-block;\n",
              "  line-height: 1.2em;\n",
              "}\n",
              "\n",
              "#sk-container-id-1 div.sk-label-container {\n",
              "  text-align: center;\n",
              "}\n",
              "\n",
              "/* Estimator-specific */\n",
              "#sk-container-id-1 div.sk-estimator {\n",
              "  font-family: monospace;\n",
              "  border: 1px dotted var(--sklearn-color-border-box);\n",
              "  border-radius: 0.25em;\n",
              "  box-sizing: border-box;\n",
              "  margin-bottom: 0.5em;\n",
              "  /* unfitted */\n",
              "  background-color: var(--sklearn-color-unfitted-level-0);\n",
              "}\n",
              "\n",
              "#sk-container-id-1 div.sk-estimator.fitted {\n",
              "  /* fitted */\n",
              "  background-color: var(--sklearn-color-fitted-level-0);\n",
              "}\n",
              "\n",
              "/* on hover */\n",
              "#sk-container-id-1 div.sk-estimator:hover {\n",
              "  /* unfitted */\n",
              "  background-color: var(--sklearn-color-unfitted-level-2);\n",
              "}\n",
              "\n",
              "#sk-container-id-1 div.sk-estimator.fitted:hover {\n",
              "  /* fitted */\n",
              "  background-color: var(--sklearn-color-fitted-level-2);\n",
              "}\n",
              "\n",
              "/* Specification for estimator info (e.g. \"i\" and \"?\") */\n",
              "\n",
              "/* Common style for \"i\" and \"?\" */\n",
              "\n",
              ".sk-estimator-doc-link,\n",
              "a:link.sk-estimator-doc-link,\n",
              "a:visited.sk-estimator-doc-link {\n",
              "  float: right;\n",
              "  font-size: smaller;\n",
              "  line-height: 1em;\n",
              "  font-family: monospace;\n",
              "  background-color: var(--sklearn-color-background);\n",
              "  border-radius: 1em;\n",
              "  height: 1em;\n",
              "  width: 1em;\n",
              "  text-decoration: none !important;\n",
              "  margin-left: 1ex;\n",
              "  /* unfitted */\n",
              "  border: var(--sklearn-color-unfitted-level-1) 1pt solid;\n",
              "  color: var(--sklearn-color-unfitted-level-1);\n",
              "}\n",
              "\n",
              ".sk-estimator-doc-link.fitted,\n",
              "a:link.sk-estimator-doc-link.fitted,\n",
              "a:visited.sk-estimator-doc-link.fitted {\n",
              "  /* fitted */\n",
              "  border: var(--sklearn-color-fitted-level-1) 1pt solid;\n",
              "  color: var(--sklearn-color-fitted-level-1);\n",
              "}\n",
              "\n",
              "/* On hover */\n",
              "div.sk-estimator:hover .sk-estimator-doc-link:hover,\n",
              ".sk-estimator-doc-link:hover,\n",
              "div.sk-label-container:hover .sk-estimator-doc-link:hover,\n",
              ".sk-estimator-doc-link:hover {\n",
              "  /* unfitted */\n",
              "  background-color: var(--sklearn-color-unfitted-level-3);\n",
              "  color: var(--sklearn-color-background);\n",
              "  text-decoration: none;\n",
              "}\n",
              "\n",
              "div.sk-estimator.fitted:hover .sk-estimator-doc-link.fitted:hover,\n",
              ".sk-estimator-doc-link.fitted:hover,\n",
              "div.sk-label-container:hover .sk-estimator-doc-link.fitted:hover,\n",
              ".sk-estimator-doc-link.fitted:hover {\n",
              "  /* fitted */\n",
              "  background-color: var(--sklearn-color-fitted-level-3);\n",
              "  color: var(--sklearn-color-background);\n",
              "  text-decoration: none;\n",
              "}\n",
              "\n",
              "/* Span, style for the box shown on hovering the info icon */\n",
              ".sk-estimator-doc-link span {\n",
              "  display: none;\n",
              "  z-index: 9999;\n",
              "  position: relative;\n",
              "  font-weight: normal;\n",
              "  right: .2ex;\n",
              "  padding: .5ex;\n",
              "  margin: .5ex;\n",
              "  width: min-content;\n",
              "  min-width: 20ex;\n",
              "  max-width: 50ex;\n",
              "  color: var(--sklearn-color-text);\n",
              "  box-shadow: 2pt 2pt 4pt #999;\n",
              "  /* unfitted */\n",
              "  background: var(--sklearn-color-unfitted-level-0);\n",
              "  border: .5pt solid var(--sklearn-color-unfitted-level-3);\n",
              "}\n",
              "\n",
              ".sk-estimator-doc-link.fitted span {\n",
              "  /* fitted */\n",
              "  background: var(--sklearn-color-fitted-level-0);\n",
              "  border: var(--sklearn-color-fitted-level-3);\n",
              "}\n",
              "\n",
              ".sk-estimator-doc-link:hover span {\n",
              "  display: block;\n",
              "}\n",
              "\n",
              "/* \"?\"-specific style due to the `<a>` HTML tag */\n",
              "\n",
              "#sk-container-id-1 a.estimator_doc_link {\n",
              "  float: right;\n",
              "  font-size: 1rem;\n",
              "  line-height: 1em;\n",
              "  font-family: monospace;\n",
              "  background-color: var(--sklearn-color-background);\n",
              "  border-radius: 1rem;\n",
              "  height: 1rem;\n",
              "  width: 1rem;\n",
              "  text-decoration: none;\n",
              "  /* unfitted */\n",
              "  color: var(--sklearn-color-unfitted-level-1);\n",
              "  border: var(--sklearn-color-unfitted-level-1) 1pt solid;\n",
              "}\n",
              "\n",
              "#sk-container-id-1 a.estimator_doc_link.fitted {\n",
              "  /* fitted */\n",
              "  border: var(--sklearn-color-fitted-level-1) 1pt solid;\n",
              "  color: var(--sklearn-color-fitted-level-1);\n",
              "}\n",
              "\n",
              "/* On hover */\n",
              "#sk-container-id-1 a.estimator_doc_link:hover {\n",
              "  /* unfitted */\n",
              "  background-color: var(--sklearn-color-unfitted-level-3);\n",
              "  color: var(--sklearn-color-background);\n",
              "  text-decoration: none;\n",
              "}\n",
              "\n",
              "#sk-container-id-1 a.estimator_doc_link.fitted:hover {\n",
              "  /* fitted */\n",
              "  background-color: var(--sklearn-color-fitted-level-3);\n",
              "}\n",
              "</style><div id=\"sk-container-id-1\" class=\"sk-top-container\"><div class=\"sk-text-repr-fallback\"><pre>DecisionTreeClassifier(max_depth=9, min_samples_leaf=10, random_state=100)</pre><b>In a Jupyter environment, please rerun this cell to show the HTML representation or trust the notebook. <br />On GitHub, the HTML representation is unable to render, please try loading this page with nbviewer.org.</b></div><div class=\"sk-container\" hidden><div class=\"sk-item\"><div class=\"sk-estimator fitted sk-toggleable\"><input class=\"sk-toggleable__control sk-hidden--visually\" id=\"sk-estimator-id-1\" type=\"checkbox\" checked><label for=\"sk-estimator-id-1\" class=\"sk-toggleable__label fitted sk-toggleable__label-arrow fitted\">&nbsp;&nbsp;DecisionTreeClassifier<a class=\"sk-estimator-doc-link fitted\" rel=\"noreferrer\" target=\"_blank\" href=\"https://scikit-learn.org/1.4/modules/generated/sklearn.tree.DecisionTreeClassifier.html\">?<span>Documentation for DecisionTreeClassifier</span></a><span class=\"sk-estimator-doc-link fitted\">i<span>Fitted</span></span></label><div class=\"sk-toggleable__content fitted\"><pre>DecisionTreeClassifier(max_depth=9, min_samples_leaf=10, random_state=100)</pre></div> </div></div></div></div>"
            ],
            "text/plain": [
              "DecisionTreeClassifier(max_depth=9, min_samples_leaf=10, random_state=100)"
            ]
          },
          "execution_count": 22,
          "metadata": {},
          "output_type": "execute_result"
        }
      ],
      "source": [
        "model = DecisionTreeClassifier(criterion = \"gini\", random_state=100,\n",
        "                               max_depth=9, min_samples_leaf=10)\n",
        "\n",
        "model.fit(x_train, y_train) "
      ]
    },
    {
      "cell_type": "code",
      "execution_count": 23,
      "metadata": {
        "colab": {
          "base_uri": "https://localhost:8080/",
          "height": 1000
        },
        "id": "P1ITgWhwcmEV",
        "outputId": "85a7e48b-90f8-41dd-e8de-fc4a4c883e22"
      },
      "outputs": [
        {
          "data": {
            "image/svg+xml": [
              "<?xml version=\"1.0\" encoding=\"UTF-8\" standalone=\"no\"?>\n",
              "<!DOCTYPE svg PUBLIC \"-//W3C//DTD SVG 1.1//EN\"\n",
              " \"http://www.w3.org/Graphics/SVG/1.1/DTD/svg11.dtd\">\n",
              "<!-- Generated by graphviz version 12.2.1 (20241206.2353)\n",
              " -->\n",
              "<!-- Title: Tree Pages: 1 -->\n",
              "<svg width=\"2790pt\" height=\"909pt\"\n",
              " viewBox=\"0.00 0.00 2790.25 909.00\" xmlns=\"http://www.w3.org/2000/svg\" xmlns:xlink=\"http://www.w3.org/1999/xlink\">\n",
              "<g id=\"graph0\" class=\"graph\" transform=\"scale(1 1) rotate(0) translate(4 905)\">\n",
              "<title>Tree</title>\n",
              "<polygon fill=\"white\" stroke=\"none\" points=\"-4,4 -4,-905 2786.25,-905 2786.25,4 -4,4\"/>\n",
              "<!-- 0 -->\n",
              "<g id=\"node1\" class=\"node\">\n",
              "<title>0</title>\n",
              "<path fill=\"#91c9f1\" stroke=\"black\" d=\"M1160.5,-901C1160.5,-901 1060.5,-901 1060.5,-901 1054.5,-901 1048.5,-895 1048.5,-889 1048.5,-889 1048.5,-830 1048.5,-830 1048.5,-824 1054.5,-818 1060.5,-818 1060.5,-818 1160.5,-818 1160.5,-818 1166.5,-818 1172.5,-824 1172.5,-830 1172.5,-830 1172.5,-889 1172.5,-889 1172.5,-895 1166.5,-901 1160.5,-901\"/>\n",
              "<text text-anchor=\"start\" x=\"1062.5\" y=\"-883.7\" font-family=\"Helvetica,sans-Serif\" font-size=\"14.00\">Motivation ≤ 6.5</text>\n",
              "<text text-anchor=\"start\" x=\"1075.25\" y=\"-868.7\" font-family=\"Helvetica,sans-Serif\" font-size=\"14.00\">gini = 0.426</text>\n",
              "<text text-anchor=\"start\" x=\"1065.88\" y=\"-853.7\" font-family=\"Helvetica,sans-Serif\" font-size=\"14.00\">samples = 800</text>\n",
              "<text text-anchor=\"start\" x=\"1056.5\" y=\"-838.7\" font-family=\"Helvetica,sans-Serif\" font-size=\"14.00\">value = [246, 554]</text>\n",
              "<text text-anchor=\"start\" x=\"1077.12\" y=\"-823.7\" font-family=\"Helvetica,sans-Serif\" font-size=\"14.00\">class = low</text>\n",
              "</g>\n",
              "<!-- 1 -->\n",
              "<g id=\"node2\" class=\"node\">\n",
              "<title>1</title>\n",
              "<path fill=\"#62b1ea\" stroke=\"black\" d=\"M744.75,-782C744.75,-782 652.25,-782 652.25,-782 646.25,-782 640.25,-776 640.25,-770 640.25,-770 640.25,-711 640.25,-711 640.25,-705 646.25,-699 652.25,-699 652.25,-699 744.75,-699 744.75,-699 750.75,-699 756.75,-705 756.75,-711 756.75,-711 756.75,-770 756.75,-770 756.75,-776 750.75,-782 744.75,-782\"/>\n",
              "<text text-anchor=\"start\" x=\"650.5\" y=\"-764.7\" font-family=\"Helvetica,sans-Serif\" font-size=\"14.00\">Teamwork ≤ 4.5</text>\n",
              "<text text-anchor=\"start\" x=\"663.25\" y=\"-749.7\" font-family=\"Helvetica,sans-Serif\" font-size=\"14.00\">gini = 0.286</text>\n",
              "<text text-anchor=\"start\" x=\"653.88\" y=\"-734.7\" font-family=\"Helvetica,sans-Serif\" font-size=\"14.00\">samples = 486</text>\n",
              "<text text-anchor=\"start\" x=\"648.25\" y=\"-719.7\" font-family=\"Helvetica,sans-Serif\" font-size=\"14.00\">value = [84, 402]</text>\n",
              "<text text-anchor=\"start\" x=\"665.12\" y=\"-704.7\" font-family=\"Helvetica,sans-Serif\" font-size=\"14.00\">class = low</text>\n",
              "</g>\n",
              "<!-- 0&#45;&gt;1 -->\n",
              "<g id=\"edge1\" class=\"edge\">\n",
              "<title>0&#45;&gt;1</title>\n",
              "<path fill=\"none\" stroke=\"black\" d=\"M1048.37,-840.86C973.01,-819.46 846.35,-783.49 767.87,-761.2\"/>\n",
              "<polygon fill=\"black\" stroke=\"black\" points=\"769.16,-757.93 758.58,-758.56 767.24,-764.66 769.16,-757.93\"/>\n",
              "<text text-anchor=\"middle\" x=\"769.3\" y=\"-774.18\" font-family=\"Helvetica,sans-Serif\" font-size=\"14.00\">True</text>\n",
              "</g>\n",
              "<!-- 38 -->\n",
              "<g id=\"node39\" class=\"node\">\n",
              "<title>38</title>\n",
              "<path fill=\"#fdf7f3\" stroke=\"black\" d=\"M1571.5,-782C1571.5,-782 1471.5,-782 1471.5,-782 1465.5,-782 1459.5,-776 1459.5,-770 1459.5,-770 1459.5,-711 1459.5,-711 1459.5,-705 1465.5,-699 1471.5,-699 1471.5,-699 1571.5,-699 1571.5,-699 1577.5,-699 1583.5,-705 1583.5,-711 1583.5,-711 1583.5,-770 1583.5,-770 1583.5,-776 1577.5,-782 1571.5,-782\"/>\n",
              "<text text-anchor=\"start\" x=\"1473.5\" y=\"-764.7\" font-family=\"Helvetica,sans-Serif\" font-size=\"14.00\">Teamwork ≤ 4.5</text>\n",
              "<text text-anchor=\"start\" x=\"1486.25\" y=\"-749.7\" font-family=\"Helvetica,sans-Serif\" font-size=\"14.00\">gini = 0.499</text>\n",
              "<text text-anchor=\"start\" x=\"1476.88\" y=\"-734.7\" font-family=\"Helvetica,sans-Serif\" font-size=\"14.00\">samples = 314</text>\n",
              "<text text-anchor=\"start\" x=\"1467.5\" y=\"-719.7\" font-family=\"Helvetica,sans-Serif\" font-size=\"14.00\">value = [162, 152]</text>\n",
              "<text text-anchor=\"start\" x=\"1485.5\" y=\"-704.7\" font-family=\"Helvetica,sans-Serif\" font-size=\"14.00\">class = high</text>\n",
              "</g>\n",
              "<!-- 0&#45;&gt;38 -->\n",
              "<g id=\"edge38\" class=\"edge\">\n",
              "<title>0&#45;&gt;38</title>\n",
              "<path fill=\"none\" stroke=\"black\" d=\"M1172.92,-840.73C1246.92,-819.67 1370.04,-784.62 1448.41,-762.31\"/>\n",
              "<polygon fill=\"black\" stroke=\"black\" points=\"1449.05,-765.76 1457.71,-759.66 1447.13,-759.03 1449.05,-765.76\"/>\n",
              "<text text-anchor=\"middle\" x=\"1447\" y=\"-775.29\" font-family=\"Helvetica,sans-Serif\" font-size=\"14.00\">False</text>\n",
              "</g>\n",
              "<!-- 2 -->\n",
              "<g id=\"node3\" class=\"node\">\n",
              "<title>2</title>\n",
              "<path fill=\"#3e9fe6\" stroke=\"black\" d=\"M259.5,-663C259.5,-663 171.5,-663 171.5,-663 165.5,-663 159.5,-657 159.5,-651 159.5,-651 159.5,-592 159.5,-592 159.5,-586 165.5,-580 171.5,-580 171.5,-580 259.5,-580 259.5,-580 265.5,-580 271.5,-586 271.5,-592 271.5,-592 271.5,-651 271.5,-651 271.5,-657 265.5,-663 259.5,-663\"/>\n",
              "<text text-anchor=\"start\" x=\"167.5\" y=\"-645.7\" font-family=\"Helvetica,sans-Serif\" font-size=\"14.00\">Motivation ≤ 4.5</text>\n",
              "<text text-anchor=\"start\" x=\"180.25\" y=\"-630.7\" font-family=\"Helvetica,sans-Serif\" font-size=\"14.00\">gini = 0.048</text>\n",
              "<text text-anchor=\"start\" x=\"170.88\" y=\"-615.7\" font-family=\"Helvetica,sans-Serif\" font-size=\"14.00\">samples = 203</text>\n",
              "<text text-anchor=\"start\" x=\"169\" y=\"-600.7\" font-family=\"Helvetica,sans-Serif\" font-size=\"14.00\">value = [5, 198]</text>\n",
              "<text text-anchor=\"start\" x=\"182.12\" y=\"-585.7\" font-family=\"Helvetica,sans-Serif\" font-size=\"14.00\">class = low</text>\n",
              "</g>\n",
              "<!-- 1&#45;&gt;2 -->\n",
              "<g id=\"edge2\" class=\"edge\">\n",
              "<title>1&#45;&gt;2</title>\n",
              "<path fill=\"none\" stroke=\"black\" d=\"M639.76,-725.27C549.68,-703.45 377.89,-661.84 282.88,-638.82\"/>\n",
              "<polygon fill=\"black\" stroke=\"black\" points=\"283.98,-635.49 273.44,-636.53 282.33,-642.29 283.98,-635.49\"/>\n",
              "</g>\n",
              "<!-- 7 -->\n",
              "<g id=\"node8\" class=\"node\">\n",
              "<title>7</title>\n",
              "<path fill=\"#86c3ef\" stroke=\"black\" d=\"M744.75,-663C744.75,-663 652.25,-663 652.25,-663 646.25,-663 640.25,-657 640.25,-651 640.25,-651 640.25,-592 640.25,-592 640.25,-586 646.25,-580 652.25,-580 652.25,-580 744.75,-580 744.75,-580 750.75,-580 756.75,-586 756.75,-592 756.75,-592 756.75,-651 756.75,-651 756.75,-657 750.75,-663 744.75,-663\"/>\n",
              "<text text-anchor=\"start\" x=\"648.25\" y=\"-645.7\" font-family=\"Helvetica,sans-Serif\" font-size=\"14.00\">Leadership ≤ 6.5</text>\n",
              "<text text-anchor=\"start\" x=\"663.25\" y=\"-630.7\" font-family=\"Helvetica,sans-Serif\" font-size=\"14.00\">gini = 0.402</text>\n",
              "<text text-anchor=\"start\" x=\"653.88\" y=\"-615.7\" font-family=\"Helvetica,sans-Serif\" font-size=\"14.00\">samples = 283</text>\n",
              "<text text-anchor=\"start\" x=\"648.25\" y=\"-600.7\" font-family=\"Helvetica,sans-Serif\" font-size=\"14.00\">value = [79, 204]</text>\n",
              "<text text-anchor=\"start\" x=\"665.12\" y=\"-585.7\" font-family=\"Helvetica,sans-Serif\" font-size=\"14.00\">class = low</text>\n",
              "</g>\n",
              "<!-- 1&#45;&gt;7 -->\n",
              "<g id=\"edge7\" class=\"edge\">\n",
              "<title>1&#45;&gt;7</title>\n",
              "<path fill=\"none\" stroke=\"black\" d=\"M698.5,-698.58C698.5,-690.79 698.5,-682.53 698.5,-674.45\"/>\n",
              "<polygon fill=\"black\" stroke=\"black\" points=\"702,-674.71 698.5,-664.71 695,-674.71 702,-674.71\"/>\n",
              "</g>\n",
              "<!-- 3 -->\n",
              "<g id=\"node4\" class=\"node\">\n",
              "<title>3</title>\n",
              "<path fill=\"#399de5\" stroke=\"black\" d=\"M97,-536.5C97,-536.5 12,-536.5 12,-536.5 6,-536.5 0,-530.5 0,-524.5 0,-524.5 0,-480.5 0,-480.5 0,-474.5 6,-468.5 12,-468.5 12,-468.5 97,-468.5 97,-468.5 103,-468.5 109,-474.5 109,-480.5 109,-480.5 109,-524.5 109,-524.5 109,-530.5 103,-536.5 97,-536.5\"/>\n",
              "<text text-anchor=\"start\" x=\"26.75\" y=\"-519.2\" font-family=\"Helvetica,sans-Serif\" font-size=\"14.00\">gini = 0.0</text>\n",
              "<text text-anchor=\"start\" x=\"9.88\" y=\"-504.2\" font-family=\"Helvetica,sans-Serif\" font-size=\"14.00\">samples = 146</text>\n",
              "<text text-anchor=\"start\" x=\"8\" y=\"-489.2\" font-family=\"Helvetica,sans-Serif\" font-size=\"14.00\">value = [0, 146]</text>\n",
              "<text text-anchor=\"start\" x=\"21.12\" y=\"-474.2\" font-family=\"Helvetica,sans-Serif\" font-size=\"14.00\">class = low</text>\n",
              "</g>\n",
              "<!-- 2&#45;&gt;3 -->\n",
              "<g id=\"edge3\" class=\"edge\">\n",
              "<title>2&#45;&gt;3</title>\n",
              "<path fill=\"none\" stroke=\"black\" d=\"M159.19,-579.58C143.12,-567.9 125.63,-555.19 109.63,-543.57\"/>\n",
              "<polygon fill=\"black\" stroke=\"black\" points=\"111.78,-540.8 101.63,-537.75 107.66,-546.46 111.78,-540.8\"/>\n",
              "</g>\n",
              "<!-- 4 -->\n",
              "<g id=\"node5\" class=\"node\">\n",
              "<title>4</title>\n",
              "<path fill=\"#4ca6e8\" stroke=\"black\" d=\"M291.75,-544C291.75,-544 139.25,-544 139.25,-544 133.25,-544 127.25,-538 127.25,-532 127.25,-532 127.25,-473 127.25,-473 127.25,-467 133.25,-461 139.25,-461 139.25,-461 291.75,-461 291.75,-461 297.75,-461 303.75,-467 303.75,-473 303.75,-473 303.75,-532 303.75,-532 303.75,-538 297.75,-544 291.75,-544\"/>\n",
              "<text text-anchor=\"start\" x=\"135.25\" y=\"-526.7\" font-family=\"Helvetica,sans-Serif\" font-size=\"14.00\">Num_Prev_Positions ≤ 2.5</text>\n",
              "<text text-anchor=\"start\" x=\"184\" y=\"-511.7\" font-family=\"Helvetica,sans-Serif\" font-size=\"14.00\">gini = 0.16</text>\n",
              "<text text-anchor=\"start\" x=\"174.62\" y=\"-496.7\" font-family=\"Helvetica,sans-Serif\" font-size=\"14.00\">samples = 57</text>\n",
              "<text text-anchor=\"start\" x=\"172.75\" y=\"-481.7\" font-family=\"Helvetica,sans-Serif\" font-size=\"14.00\">value = [5, 52]</text>\n",
              "<text text-anchor=\"start\" x=\"182.12\" y=\"-466.7\" font-family=\"Helvetica,sans-Serif\" font-size=\"14.00\">class = low</text>\n",
              "</g>\n",
              "<!-- 2&#45;&gt;4 -->\n",
              "<g id=\"edge4\" class=\"edge\">\n",
              "<title>2&#45;&gt;4</title>\n",
              "<path fill=\"none\" stroke=\"black\" d=\"M215.5,-579.58C215.5,-571.79 215.5,-563.53 215.5,-555.45\"/>\n",
              "<polygon fill=\"black\" stroke=\"black\" points=\"219,-555.71 215.5,-545.71 212,-555.71 219,-555.71\"/>\n",
              "</g>\n",
              "<!-- 5 -->\n",
              "<g id=\"node6\" class=\"node\">\n",
              "<title>5</title>\n",
              "<path fill=\"#399de5\" stroke=\"black\" d=\"M134.25,-417.5C134.25,-417.5 56.75,-417.5 56.75,-417.5 50.75,-417.5 44.75,-411.5 44.75,-405.5 44.75,-405.5 44.75,-361.5 44.75,-361.5 44.75,-355.5 50.75,-349.5 56.75,-349.5 56.75,-349.5 134.25,-349.5 134.25,-349.5 140.25,-349.5 146.25,-355.5 146.25,-361.5 146.25,-361.5 146.25,-405.5 146.25,-405.5 146.25,-411.5 140.25,-417.5 134.25,-417.5\"/>\n",
              "<text text-anchor=\"start\" x=\"67.75\" y=\"-400.2\" font-family=\"Helvetica,sans-Serif\" font-size=\"14.00\">gini = 0.0</text>\n",
              "<text text-anchor=\"start\" x=\"54.62\" y=\"-385.2\" font-family=\"Helvetica,sans-Serif\" font-size=\"14.00\">samples = 40</text>\n",
              "<text text-anchor=\"start\" x=\"52.75\" y=\"-370.2\" font-family=\"Helvetica,sans-Serif\" font-size=\"14.00\">value = [0, 40]</text>\n",
              "<text text-anchor=\"start\" x=\"62.12\" y=\"-355.2\" font-family=\"Helvetica,sans-Serif\" font-size=\"14.00\">class = low</text>\n",
              "</g>\n",
              "<!-- 4&#45;&gt;5 -->\n",
              "<g id=\"edge5\" class=\"edge\">\n",
              "<title>4&#45;&gt;5</title>\n",
              "<path fill=\"none\" stroke=\"black\" d=\"M173.53,-460.58C162,-449.34 149.49,-437.14 137.93,-425.87\"/>\n",
              "<polygon fill=\"black\" stroke=\"black\" points=\"140.4,-423.39 130.8,-418.92 135.52,-428.4 140.4,-423.39\"/>\n",
              "</g>\n",
              "<!-- 6 -->\n",
              "<g id=\"node7\" class=\"node\">\n",
              "<title>6</title>\n",
              "<path fill=\"#8bc6f0\" stroke=\"black\" d=\"M254.25,-417.5C254.25,-417.5 176.75,-417.5 176.75,-417.5 170.75,-417.5 164.75,-411.5 164.75,-405.5 164.75,-405.5 164.75,-361.5 164.75,-361.5 164.75,-355.5 170.75,-349.5 176.75,-349.5 176.75,-349.5 254.25,-349.5 254.25,-349.5 260.25,-349.5 266.25,-355.5 266.25,-361.5 266.25,-361.5 266.25,-405.5 266.25,-405.5 266.25,-411.5 260.25,-417.5 254.25,-417.5\"/>\n",
              "<text text-anchor=\"start\" x=\"180.25\" y=\"-400.2\" font-family=\"Helvetica,sans-Serif\" font-size=\"14.00\">gini = 0.415</text>\n",
              "<text text-anchor=\"start\" x=\"174.62\" y=\"-385.2\" font-family=\"Helvetica,sans-Serif\" font-size=\"14.00\">samples = 17</text>\n",
              "<text text-anchor=\"start\" x=\"172.75\" y=\"-370.2\" font-family=\"Helvetica,sans-Serif\" font-size=\"14.00\">value = [5, 12]</text>\n",
              "<text text-anchor=\"start\" x=\"182.12\" y=\"-355.2\" font-family=\"Helvetica,sans-Serif\" font-size=\"14.00\">class = low</text>\n",
              "</g>\n",
              "<!-- 4&#45;&gt;6 -->\n",
              "<g id=\"edge6\" class=\"edge\">\n",
              "<title>4&#45;&gt;6</title>\n",
              "<path fill=\"none\" stroke=\"black\" d=\"M215.5,-460.58C215.5,-450.43 215.5,-439.5 215.5,-429.18\"/>\n",
              "<polygon fill=\"black\" stroke=\"black\" points=\"219,-429.37 215.5,-419.37 212,-429.37 219,-429.37\"/>\n",
              "</g>\n",
              "<!-- 8 -->\n",
              "<g id=\"node9\" class=\"node\">\n",
              "<title>8</title>\n",
              "<path fill=\"#58ace9\" stroke=\"black\" d=\"M643.75,-544C643.75,-544 491.25,-544 491.25,-544 485.25,-544 479.25,-538 479.25,-532 479.25,-532 479.25,-473 479.25,-473 479.25,-467 485.25,-461 491.25,-461 491.25,-461 643.75,-461 643.75,-461 649.75,-461 655.75,-467 655.75,-473 655.75,-473 655.75,-532 655.75,-532 655.75,-538 649.75,-544 643.75,-544\"/>\n",
              "<text text-anchor=\"start\" x=\"487.25\" y=\"-526.7\" font-family=\"Helvetica,sans-Serif\" font-size=\"14.00\">Num_Prev_Positions ≤ 1.5</text>\n",
              "<text text-anchor=\"start\" x=\"532.25\" y=\"-511.7\" font-family=\"Helvetica,sans-Serif\" font-size=\"14.00\">gini = 0.233</text>\n",
              "<text text-anchor=\"start\" x=\"522.88\" y=\"-496.7\" font-family=\"Helvetica,sans-Serif\" font-size=\"14.00\">samples = 178</text>\n",
              "<text text-anchor=\"start\" x=\"517.25\" y=\"-481.7\" font-family=\"Helvetica,sans-Serif\" font-size=\"14.00\">value = [24, 154]</text>\n",
              "<text text-anchor=\"start\" x=\"534.12\" y=\"-466.7\" font-family=\"Helvetica,sans-Serif\" font-size=\"14.00\">class = low</text>\n",
              "</g>\n",
              "<!-- 7&#45;&gt;8 -->\n",
              "<g id=\"edge8\" class=\"edge\">\n",
              "<title>7&#45;&gt;8</title>\n",
              "<path fill=\"none\" stroke=\"black\" d=\"M652.68,-579.58C642.65,-570.62 631.94,-561.06 621.62,-551.84\"/>\n",
              "<polygon fill=\"black\" stroke=\"black\" points=\"623.99,-549.26 614.2,-545.21 619.33,-554.48 623.99,-549.26\"/>\n",
              "</g>\n",
              "<!-- 23 -->\n",
              "<g id=\"node24\" class=\"node\">\n",
              "<title>23</title>\n",
              "<path fill=\"#fdf4ed\" stroke=\"black\" d=\"M919.75,-544C919.75,-544 767.25,-544 767.25,-544 761.25,-544 755.25,-538 755.25,-532 755.25,-532 755.25,-473 755.25,-473 755.25,-467 761.25,-461 767.25,-461 767.25,-461 919.75,-461 919.75,-461 925.75,-461 931.75,-467 931.75,-473 931.75,-473 931.75,-532 931.75,-532 931.75,-538 925.75,-544 919.75,-544\"/>\n",
              "<text text-anchor=\"start\" x=\"763.25\" y=\"-526.7\" font-family=\"Helvetica,sans-Serif\" font-size=\"14.00\">Num_Prev_Positions ≤ 0.5</text>\n",
              "<text text-anchor=\"start\" x=\"808.25\" y=\"-511.7\" font-family=\"Helvetica,sans-Serif\" font-size=\"14.00\">gini = 0.499</text>\n",
              "<text text-anchor=\"start\" x=\"798.88\" y=\"-496.7\" font-family=\"Helvetica,sans-Serif\" font-size=\"14.00\">samples = 105</text>\n",
              "<text text-anchor=\"start\" x=\"797\" y=\"-481.7\" font-family=\"Helvetica,sans-Serif\" font-size=\"14.00\">value = [55, 50]</text>\n",
              "<text text-anchor=\"start\" x=\"807.5\" y=\"-466.7\" font-family=\"Helvetica,sans-Serif\" font-size=\"14.00\">class = high</text>\n",
              "</g>\n",
              "<!-- 7&#45;&gt;23 -->\n",
              "<g id=\"edge23\" class=\"edge\">\n",
              "<title>7&#45;&gt;23</title>\n",
              "<path fill=\"none\" stroke=\"black\" d=\"M749.21,-579.58C760.54,-570.44 772.64,-560.67 784.28,-551.29\"/>\n",
              "<polygon fill=\"black\" stroke=\"black\" points=\"786.3,-554.15 791.88,-545.15 781.9,-548.71 786.3,-554.15\"/>\n",
              "</g>\n",
              "<!-- 9 -->\n",
              "<g id=\"node10\" class=\"node\">\n",
              "<title>9</title>\n",
              "<path fill=\"#3b9ee5\" stroke=\"black\" d=\"M388.75,-425C388.75,-425 296.25,-425 296.25,-425 290.25,-425 284.25,-419 284.25,-413 284.25,-413 284.25,-354 284.25,-354 284.25,-348 290.25,-342 296.25,-342 296.25,-342 388.75,-342 388.75,-342 394.75,-342 400.75,-348 400.75,-354 400.75,-354 400.75,-413 400.75,-413 400.75,-419 394.75,-425 388.75,-425\"/>\n",
              "<text text-anchor=\"start\" x=\"292.25\" y=\"-407.7\" font-family=\"Helvetica,sans-Serif\" font-size=\"14.00\">Leadership ≤ 4.5</text>\n",
              "<text text-anchor=\"start\" x=\"307.25\" y=\"-392.7\" font-family=\"Helvetica,sans-Serif\" font-size=\"14.00\">gini = 0.021</text>\n",
              "<text text-anchor=\"start\" x=\"301.62\" y=\"-377.7\" font-family=\"Helvetica,sans-Serif\" font-size=\"14.00\">samples = 93</text>\n",
              "<text text-anchor=\"start\" x=\"299.75\" y=\"-362.7\" font-family=\"Helvetica,sans-Serif\" font-size=\"14.00\">value = [1, 92]</text>\n",
              "<text text-anchor=\"start\" x=\"309.12\" y=\"-347.7\" font-family=\"Helvetica,sans-Serif\" font-size=\"14.00\">class = low</text>\n",
              "</g>\n",
              "<!-- 8&#45;&gt;9 -->\n",
              "<g id=\"edge9\" class=\"edge\">\n",
              "<title>8&#45;&gt;9</title>\n",
              "<path fill=\"none\" stroke=\"black\" d=\"M488.81,-460.58C463.41,-447.37 435.48,-432.85 410.89,-420.07\"/>\n",
              "<polygon fill=\"black\" stroke=\"black\" points=\"412.77,-417.09 402.28,-415.59 409.54,-423.3 412.77,-417.09\"/>\n",
              "</g>\n",
              "<!-- 14 -->\n",
              "<g id=\"node15\" class=\"node\">\n",
              "<title>14</title>\n",
              "<path fill=\"#82c1ef\" stroke=\"black\" d=\"M611.5,-425C611.5,-425 523.5,-425 523.5,-425 517.5,-425 511.5,-419 511.5,-413 511.5,-413 511.5,-354 511.5,-354 511.5,-348 517.5,-342 523.5,-342 523.5,-342 611.5,-342 611.5,-342 617.5,-342 623.5,-348 623.5,-354 623.5,-354 623.5,-413 623.5,-413 623.5,-419 617.5,-425 611.5,-425\"/>\n",
              "<text text-anchor=\"start\" x=\"519.5\" y=\"-407.7\" font-family=\"Helvetica,sans-Serif\" font-size=\"14.00\">Motivation ≤ 4.5</text>\n",
              "<text text-anchor=\"start\" x=\"532.25\" y=\"-392.7\" font-family=\"Helvetica,sans-Serif\" font-size=\"14.00\">gini = 0.395</text>\n",
              "<text text-anchor=\"start\" x=\"526.62\" y=\"-377.7\" font-family=\"Helvetica,sans-Serif\" font-size=\"14.00\">samples = 85</text>\n",
              "<text text-anchor=\"start\" x=\"521\" y=\"-362.7\" font-family=\"Helvetica,sans-Serif\" font-size=\"14.00\">value = [23, 62]</text>\n",
              "<text text-anchor=\"start\" x=\"534.12\" y=\"-347.7\" font-family=\"Helvetica,sans-Serif\" font-size=\"14.00\">class = low</text>\n",
              "</g>\n",
              "<!-- 8&#45;&gt;14 -->\n",
              "<g id=\"edge14\" class=\"edge\">\n",
              "<title>8&#45;&gt;14</title>\n",
              "<path fill=\"none\" stroke=\"black\" d=\"M567.5,-460.58C567.5,-452.79 567.5,-444.53 567.5,-436.45\"/>\n",
              "<polygon fill=\"black\" stroke=\"black\" points=\"571,-436.71 567.5,-426.71 564,-436.71 571,-436.71\"/>\n",
              "</g>\n",
              "<!-- 10 -->\n",
              "<g id=\"node11\" class=\"node\">\n",
              "<title>10</title>\n",
              "<path fill=\"#399de5\" stroke=\"black\" d=\"M209.25,-298.5C209.25,-298.5 131.75,-298.5 131.75,-298.5 125.75,-298.5 119.75,-292.5 119.75,-286.5 119.75,-286.5 119.75,-242.5 119.75,-242.5 119.75,-236.5 125.75,-230.5 131.75,-230.5 131.75,-230.5 209.25,-230.5 209.25,-230.5 215.25,-230.5 221.25,-236.5 221.25,-242.5 221.25,-242.5 221.25,-286.5 221.25,-286.5 221.25,-292.5 215.25,-298.5 209.25,-298.5\"/>\n",
              "<text text-anchor=\"start\" x=\"142.75\" y=\"-281.2\" font-family=\"Helvetica,sans-Serif\" font-size=\"14.00\">gini = 0.0</text>\n",
              "<text text-anchor=\"start\" x=\"129.62\" y=\"-266.2\" font-family=\"Helvetica,sans-Serif\" font-size=\"14.00\">samples = 66</text>\n",
              "<text text-anchor=\"start\" x=\"127.75\" y=\"-251.2\" font-family=\"Helvetica,sans-Serif\" font-size=\"14.00\">value = [0, 66]</text>\n",
              "<text text-anchor=\"start\" x=\"137.12\" y=\"-236.2\" font-family=\"Helvetica,sans-Serif\" font-size=\"14.00\">class = low</text>\n",
              "</g>\n",
              "<!-- 9&#45;&gt;10 -->\n",
              "<g id=\"edge10\" class=\"edge\">\n",
              "<title>9&#45;&gt;10</title>\n",
              "<path fill=\"none\" stroke=\"black\" d=\"M283.79,-342.56C265.97,-330.44 246.41,-317.14 228.63,-305.04\"/>\n",
              "<polygon fill=\"black\" stroke=\"black\" points=\"231,-302.42 220.77,-299.69 227.07,-308.21 231,-302.42\"/>\n",
              "</g>\n",
              "<!-- 11 -->\n",
              "<g id=\"node12\" class=\"node\">\n",
              "<title>11</title>\n",
              "<path fill=\"#41a1e6\" stroke=\"black\" d=\"M339.5,-306C339.5,-306 251.5,-306 251.5,-306 245.5,-306 239.5,-300 239.5,-294 239.5,-294 239.5,-235 239.5,-235 239.5,-229 245.5,-223 251.5,-223 251.5,-223 339.5,-223 339.5,-223 345.5,-223 351.5,-229 351.5,-235 351.5,-235 351.5,-294 351.5,-294 351.5,-300 345.5,-306 339.5,-306\"/>\n",
              "<text text-anchor=\"start\" x=\"247.5\" y=\"-288.7\" font-family=\"Helvetica,sans-Serif\" font-size=\"14.00\">Teamwork ≤ 7.5</text>\n",
              "<text text-anchor=\"start\" x=\"260.25\" y=\"-273.7\" font-family=\"Helvetica,sans-Serif\" font-size=\"14.00\">gini = 0.071</text>\n",
              "<text text-anchor=\"start\" x=\"254.62\" y=\"-258.7\" font-family=\"Helvetica,sans-Serif\" font-size=\"14.00\">samples = 27</text>\n",
              "<text text-anchor=\"start\" x=\"252.75\" y=\"-243.7\" font-family=\"Helvetica,sans-Serif\" font-size=\"14.00\">value = [1, 26]</text>\n",
              "<text text-anchor=\"start\" x=\"262.12\" y=\"-228.7\" font-family=\"Helvetica,sans-Serif\" font-size=\"14.00\">class = low</text>\n",
              "</g>\n",
              "<!-- 9&#45;&gt;11 -->\n",
              "<g id=\"edge11\" class=\"edge\">\n",
              "<title>9&#45;&gt;11</title>\n",
              "<path fill=\"none\" stroke=\"black\" d=\"M326.06,-341.58C322.82,-333.52 319.39,-324.96 316.03,-316.61\"/>\n",
              "<polygon fill=\"black\" stroke=\"black\" points=\"319.39,-315.58 312.41,-307.6 312.89,-318.19 319.39,-315.58\"/>\n",
              "</g>\n",
              "<!-- 12 -->\n",
              "<g id=\"node13\" class=\"node\">\n",
              "<title>12</title>\n",
              "<path fill=\"#399de5\" stroke=\"black\" d=\"M198.25,-179.5C198.25,-179.5 120.75,-179.5 120.75,-179.5 114.75,-179.5 108.75,-173.5 108.75,-167.5 108.75,-167.5 108.75,-123.5 108.75,-123.5 108.75,-117.5 114.75,-111.5 120.75,-111.5 120.75,-111.5 198.25,-111.5 198.25,-111.5 204.25,-111.5 210.25,-117.5 210.25,-123.5 210.25,-123.5 210.25,-167.5 210.25,-167.5 210.25,-173.5 204.25,-179.5 198.25,-179.5\"/>\n",
              "<text text-anchor=\"start\" x=\"131.75\" y=\"-162.2\" font-family=\"Helvetica,sans-Serif\" font-size=\"14.00\">gini = 0.0</text>\n",
              "<text text-anchor=\"start\" x=\"118.62\" y=\"-147.2\" font-family=\"Helvetica,sans-Serif\" font-size=\"14.00\">samples = 17</text>\n",
              "<text text-anchor=\"start\" x=\"116.75\" y=\"-132.2\" font-family=\"Helvetica,sans-Serif\" font-size=\"14.00\">value = [0, 17]</text>\n",
              "<text text-anchor=\"start\" x=\"126.12\" y=\"-117.2\" font-family=\"Helvetica,sans-Serif\" font-size=\"14.00\">class = low</text>\n",
              "</g>\n",
              "<!-- 11&#45;&gt;12 -->\n",
              "<g id=\"edge12\" class=\"edge\">\n",
              "<title>11&#45;&gt;12</title>\n",
              "<path fill=\"none\" stroke=\"black\" d=\"M247.93,-222.58C234.61,-211.12 220.14,-198.67 206.83,-187.22\"/>\n",
              "<polygon fill=\"black\" stroke=\"black\" points=\"209.29,-184.72 199.43,-180.85 204.72,-190.02 209.29,-184.72\"/>\n",
              "</g>\n",
              "<!-- 13 -->\n",
              "<g id=\"node14\" class=\"node\">\n",
              "<title>13</title>\n",
              "<path fill=\"#4fa8e8\" stroke=\"black\" d=\"M314.38,-179.5C314.38,-179.5 240.62,-179.5 240.62,-179.5 234.62,-179.5 228.62,-173.5 228.62,-167.5 228.62,-167.5 228.62,-123.5 228.62,-123.5 228.62,-117.5 234.62,-111.5 240.62,-111.5 240.62,-111.5 314.38,-111.5 314.38,-111.5 320.38,-111.5 326.38,-117.5 326.38,-123.5 326.38,-123.5 326.38,-167.5 326.38,-167.5 326.38,-173.5 320.38,-179.5 314.38,-179.5\"/>\n",
              "<text text-anchor=\"start\" x=\"246\" y=\"-162.2\" font-family=\"Helvetica,sans-Serif\" font-size=\"14.00\">gini = 0.18</text>\n",
              "<text text-anchor=\"start\" x=\"236.62\" y=\"-147.2\" font-family=\"Helvetica,sans-Serif\" font-size=\"14.00\">samples = 10</text>\n",
              "<text text-anchor=\"start\" x=\"238.5\" y=\"-132.2\" font-family=\"Helvetica,sans-Serif\" font-size=\"14.00\">value = [1, 9]</text>\n",
              "<text text-anchor=\"start\" x=\"244.12\" y=\"-117.2\" font-family=\"Helvetica,sans-Serif\" font-size=\"14.00\">class = low</text>\n",
              "</g>\n",
              "<!-- 11&#45;&gt;13 -->\n",
              "<g id=\"edge13\" class=\"edge\">\n",
              "<title>11&#45;&gt;13</title>\n",
              "<path fill=\"none\" stroke=\"black\" d=\"M289.2,-222.58C287.64,-212.43 285.96,-201.5 284.37,-191.18\"/>\n",
              "<polygon fill=\"black\" stroke=\"black\" points=\"287.84,-190.71 282.86,-181.36 280.92,-191.77 287.84,-190.71\"/>\n",
              "</g>\n",
              "<!-- 15 -->\n",
              "<g id=\"node16\" class=\"node\">\n",
              "<title>15</title>\n",
              "<path fill=\"#52a9e8\" stroke=\"black\" d=\"M509.75,-306C509.75,-306 417.25,-306 417.25,-306 411.25,-306 405.25,-300 405.25,-294 405.25,-294 405.25,-235 405.25,-235 405.25,-229 411.25,-223 417.25,-223 417.25,-223 509.75,-223 509.75,-223 515.75,-223 521.75,-229 521.75,-235 521.75,-235 521.75,-294 521.75,-294 521.75,-300 515.75,-306 509.75,-306\"/>\n",
              "<text text-anchor=\"start\" x=\"413.25\" y=\"-288.7\" font-family=\"Helvetica,sans-Serif\" font-size=\"14.00\">Leadership ≤ 4.5</text>\n",
              "<text text-anchor=\"start\" x=\"428.25\" y=\"-273.7\" font-family=\"Helvetica,sans-Serif\" font-size=\"14.00\">gini = 0.198</text>\n",
              "<text text-anchor=\"start\" x=\"422.62\" y=\"-258.7\" font-family=\"Helvetica,sans-Serif\" font-size=\"14.00\">samples = 54</text>\n",
              "<text text-anchor=\"start\" x=\"420.75\" y=\"-243.7\" font-family=\"Helvetica,sans-Serif\" font-size=\"14.00\">value = [6, 48]</text>\n",
              "<text text-anchor=\"start\" x=\"430.12\" y=\"-228.7\" font-family=\"Helvetica,sans-Serif\" font-size=\"14.00\">class = low</text>\n",
              "</g>\n",
              "<!-- 14&#45;&gt;15 -->\n",
              "<g id=\"edge15\" class=\"edge\">\n",
              "<title>14&#45;&gt;15</title>\n",
              "<path fill=\"none\" stroke=\"black\" d=\"M531.13,-341.58C523.4,-332.89 515.17,-323.63 507.21,-314.67\"/>\n",
              "<polygon fill=\"black\" stroke=\"black\" points=\"509.94,-312.48 500.68,-307.33 504.71,-317.13 509.94,-312.48\"/>\n",
              "</g>\n",
              "<!-- 18 -->\n",
              "<g id=\"node19\" class=\"node\">\n",
              "<title>18</title>\n",
              "<path fill=\"#fae9dc\" stroke=\"black\" d=\"M676.88,-306C676.88,-306 552.12,-306 552.12,-306 546.12,-306 540.12,-300 540.12,-294 540.12,-294 540.12,-235 540.12,-235 540.12,-229 546.12,-223 552.12,-223 552.12,-223 676.88,-223 676.88,-223 682.88,-223 688.88,-229 688.88,-235 688.88,-235 688.88,-294 688.88,-294 688.88,-300 682.88,-306 676.88,-306\"/>\n",
              "<text text-anchor=\"start\" x=\"548.12\" y=\"-288.7\" font-family=\"Helvetica,sans-Serif\" font-size=\"14.00\">Time_Employed ≤ 4.5</text>\n",
              "<text text-anchor=\"start\" x=\"579.25\" y=\"-273.7\" font-family=\"Helvetica,sans-Serif\" font-size=\"14.00\">gini = 0.495</text>\n",
              "<text text-anchor=\"start\" x=\"573.62\" y=\"-258.7\" font-family=\"Helvetica,sans-Serif\" font-size=\"14.00\">samples = 31</text>\n",
              "<text text-anchor=\"start\" x=\"568\" y=\"-243.7\" font-family=\"Helvetica,sans-Serif\" font-size=\"14.00\">value = [17, 14]</text>\n",
              "<text text-anchor=\"start\" x=\"578.5\" y=\"-228.7\" font-family=\"Helvetica,sans-Serif\" font-size=\"14.00\">class = high</text>\n",
              "</g>\n",
              "<!-- 14&#45;&gt;18 -->\n",
              "<g id=\"edge18\" class=\"edge\">\n",
              "<title>14&#45;&gt;18</title>\n",
              "<path fill=\"none\" stroke=\"black\" d=\"M583.94,-341.58C587.18,-333.52 590.61,-324.96 593.97,-316.61\"/>\n",
              "<polygon fill=\"black\" stroke=\"black\" points=\"597.11,-318.19 597.59,-307.6 590.61,-315.58 597.11,-318.19\"/>\n",
              "</g>\n",
              "<!-- 16 -->\n",
              "<g id=\"node17\" class=\"node\">\n",
              "<title>16</title>\n",
              "<path fill=\"#399de5\" stroke=\"black\" d=\"M434.25,-179.5C434.25,-179.5 356.75,-179.5 356.75,-179.5 350.75,-179.5 344.75,-173.5 344.75,-167.5 344.75,-167.5 344.75,-123.5 344.75,-123.5 344.75,-117.5 350.75,-111.5 356.75,-111.5 356.75,-111.5 434.25,-111.5 434.25,-111.5 440.25,-111.5 446.25,-117.5 446.25,-123.5 446.25,-123.5 446.25,-167.5 446.25,-167.5 446.25,-173.5 440.25,-179.5 434.25,-179.5\"/>\n",
              "<text text-anchor=\"start\" x=\"367.75\" y=\"-162.2\" font-family=\"Helvetica,sans-Serif\" font-size=\"14.00\">gini = 0.0</text>\n",
              "<text text-anchor=\"start\" x=\"354.62\" y=\"-147.2\" font-family=\"Helvetica,sans-Serif\" font-size=\"14.00\">samples = 35</text>\n",
              "<text text-anchor=\"start\" x=\"352.75\" y=\"-132.2\" font-family=\"Helvetica,sans-Serif\" font-size=\"14.00\">value = [0, 35]</text>\n",
              "<text text-anchor=\"start\" x=\"362.12\" y=\"-117.2\" font-family=\"Helvetica,sans-Serif\" font-size=\"14.00\">class = low</text>\n",
              "</g>\n",
              "<!-- 15&#45;&gt;16 -->\n",
              "<g id=\"edge16\" class=\"edge\">\n",
              "<title>15&#45;&gt;16</title>\n",
              "<path fill=\"none\" stroke=\"black\" d=\"M439.72,-222.58C433.5,-211.88 426.78,-200.32 420.5,-189.52\"/>\n",
              "<polygon fill=\"black\" stroke=\"black\" points=\"423.7,-188.06 415.65,-181.17 417.65,-191.57 423.7,-188.06\"/>\n",
              "</g>\n",
              "<!-- 17 -->\n",
              "<g id=\"node18\" class=\"node\">\n",
              "<title>17</title>\n",
              "<path fill=\"#94caf1\" stroke=\"black\" d=\"M554.25,-179.5C554.25,-179.5 476.75,-179.5 476.75,-179.5 470.75,-179.5 464.75,-173.5 464.75,-167.5 464.75,-167.5 464.75,-123.5 464.75,-123.5 464.75,-117.5 470.75,-111.5 476.75,-111.5 476.75,-111.5 554.25,-111.5 554.25,-111.5 560.25,-111.5 566.25,-117.5 566.25,-123.5 566.25,-123.5 566.25,-167.5 566.25,-167.5 566.25,-173.5 560.25,-179.5 554.25,-179.5\"/>\n",
              "<text text-anchor=\"start\" x=\"480.25\" y=\"-162.2\" font-family=\"Helvetica,sans-Serif\" font-size=\"14.00\">gini = 0.432</text>\n",
              "<text text-anchor=\"start\" x=\"474.62\" y=\"-147.2\" font-family=\"Helvetica,sans-Serif\" font-size=\"14.00\">samples = 19</text>\n",
              "<text text-anchor=\"start\" x=\"472.75\" y=\"-132.2\" font-family=\"Helvetica,sans-Serif\" font-size=\"14.00\">value = [6, 13]</text>\n",
              "<text text-anchor=\"start\" x=\"482.12\" y=\"-117.2\" font-family=\"Helvetica,sans-Serif\" font-size=\"14.00\">class = low</text>\n",
              "</g>\n",
              "<!-- 15&#45;&gt;17 -->\n",
              "<g id=\"edge17\" class=\"edge\">\n",
              "<title>15&#45;&gt;17</title>\n",
              "<path fill=\"none\" stroke=\"black\" d=\"M481.69,-222.58C486.34,-212.1 491.37,-200.79 496.09,-190.18\"/>\n",
              "<polygon fill=\"black\" stroke=\"black\" points=\"499.2,-191.8 500.06,-181.24 492.8,-188.96 499.2,-191.8\"/>\n",
              "</g>\n",
              "<!-- 19 -->\n",
              "<g id=\"node20\" class=\"node\">\n",
              "<title>19</title>\n",
              "<path fill=\"#4fa8e8\" stroke=\"black\" d=\"M670.38,-179.5C670.38,-179.5 596.62,-179.5 596.62,-179.5 590.62,-179.5 584.62,-173.5 584.62,-167.5 584.62,-167.5 584.62,-123.5 584.62,-123.5 584.62,-117.5 590.62,-111.5 596.62,-111.5 596.62,-111.5 670.38,-111.5 670.38,-111.5 676.38,-111.5 682.38,-117.5 682.38,-123.5 682.38,-123.5 682.38,-167.5 682.38,-167.5 682.38,-173.5 676.38,-179.5 670.38,-179.5\"/>\n",
              "<text text-anchor=\"start\" x=\"602\" y=\"-162.2\" font-family=\"Helvetica,sans-Serif\" font-size=\"14.00\">gini = 0.18</text>\n",
              "<text text-anchor=\"start\" x=\"592.62\" y=\"-147.2\" font-family=\"Helvetica,sans-Serif\" font-size=\"14.00\">samples = 10</text>\n",
              "<text text-anchor=\"start\" x=\"594.5\" y=\"-132.2\" font-family=\"Helvetica,sans-Serif\" font-size=\"14.00\">value = [1, 9]</text>\n",
              "<text text-anchor=\"start\" x=\"600.12\" y=\"-117.2\" font-family=\"Helvetica,sans-Serif\" font-size=\"14.00\">class = low</text>\n",
              "</g>\n",
              "<!-- 18&#45;&gt;19 -->\n",
              "<g id=\"edge19\" class=\"edge\">\n",
              "<title>18&#45;&gt;19</title>\n",
              "<path fill=\"none\" stroke=\"black\" d=\"M621.15,-222.58C622.79,-212.43 624.57,-201.5 626.24,-191.18\"/>\n",
              "<polygon fill=\"black\" stroke=\"black\" points=\"629.69,-191.79 627.84,-181.36 622.78,-190.66 629.69,-191.79\"/>\n",
              "</g>\n",
              "<!-- 20 -->\n",
              "<g id=\"node21\" class=\"node\">\n",
              "<title>20</title>\n",
              "<path fill=\"#eda877\" stroke=\"black\" d=\"M800.5,-187C800.5,-187 712.5,-187 712.5,-187 706.5,-187 700.5,-181 700.5,-175 700.5,-175 700.5,-116 700.5,-116 700.5,-110 706.5,-104 712.5,-104 712.5,-104 800.5,-104 800.5,-104 806.5,-104 812.5,-110 812.5,-116 812.5,-116 812.5,-175 812.5,-175 812.5,-181 806.5,-187 800.5,-187\"/>\n",
              "<text text-anchor=\"start\" x=\"708.5\" y=\"-169.7\" font-family=\"Helvetica,sans-Serif\" font-size=\"14.00\">Teamwork ≤ 8.5</text>\n",
              "<text text-anchor=\"start\" x=\"721.25\" y=\"-154.7\" font-family=\"Helvetica,sans-Serif\" font-size=\"14.00\">gini = 0.363</text>\n",
              "<text text-anchor=\"start\" x=\"715.62\" y=\"-139.7\" font-family=\"Helvetica,sans-Serif\" font-size=\"14.00\">samples = 21</text>\n",
              "<text text-anchor=\"start\" x=\"713.75\" y=\"-124.7\" font-family=\"Helvetica,sans-Serif\" font-size=\"14.00\">value = [16, 5]</text>\n",
              "<text text-anchor=\"start\" x=\"720.5\" y=\"-109.7\" font-family=\"Helvetica,sans-Serif\" font-size=\"14.00\">class = high</text>\n",
              "</g>\n",
              "<!-- 18&#45;&gt;20 -->\n",
              "<g id=\"edge20\" class=\"edge\">\n",
              "<title>18&#45;&gt;20</title>\n",
              "<path fill=\"none\" stroke=\"black\" d=\"M664.16,-222.58C675.25,-213.44 687.11,-203.67 698.5,-194.29\"/>\n",
              "<polygon fill=\"black\" stroke=\"black\" points=\"700.44,-197.22 705.94,-188.16 695.99,-191.82 700.44,-197.22\"/>\n",
              "</g>\n",
              "<!-- 21 -->\n",
              "<g id=\"node22\" class=\"node\">\n",
              "<title>21</title>\n",
              "<path fill=\"#fbeade\" stroke=\"black\" d=\"M734.38,-68C734.38,-68 660.62,-68 660.62,-68 654.62,-68 648.62,-62 648.62,-56 648.62,-56 648.62,-12 648.62,-12 648.62,-6 654.62,0 660.62,0 660.62,0 734.38,0 734.38,0 740.38,0 746.38,-6 746.38,-12 746.38,-12 746.38,-56 746.38,-56 746.38,-62 740.38,-68 734.38,-68\"/>\n",
              "<text text-anchor=\"start\" x=\"662.25\" y=\"-50.7\" font-family=\"Helvetica,sans-Serif\" font-size=\"14.00\">gini = 0.496</text>\n",
              "<text text-anchor=\"start\" x=\"656.62\" y=\"-35.7\" font-family=\"Helvetica,sans-Serif\" font-size=\"14.00\">samples = 11</text>\n",
              "<text text-anchor=\"start\" x=\"658.5\" y=\"-20.7\" font-family=\"Helvetica,sans-Serif\" font-size=\"14.00\">value = [6, 5]</text>\n",
              "<text text-anchor=\"start\" x=\"661.5\" y=\"-5.7\" font-family=\"Helvetica,sans-Serif\" font-size=\"14.00\">class = high</text>\n",
              "</g>\n",
              "<!-- 20&#45;&gt;21 -->\n",
              "<g id=\"edge21\" class=\"edge\">\n",
              "<title>20&#45;&gt;21</title>\n",
              "<path fill=\"none\" stroke=\"black\" d=\"M734.53,-103.73C730.06,-95.43 725.34,-86.67 720.82,-78.28\"/>\n",
              "<polygon fill=\"black\" stroke=\"black\" points=\"723.98,-76.78 716.16,-69.63 717.82,-80.1 723.98,-76.78\"/>\n",
              "</g>\n",
              "<!-- 22 -->\n",
              "<g id=\"node23\" class=\"node\">\n",
              "<title>22</title>\n",
              "<path fill=\"#e58139\" stroke=\"black\" d=\"M854.25,-68C854.25,-68 776.75,-68 776.75,-68 770.75,-68 764.75,-62 764.75,-56 764.75,-56 764.75,-12 764.75,-12 764.75,-6 770.75,0 776.75,0 776.75,0 854.25,0 854.25,0 860.25,0 866.25,-6 866.25,-12 866.25,-12 866.25,-56 866.25,-56 866.25,-62 860.25,-68 854.25,-68\"/>\n",
              "<text text-anchor=\"start\" x=\"787.75\" y=\"-50.7\" font-family=\"Helvetica,sans-Serif\" font-size=\"14.00\">gini = 0.0</text>\n",
              "<text text-anchor=\"start\" x=\"774.62\" y=\"-35.7\" font-family=\"Helvetica,sans-Serif\" font-size=\"14.00\">samples = 10</text>\n",
              "<text text-anchor=\"start\" x=\"772.75\" y=\"-20.7\" font-family=\"Helvetica,sans-Serif\" font-size=\"14.00\">value = [10, 0]</text>\n",
              "<text text-anchor=\"start\" x=\"779.5\" y=\"-5.7\" font-family=\"Helvetica,sans-Serif\" font-size=\"14.00\">class = high</text>\n",
              "</g>\n",
              "<!-- 20&#45;&gt;22 -->\n",
              "<g id=\"edge22\" class=\"edge\">\n",
              "<title>20&#45;&gt;22</title>\n",
              "<path fill=\"none\" stroke=\"black\" d=\"M778.47,-103.73C782.94,-95.43 787.66,-86.67 792.18,-78.28\"/>\n",
              "<polygon fill=\"black\" stroke=\"black\" points=\"795.18,-80.1 796.84,-69.63 789.02,-76.78 795.18,-80.1\"/>\n",
              "</g>\n",
              "<!-- 24 -->\n",
              "<g id=\"node25\" class=\"node\">\n",
              "<title>24</title>\n",
              "<path fill=\"#43a2e6\" stroke=\"black\" d=\"M887.5,-425C887.5,-425 799.5,-425 799.5,-425 793.5,-425 787.5,-419 787.5,-413 787.5,-413 787.5,-354 787.5,-354 787.5,-348 793.5,-342 799.5,-342 799.5,-342 887.5,-342 887.5,-342 893.5,-342 899.5,-348 899.5,-354 899.5,-354 899.5,-413 899.5,-413 899.5,-419 893.5,-425 887.5,-425\"/>\n",
              "<text text-anchor=\"start\" x=\"795.5\" y=\"-407.7\" font-family=\"Helvetica,sans-Serif\" font-size=\"14.00\">Teamwork ≤ 7.5</text>\n",
              "<text text-anchor=\"start\" x=\"808.25\" y=\"-392.7\" font-family=\"Helvetica,sans-Serif\" font-size=\"14.00\">gini = 0.091</text>\n",
              "<text text-anchor=\"start\" x=\"802.62\" y=\"-377.7\" font-family=\"Helvetica,sans-Serif\" font-size=\"14.00\">samples = 21</text>\n",
              "<text text-anchor=\"start\" x=\"800.75\" y=\"-362.7\" font-family=\"Helvetica,sans-Serif\" font-size=\"14.00\">value = [1, 20]</text>\n",
              "<text text-anchor=\"start\" x=\"810.12\" y=\"-347.7\" font-family=\"Helvetica,sans-Serif\" font-size=\"14.00\">class = low</text>\n",
              "</g>\n",
              "<!-- 23&#45;&gt;24 -->\n",
              "<g id=\"edge24\" class=\"edge\">\n",
              "<title>23&#45;&gt;24</title>\n",
              "<path fill=\"none\" stroke=\"black\" d=\"M843.5,-460.58C843.5,-452.79 843.5,-444.53 843.5,-436.45\"/>\n",
              "<polygon fill=\"black\" stroke=\"black\" points=\"847,-436.71 843.5,-426.71 840,-436.71 847,-436.71\"/>\n",
              "</g>\n",
              "<!-- 27 -->\n",
              "<g id=\"node28\" class=\"node\">\n",
              "<title>27</title>\n",
              "<path fill=\"#f3c7a7\" stroke=\"black\" d=\"M1096.88,-425C1096.88,-425 972.12,-425 972.12,-425 966.12,-425 960.12,-419 960.12,-413 960.12,-413 960.12,-354 960.12,-354 960.12,-348 966.12,-342 972.12,-342 972.12,-342 1096.88,-342 1096.88,-342 1102.88,-342 1108.88,-348 1108.88,-354 1108.88,-354 1108.88,-413 1108.88,-413 1108.88,-419 1102.88,-425 1096.88,-425\"/>\n",
              "<text text-anchor=\"start\" x=\"968.12\" y=\"-407.7\" font-family=\"Helvetica,sans-Serif\" font-size=\"14.00\">Time_Employed ≤ 4.5</text>\n",
              "<text text-anchor=\"start\" x=\"999.25\" y=\"-392.7\" font-family=\"Helvetica,sans-Serif\" font-size=\"14.00\">gini = 0.459</text>\n",
              "<text text-anchor=\"start\" x=\"993.62\" y=\"-377.7\" font-family=\"Helvetica,sans-Serif\" font-size=\"14.00\">samples = 84</text>\n",
              "<text text-anchor=\"start\" x=\"976.75\" y=\"-362.7\" font-family=\"Helvetica,sans-Serif\" font-size=\"14.00\">value = [54.0, 30.0]</text>\n",
              "<text text-anchor=\"start\" x=\"998.5\" y=\"-347.7\" font-family=\"Helvetica,sans-Serif\" font-size=\"14.00\">class = high</text>\n",
              "</g>\n",
              "<!-- 23&#45;&gt;27 -->\n",
              "<g id=\"edge27\" class=\"edge\">\n",
              "<title>23&#45;&gt;27</title>\n",
              "<path fill=\"none\" stroke=\"black\" d=\"M910.3,-460.58C925.71,-451.14 942.23,-441.02 958.01,-431.35\"/>\n",
              "<polygon fill=\"black\" stroke=\"black\" points=\"959.75,-434.4 966.44,-426.19 956.09,-428.43 959.75,-434.4\"/>\n",
              "</g>\n",
              "<!-- 25 -->\n",
              "<g id=\"node26\" class=\"node\">\n",
              "<title>25</title>\n",
              "<path fill=\"#399de5\" stroke=\"black\" d=\"M796.25,-298.5C796.25,-298.5 718.75,-298.5 718.75,-298.5 712.75,-298.5 706.75,-292.5 706.75,-286.5 706.75,-286.5 706.75,-242.5 706.75,-242.5 706.75,-236.5 712.75,-230.5 718.75,-230.5 718.75,-230.5 796.25,-230.5 796.25,-230.5 802.25,-230.5 808.25,-236.5 808.25,-242.5 808.25,-242.5 808.25,-286.5 808.25,-286.5 808.25,-292.5 802.25,-298.5 796.25,-298.5\"/>\n",
              "<text text-anchor=\"start\" x=\"729.75\" y=\"-281.2\" font-family=\"Helvetica,sans-Serif\" font-size=\"14.00\">gini = 0.0</text>\n",
              "<text text-anchor=\"start\" x=\"716.62\" y=\"-266.2\" font-family=\"Helvetica,sans-Serif\" font-size=\"14.00\">samples = 10</text>\n",
              "<text text-anchor=\"start\" x=\"714.75\" y=\"-251.2\" font-family=\"Helvetica,sans-Serif\" font-size=\"14.00\">value = [0, 10]</text>\n",
              "<text text-anchor=\"start\" x=\"724.12\" y=\"-236.2\" font-family=\"Helvetica,sans-Serif\" font-size=\"14.00\">class = low</text>\n",
              "</g>\n",
              "<!-- 24&#45;&gt;25 -->\n",
              "<g id=\"edge25\" class=\"edge\">\n",
              "<title>24&#45;&gt;25</title>\n",
              "<path fill=\"none\" stroke=\"black\" d=\"M813.42,-341.58C805.4,-330.66 796.71,-318.85 788.64,-307.86\"/>\n",
              "<polygon fill=\"black\" stroke=\"black\" points=\"791.66,-306.07 782.92,-300.08 786.02,-310.21 791.66,-306.07\"/>\n",
              "</g>\n",
              "<!-- 26 -->\n",
              "<g id=\"node27\" class=\"node\">\n",
              "<title>26</title>\n",
              "<path fill=\"#4da7e8\" stroke=\"black\" d=\"M916.25,-298.5C916.25,-298.5 838.75,-298.5 838.75,-298.5 832.75,-298.5 826.75,-292.5 826.75,-286.5 826.75,-286.5 826.75,-242.5 826.75,-242.5 826.75,-236.5 832.75,-230.5 838.75,-230.5 838.75,-230.5 916.25,-230.5 916.25,-230.5 922.25,-230.5 928.25,-236.5 928.25,-242.5 928.25,-242.5 928.25,-286.5 928.25,-286.5 928.25,-292.5 922.25,-298.5 916.25,-298.5\"/>\n",
              "<text text-anchor=\"start\" x=\"842.25\" y=\"-281.2\" font-family=\"Helvetica,sans-Serif\" font-size=\"14.00\">gini = 0.165</text>\n",
              "<text text-anchor=\"start\" x=\"836.62\" y=\"-266.2\" font-family=\"Helvetica,sans-Serif\" font-size=\"14.00\">samples = 11</text>\n",
              "<text text-anchor=\"start\" x=\"834.75\" y=\"-251.2\" font-family=\"Helvetica,sans-Serif\" font-size=\"14.00\">value = [1, 10]</text>\n",
              "<text text-anchor=\"start\" x=\"844.12\" y=\"-236.2\" font-family=\"Helvetica,sans-Serif\" font-size=\"14.00\">class = low</text>\n",
              "</g>\n",
              "<!-- 24&#45;&gt;26 -->\n",
              "<g id=\"edge26\" class=\"edge\">\n",
              "<title>24&#45;&gt;26</title>\n",
              "<path fill=\"none\" stroke=\"black\" d=\"M855.39,-341.58C858.37,-331.32 861.59,-320.27 864.61,-309.85\"/>\n",
              "<polygon fill=\"black\" stroke=\"black\" points=\"867.95,-310.89 867.38,-300.31 861.23,-308.94 867.95,-310.89\"/>\n",
              "</g>\n",
              "<!-- 28 -->\n",
              "<g id=\"node29\" class=\"node\">\n",
              "<title>28</title>\n",
              "<path fill=\"#8ac5f0\" stroke=\"black\" d=\"M1110.75,-306C1110.75,-306 958.25,-306 958.25,-306 952.25,-306 946.25,-300 946.25,-294 946.25,-294 946.25,-235 946.25,-235 946.25,-229 952.25,-223 958.25,-223 958.25,-223 1110.75,-223 1110.75,-223 1116.75,-223 1122.75,-229 1122.75,-235 1122.75,-235 1122.75,-294 1122.75,-294 1122.75,-300 1116.75,-306 1110.75,-306\"/>\n",
              "<text text-anchor=\"start\" x=\"954.25\" y=\"-288.7\" font-family=\"Helvetica,sans-Serif\" font-size=\"14.00\">Num_Prev_Positions ≤ 1.5</text>\n",
              "<text text-anchor=\"start\" x=\"999.25\" y=\"-273.7\" font-family=\"Helvetica,sans-Serif\" font-size=\"14.00\">gini = 0.412</text>\n",
              "<text text-anchor=\"start\" x=\"993.62\" y=\"-258.7\" font-family=\"Helvetica,sans-Serif\" font-size=\"14.00\">samples = 31</text>\n",
              "<text text-anchor=\"start\" x=\"991.75\" y=\"-243.7\" font-family=\"Helvetica,sans-Serif\" font-size=\"14.00\">value = [9, 22]</text>\n",
              "<text text-anchor=\"start\" x=\"1001.12\" y=\"-228.7\" font-family=\"Helvetica,sans-Serif\" font-size=\"14.00\">class = low</text>\n",
              "</g>\n",
              "<!-- 27&#45;&gt;28 -->\n",
              "<g id=\"edge28\" class=\"edge\">\n",
              "<title>27&#45;&gt;28</title>\n",
              "<path fill=\"none\" stroke=\"black\" d=\"M1034.5,-341.58C1034.5,-333.79 1034.5,-325.53 1034.5,-317.45\"/>\n",
              "<polygon fill=\"black\" stroke=\"black\" points=\"1038,-317.71 1034.5,-307.71 1031,-317.71 1038,-317.71\"/>\n",
              "</g>\n",
              "<!-- 31 -->\n",
              "<g id=\"node32\" class=\"node\">\n",
              "<title>31</title>\n",
              "<path fill=\"#ea975c\" stroke=\"black\" d=\"M1240.5,-306C1240.5,-306 1152.5,-306 1152.5,-306 1146.5,-306 1140.5,-300 1140.5,-294 1140.5,-294 1140.5,-235 1140.5,-235 1140.5,-229 1146.5,-223 1152.5,-223 1152.5,-223 1240.5,-223 1240.5,-223 1246.5,-223 1252.5,-229 1252.5,-235 1252.5,-235 1252.5,-294 1252.5,-294 1252.5,-300 1246.5,-306 1240.5,-306\"/>\n",
              "<text text-anchor=\"start\" x=\"1148.5\" y=\"-288.7\" font-family=\"Helvetica,sans-Serif\" font-size=\"14.00\">Teamwork ≤ 6.5</text>\n",
              "<text text-anchor=\"start\" x=\"1161.25\" y=\"-273.7\" font-family=\"Helvetica,sans-Serif\" font-size=\"14.00\">gini = 0.256</text>\n",
              "<text text-anchor=\"start\" x=\"1155.62\" y=\"-258.7\" font-family=\"Helvetica,sans-Serif\" font-size=\"14.00\">samples = 53</text>\n",
              "<text text-anchor=\"start\" x=\"1153.75\" y=\"-243.7\" font-family=\"Helvetica,sans-Serif\" font-size=\"14.00\">value = [45, 8]</text>\n",
              "<text text-anchor=\"start\" x=\"1160.5\" y=\"-228.7\" font-family=\"Helvetica,sans-Serif\" font-size=\"14.00\">class = high</text>\n",
              "</g>\n",
              "<!-- 27&#45;&gt;31 -->\n",
              "<g id=\"edge31\" class=\"edge\">\n",
              "<title>27&#45;&gt;31</title>\n",
              "<path fill=\"none\" stroke=\"black\" d=\"M1091.16,-341.58C1104.06,-332.26 1117.87,-322.29 1131.1,-312.74\"/>\n",
              "<polygon fill=\"black\" stroke=\"black\" points=\"1132.86,-315.78 1138.92,-307.09 1128.76,-310.1 1132.86,-315.78\"/>\n",
              "</g>\n",
              "<!-- 29 -->\n",
              "<g id=\"node30\" class=\"node\">\n",
              "<title>29</title>\n",
              "<path fill=\"#399de5\" stroke=\"black\" d=\"M979.25,-179.5C979.25,-179.5 901.75,-179.5 901.75,-179.5 895.75,-179.5 889.75,-173.5 889.75,-167.5 889.75,-167.5 889.75,-123.5 889.75,-123.5 889.75,-117.5 895.75,-111.5 901.75,-111.5 901.75,-111.5 979.25,-111.5 979.25,-111.5 985.25,-111.5 991.25,-117.5 991.25,-123.5 991.25,-123.5 991.25,-167.5 991.25,-167.5 991.25,-173.5 985.25,-179.5 979.25,-179.5\"/>\n",
              "<text text-anchor=\"start\" x=\"912.75\" y=\"-162.2\" font-family=\"Helvetica,sans-Serif\" font-size=\"14.00\">gini = 0.0</text>\n",
              "<text text-anchor=\"start\" x=\"899.62\" y=\"-147.2\" font-family=\"Helvetica,sans-Serif\" font-size=\"14.00\">samples = 14</text>\n",
              "<text text-anchor=\"start\" x=\"897.75\" y=\"-132.2\" font-family=\"Helvetica,sans-Serif\" font-size=\"14.00\">value = [0, 14]</text>\n",
              "<text text-anchor=\"start\" x=\"907.12\" y=\"-117.2\" font-family=\"Helvetica,sans-Serif\" font-size=\"14.00\">class = low</text>\n",
              "</g>\n",
              "<!-- 28&#45;&gt;29 -->\n",
              "<g id=\"edge29\" class=\"edge\">\n",
              "<title>28&#45;&gt;29</title>\n",
              "<path fill=\"none\" stroke=\"black\" d=\"M1001.62,-222.58C992.77,-211.56 983.17,-199.61 974.27,-188.53\"/>\n",
              "<polygon fill=\"black\" stroke=\"black\" points=\"977.24,-186.64 968.25,-181.04 971.79,-191.03 977.24,-186.64\"/>\n",
              "</g>\n",
              "<!-- 30 -->\n",
              "<g id=\"node31\" class=\"node\">\n",
              "<title>30</title>\n",
              "<path fill=\"#fcf1e9\" stroke=\"black\" d=\"M1095.38,-179.5C1095.38,-179.5 1021.62,-179.5 1021.62,-179.5 1015.62,-179.5 1009.62,-173.5 1009.62,-167.5 1009.62,-167.5 1009.62,-123.5 1009.62,-123.5 1009.62,-117.5 1015.62,-111.5 1021.62,-111.5 1021.62,-111.5 1095.38,-111.5 1095.38,-111.5 1101.38,-111.5 1107.38,-117.5 1107.38,-123.5 1107.38,-123.5 1107.38,-167.5 1107.38,-167.5 1107.38,-173.5 1101.38,-179.5 1095.38,-179.5\"/>\n",
              "<text text-anchor=\"start\" x=\"1023.25\" y=\"-162.2\" font-family=\"Helvetica,sans-Serif\" font-size=\"14.00\">gini = 0.498</text>\n",
              "<text text-anchor=\"start\" x=\"1017.62\" y=\"-147.2\" font-family=\"Helvetica,sans-Serif\" font-size=\"14.00\">samples = 17</text>\n",
              "<text text-anchor=\"start\" x=\"1019.5\" y=\"-132.2\" font-family=\"Helvetica,sans-Serif\" font-size=\"14.00\">value = [9, 8]</text>\n",
              "<text text-anchor=\"start\" x=\"1022.5\" y=\"-117.2\" font-family=\"Helvetica,sans-Serif\" font-size=\"14.00\">class = high</text>\n",
              "</g>\n",
              "<!-- 28&#45;&gt;30 -->\n",
              "<g id=\"edge30\" class=\"edge\">\n",
              "<title>28&#45;&gt;30</title>\n",
              "<path fill=\"none\" stroke=\"black\" d=\"M1042.89,-222.58C1045,-212.32 1047.27,-201.27 1049.4,-190.85\"/>\n",
              "<polygon fill=\"black\" stroke=\"black\" points=\"1052.77,-191.84 1051.35,-181.34 1045.91,-190.44 1052.77,-191.84\"/>\n",
              "</g>\n",
              "<!-- 32 -->\n",
              "<g id=\"node33\" class=\"node\">\n",
              "<title>32</title>\n",
              "<path fill=\"#eead7e\" stroke=\"black\" d=\"M1230.5,-187C1230.5,-187 1142.5,-187 1142.5,-187 1136.5,-187 1130.5,-181 1130.5,-175 1130.5,-175 1130.5,-116 1130.5,-116 1130.5,-110 1136.5,-104 1142.5,-104 1142.5,-104 1230.5,-104 1230.5,-104 1236.5,-104 1242.5,-110 1242.5,-116 1242.5,-116 1242.5,-175 1242.5,-175 1242.5,-181 1236.5,-187 1230.5,-187\"/>\n",
              "<text text-anchor=\"start\" x=\"1138.5\" y=\"-169.7\" font-family=\"Helvetica,sans-Serif\" font-size=\"14.00\">Motivation ≤ 4.5</text>\n",
              "<text text-anchor=\"start\" x=\"1151.25\" y=\"-154.7\" font-family=\"Helvetica,sans-Serif\" font-size=\"14.00\">gini = 0.384</text>\n",
              "<text text-anchor=\"start\" x=\"1145.62\" y=\"-139.7\" font-family=\"Helvetica,sans-Serif\" font-size=\"14.00\">samples = 27</text>\n",
              "<text text-anchor=\"start\" x=\"1143.75\" y=\"-124.7\" font-family=\"Helvetica,sans-Serif\" font-size=\"14.00\">value = [20, 7]</text>\n",
              "<text text-anchor=\"start\" x=\"1150.5\" y=\"-109.7\" font-family=\"Helvetica,sans-Serif\" font-size=\"14.00\">class = high</text>\n",
              "</g>\n",
              "<!-- 31&#45;&gt;32 -->\n",
              "<g id=\"edge32\" class=\"edge\">\n",
              "<title>31&#45;&gt;32</title>\n",
              "<path fill=\"none\" stroke=\"black\" d=\"M1193,-222.58C1192.34,-214.79 1191.63,-206.53 1190.94,-198.45\"/>\n",
              "<polygon fill=\"black\" stroke=\"black\" points=\"1194.45,-198.37 1190.11,-188.71 1187.47,-198.97 1194.45,-198.37\"/>\n",
              "</g>\n",
              "<!-- 35 -->\n",
              "<g id=\"node36\" class=\"node\">\n",
              "<title>35</title>\n",
              "<path fill=\"#e68641\" stroke=\"black\" d=\"M1396.88,-187C1396.88,-187 1272.12,-187 1272.12,-187 1266.12,-187 1260.12,-181 1260.12,-175 1260.12,-175 1260.12,-116 1260.12,-116 1260.12,-110 1266.12,-104 1272.12,-104 1272.12,-104 1396.88,-104 1396.88,-104 1402.88,-104 1408.88,-110 1408.88,-116 1408.88,-116 1408.88,-175 1408.88,-175 1408.88,-181 1402.88,-187 1396.88,-187\"/>\n",
              "<text text-anchor=\"start\" x=\"1268.12\" y=\"-169.7\" font-family=\"Helvetica,sans-Serif\" font-size=\"14.00\">Time_Employed ≤ 8.5</text>\n",
              "<text text-anchor=\"start\" x=\"1299.25\" y=\"-154.7\" font-family=\"Helvetica,sans-Serif\" font-size=\"14.00\">gini = 0.074</text>\n",
              "<text text-anchor=\"start\" x=\"1293.62\" y=\"-139.7\" font-family=\"Helvetica,sans-Serif\" font-size=\"14.00\">samples = 26</text>\n",
              "<text text-anchor=\"start\" x=\"1291.75\" y=\"-124.7\" font-family=\"Helvetica,sans-Serif\" font-size=\"14.00\">value = [25, 1]</text>\n",
              "<text text-anchor=\"start\" x=\"1298.5\" y=\"-109.7\" font-family=\"Helvetica,sans-Serif\" font-size=\"14.00\">class = high</text>\n",
              "</g>\n",
              "<!-- 31&#45;&gt;35 -->\n",
              "<g id=\"edge35\" class=\"edge\">\n",
              "<title>31&#45;&gt;35</title>\n",
              "<path fill=\"none\" stroke=\"black\" d=\"M1244.77,-222.58C1255.44,-213.53 1266.84,-203.87 1277.81,-194.56\"/>\n",
              "<polygon fill=\"black\" stroke=\"black\" points=\"1279.98,-197.32 1285.34,-188.18 1275.45,-191.98 1279.98,-197.32\"/>\n",
              "</g>\n",
              "<!-- 33 -->\n",
              "<g id=\"node34\" class=\"node\">\n",
              "<title>33</title>\n",
              "<path fill=\"#e3f1fb\" stroke=\"black\" d=\"M1112.38,-68C1112.38,-68 1038.62,-68 1038.62,-68 1032.62,-68 1026.62,-62 1026.62,-56 1026.62,-56 1026.62,-12 1026.62,-12 1026.62,-6 1032.62,0 1038.62,0 1038.62,0 1112.38,0 1112.38,0 1118.38,0 1124.38,-6 1124.38,-12 1124.38,-12 1124.38,-56 1124.38,-56 1124.38,-62 1118.38,-68 1112.38,-68\"/>\n",
              "<text text-anchor=\"start\" x=\"1040.25\" y=\"-50.7\" font-family=\"Helvetica,sans-Serif\" font-size=\"14.00\">gini = 0.497</text>\n",
              "<text text-anchor=\"start\" x=\"1034.62\" y=\"-35.7\" font-family=\"Helvetica,sans-Serif\" font-size=\"14.00\">samples = 13</text>\n",
              "<text text-anchor=\"start\" x=\"1036.5\" y=\"-20.7\" font-family=\"Helvetica,sans-Serif\" font-size=\"14.00\">value = [6, 7]</text>\n",
              "<text text-anchor=\"start\" x=\"1042.12\" y=\"-5.7\" font-family=\"Helvetica,sans-Serif\" font-size=\"14.00\">class = low</text>\n",
              "</g>\n",
              "<!-- 32&#45;&gt;33 -->\n",
              "<g id=\"edge33\" class=\"edge\">\n",
              "<title>32&#45;&gt;33</title>\n",
              "<path fill=\"none\" stroke=\"black\" d=\"M1145.17,-103.73C1136.11,-94.79 1126.51,-85.32 1117.42,-76.36\"/>\n",
              "<polygon fill=\"black\" stroke=\"black\" points=\"1119.91,-73.89 1110.33,-69.36 1114.99,-78.88 1119.91,-73.89\"/>\n",
              "</g>\n",
              "<!-- 34 -->\n",
              "<g id=\"node35\" class=\"node\">\n",
              "<title>34</title>\n",
              "<path fill=\"#e58139\" stroke=\"black\" d=\"M1232.25,-68C1232.25,-68 1154.75,-68 1154.75,-68 1148.75,-68 1142.75,-62 1142.75,-56 1142.75,-56 1142.75,-12 1142.75,-12 1142.75,-6 1148.75,0 1154.75,0 1154.75,0 1232.25,0 1232.25,0 1238.25,0 1244.25,-6 1244.25,-12 1244.25,-12 1244.25,-56 1244.25,-56 1244.25,-62 1238.25,-68 1232.25,-68\"/>\n",
              "<text text-anchor=\"start\" x=\"1165.75\" y=\"-50.7\" font-family=\"Helvetica,sans-Serif\" font-size=\"14.00\">gini = 0.0</text>\n",
              "<text text-anchor=\"start\" x=\"1152.62\" y=\"-35.7\" font-family=\"Helvetica,sans-Serif\" font-size=\"14.00\">samples = 14</text>\n",
              "<text text-anchor=\"start\" x=\"1150.75\" y=\"-20.7\" font-family=\"Helvetica,sans-Serif\" font-size=\"14.00\">value = [14, 0]</text>\n",
              "<text text-anchor=\"start\" x=\"1157.5\" y=\"-5.7\" font-family=\"Helvetica,sans-Serif\" font-size=\"14.00\">class = high</text>\n",
              "</g>\n",
              "<!-- 32&#45;&gt;34 -->\n",
              "<g id=\"edge34\" class=\"edge\">\n",
              "<title>32&#45;&gt;34</title>\n",
              "<path fill=\"none\" stroke=\"black\" d=\"M1189.11,-103.73C1189.61,-95.88 1190.14,-87.63 1190.64,-79.67\"/>\n",
              "<polygon fill=\"black\" stroke=\"black\" points=\"1194.13,-80.01 1191.27,-69.81 1187.14,-79.57 1194.13,-80.01\"/>\n",
              "</g>\n",
              "<!-- 36 -->\n",
              "<g id=\"node37\" class=\"node\">\n",
              "<title>36</title>\n",
              "<path fill=\"#e78c4b\" stroke=\"black\" d=\"M1366.25,-68C1366.25,-68 1288.75,-68 1288.75,-68 1282.75,-68 1276.75,-62 1276.75,-56 1276.75,-56 1276.75,-12 1276.75,-12 1276.75,-6 1282.75,0 1288.75,0 1288.75,0 1366.25,0 1366.25,0 1372.25,0 1378.25,-6 1378.25,-12 1378.25,-12 1378.25,-56 1378.25,-56 1378.25,-62 1372.25,-68 1366.25,-68\"/>\n",
              "<text text-anchor=\"start\" x=\"1292.25\" y=\"-50.7\" font-family=\"Helvetica,sans-Serif\" font-size=\"14.00\">gini = 0.153</text>\n",
              "<text text-anchor=\"start\" x=\"1286.62\" y=\"-35.7\" font-family=\"Helvetica,sans-Serif\" font-size=\"14.00\">samples = 12</text>\n",
              "<text text-anchor=\"start\" x=\"1284.75\" y=\"-20.7\" font-family=\"Helvetica,sans-Serif\" font-size=\"14.00\">value = [11, 1]</text>\n",
              "<text text-anchor=\"start\" x=\"1291.5\" y=\"-5.7\" font-family=\"Helvetica,sans-Serif\" font-size=\"14.00\">class = high</text>\n",
              "</g>\n",
              "<!-- 35&#45;&gt;36 -->\n",
              "<g id=\"edge36\" class=\"edge\">\n",
              "<title>35&#45;&gt;36</title>\n",
              "<path fill=\"none\" stroke=\"black\" d=\"M1331.89,-103.73C1331.39,-95.88 1330.86,-87.63 1330.36,-79.67\"/>\n",
              "<polygon fill=\"black\" stroke=\"black\" points=\"1333.86,-79.57 1329.73,-69.81 1326.87,-80.01 1333.86,-79.57\"/>\n",
              "</g>\n",
              "<!-- 37 -->\n",
              "<g id=\"node38\" class=\"node\">\n",
              "<title>37</title>\n",
              "<path fill=\"#e58139\" stroke=\"black\" d=\"M1486.25,-68C1486.25,-68 1408.75,-68 1408.75,-68 1402.75,-68 1396.75,-62 1396.75,-56 1396.75,-56 1396.75,-12 1396.75,-12 1396.75,-6 1402.75,0 1408.75,0 1408.75,0 1486.25,0 1486.25,0 1492.25,0 1498.25,-6 1498.25,-12 1498.25,-12 1498.25,-56 1498.25,-56 1498.25,-62 1492.25,-68 1486.25,-68\"/>\n",
              "<text text-anchor=\"start\" x=\"1419.75\" y=\"-50.7\" font-family=\"Helvetica,sans-Serif\" font-size=\"14.00\">gini = 0.0</text>\n",
              "<text text-anchor=\"start\" x=\"1406.62\" y=\"-35.7\" font-family=\"Helvetica,sans-Serif\" font-size=\"14.00\">samples = 14</text>\n",
              "<text text-anchor=\"start\" x=\"1404.75\" y=\"-20.7\" font-family=\"Helvetica,sans-Serif\" font-size=\"14.00\">value = [14, 0]</text>\n",
              "<text text-anchor=\"start\" x=\"1411.5\" y=\"-5.7\" font-family=\"Helvetica,sans-Serif\" font-size=\"14.00\">class = high</text>\n",
              "</g>\n",
              "<!-- 35&#45;&gt;37 -->\n",
              "<g id=\"edge37\" class=\"edge\">\n",
              "<title>35&#45;&gt;37</title>\n",
              "<path fill=\"none\" stroke=\"black\" d=\"M1376.58,-103.73C1385.9,-94.7 1395.77,-85.12 1405.11,-76.08\"/>\n",
              "<polygon fill=\"black\" stroke=\"black\" points=\"1407.3,-78.83 1412.05,-69.35 1402.43,-73.8 1407.3,-78.83\"/>\n",
              "</g>\n",
              "<!-- 39 -->\n",
              "<g id=\"node40\" class=\"node\">\n",
              "<title>39</title>\n",
              "<path fill=\"#79bded\" stroke=\"black\" d=\"M1567.75,-663C1567.75,-663 1475.25,-663 1475.25,-663 1469.25,-663 1463.25,-657 1463.25,-651 1463.25,-651 1463.25,-592 1463.25,-592 1463.25,-586 1469.25,-580 1475.25,-580 1475.25,-580 1567.75,-580 1567.75,-580 1573.75,-580 1579.75,-586 1579.75,-592 1579.75,-592 1579.75,-651 1579.75,-651 1579.75,-657 1573.75,-663 1567.75,-663\"/>\n",
              "<text text-anchor=\"start\" x=\"1471.25\" y=\"-645.7\" font-family=\"Helvetica,sans-Serif\" font-size=\"14.00\">Leadership ≤ 4.5</text>\n",
              "<text text-anchor=\"start\" x=\"1486.25\" y=\"-630.7\" font-family=\"Helvetica,sans-Serif\" font-size=\"14.00\">gini = 0.369</text>\n",
              "<text text-anchor=\"start\" x=\"1476.88\" y=\"-615.7\" font-family=\"Helvetica,sans-Serif\" font-size=\"14.00\">samples = 131</text>\n",
              "<text text-anchor=\"start\" x=\"1475\" y=\"-600.7\" font-family=\"Helvetica,sans-Serif\" font-size=\"14.00\">value = [32, 99]</text>\n",
              "<text text-anchor=\"start\" x=\"1488.12\" y=\"-585.7\" font-family=\"Helvetica,sans-Serif\" font-size=\"14.00\">class = low</text>\n",
              "</g>\n",
              "<!-- 38&#45;&gt;39 -->\n",
              "<g id=\"edge39\" class=\"edge\">\n",
              "<title>38&#45;&gt;39</title>\n",
              "<path fill=\"none\" stroke=\"black\" d=\"M1521.5,-698.58C1521.5,-690.79 1521.5,-682.53 1521.5,-674.45\"/>\n",
              "<polygon fill=\"black\" stroke=\"black\" points=\"1525,-674.71 1521.5,-664.71 1518,-674.71 1525,-674.71\"/>\n",
              "</g>\n",
              "<!-- 52 -->\n",
              "<g id=\"node53\" class=\"node\">\n",
              "<title>52</title>\n",
              "<path fill=\"#f0b48a\" stroke=\"black\" d=\"M2313.88,-663C2313.88,-663 2189.12,-663 2189.12,-663 2183.12,-663 2177.12,-657 2177.12,-651 2177.12,-651 2177.12,-592 2177.12,-592 2177.12,-586 2183.12,-580 2189.12,-580 2189.12,-580 2313.88,-580 2313.88,-580 2319.88,-580 2325.88,-586 2325.88,-592 2325.88,-592 2325.88,-651 2325.88,-651 2325.88,-657 2319.88,-663 2313.88,-663\"/>\n",
              "<text text-anchor=\"start\" x=\"2185.12\" y=\"-645.7\" font-family=\"Helvetica,sans-Serif\" font-size=\"14.00\">Time_Employed ≤ 5.5</text>\n",
              "<text text-anchor=\"start\" x=\"2216.25\" y=\"-630.7\" font-family=\"Helvetica,sans-Serif\" font-size=\"14.00\">gini = 0.411</text>\n",
              "<text text-anchor=\"start\" x=\"2206.88\" y=\"-615.7\" font-family=\"Helvetica,sans-Serif\" font-size=\"14.00\">samples = 183</text>\n",
              "<text text-anchor=\"start\" x=\"2201.25\" y=\"-600.7\" font-family=\"Helvetica,sans-Serif\" font-size=\"14.00\">value = [130, 53]</text>\n",
              "<text text-anchor=\"start\" x=\"2215.5\" y=\"-585.7\" font-family=\"Helvetica,sans-Serif\" font-size=\"14.00\">class = high</text>\n",
              "</g>\n",
              "<!-- 38&#45;&gt;52 -->\n",
              "<g id=\"edge52\" class=\"edge\">\n",
              "<title>38&#45;&gt;52</title>\n",
              "<path fill=\"none\" stroke=\"black\" d=\"M1583.74,-729.52C1714.21,-708.61 2016.56,-660.16 2165.47,-636.29\"/>\n",
              "<polygon fill=\"black\" stroke=\"black\" points=\"2165.97,-639.75 2175.29,-634.71 2164.87,-632.84 2165.97,-639.75\"/>\n",
              "</g>\n",
              "<!-- 40 -->\n",
              "<g id=\"node41\" class=\"node\">\n",
              "<title>40</title>\n",
              "<path fill=\"#3fa0e6\" stroke=\"black\" d=\"M1483.5,-544C1483.5,-544 1395.5,-544 1395.5,-544 1389.5,-544 1383.5,-538 1383.5,-532 1383.5,-532 1383.5,-473 1383.5,-473 1383.5,-467 1389.5,-461 1395.5,-461 1395.5,-461 1483.5,-461 1483.5,-461 1489.5,-461 1495.5,-467 1495.5,-473 1495.5,-473 1495.5,-532 1495.5,-532 1495.5,-538 1489.5,-544 1483.5,-544\"/>\n",
              "<text text-anchor=\"start\" x=\"1391.5\" y=\"-526.7\" font-family=\"Helvetica,sans-Serif\" font-size=\"14.00\">Motivation ≤ 9.5</text>\n",
              "<text text-anchor=\"start\" x=\"1404.25\" y=\"-511.7\" font-family=\"Helvetica,sans-Serif\" font-size=\"14.00\">gini = 0.056</text>\n",
              "<text text-anchor=\"start\" x=\"1398.62\" y=\"-496.7\" font-family=\"Helvetica,sans-Serif\" font-size=\"14.00\">samples = 70</text>\n",
              "<text text-anchor=\"start\" x=\"1396.75\" y=\"-481.7\" font-family=\"Helvetica,sans-Serif\" font-size=\"14.00\">value = [2, 68]</text>\n",
              "<text text-anchor=\"start\" x=\"1406.12\" y=\"-466.7\" font-family=\"Helvetica,sans-Serif\" font-size=\"14.00\">class = low</text>\n",
              "</g>\n",
              "<!-- 39&#45;&gt;40 -->\n",
              "<g id=\"edge40\" class=\"edge\">\n",
              "<title>39&#45;&gt;40</title>\n",
              "<path fill=\"none\" stroke=\"black\" d=\"M1492.82,-579.58C1486.92,-571.16 1480.64,-562.2 1474.54,-553.5\"/>\n",
              "<polygon fill=\"black\" stroke=\"black\" points=\"1477.5,-551.62 1468.89,-545.44 1471.77,-555.64 1477.5,-551.62\"/>\n",
              "</g>\n",
              "<!-- 45 -->\n",
              "<g id=\"node46\" class=\"node\">\n",
              "<title>45</title>\n",
              "<path fill=\"#f9fcfe\" stroke=\"black\" d=\"M1683.75,-544C1683.75,-544 1531.25,-544 1531.25,-544 1525.25,-544 1519.25,-538 1519.25,-532 1519.25,-532 1519.25,-473 1519.25,-473 1519.25,-467 1525.25,-461 1531.25,-461 1531.25,-461 1683.75,-461 1683.75,-461 1689.75,-461 1695.75,-467 1695.75,-473 1695.75,-473 1695.75,-532 1695.75,-532 1695.75,-538 1689.75,-544 1683.75,-544\"/>\n",
              "<text text-anchor=\"start\" x=\"1527.25\" y=\"-526.7\" font-family=\"Helvetica,sans-Serif\" font-size=\"14.00\">Num_Prev_Positions ≤ 1.5</text>\n",
              "<text text-anchor=\"start\" x=\"1579.75\" y=\"-511.7\" font-family=\"Helvetica,sans-Serif\" font-size=\"14.00\">gini = 0.5</text>\n",
              "<text text-anchor=\"start\" x=\"1566.62\" y=\"-496.7\" font-family=\"Helvetica,sans-Serif\" font-size=\"14.00\">samples = 61</text>\n",
              "<text text-anchor=\"start\" x=\"1561\" y=\"-481.7\" font-family=\"Helvetica,sans-Serif\" font-size=\"14.00\">value = [30, 31]</text>\n",
              "<text text-anchor=\"start\" x=\"1574.12\" y=\"-466.7\" font-family=\"Helvetica,sans-Serif\" font-size=\"14.00\">class = low</text>\n",
              "</g>\n",
              "<!-- 39&#45;&gt;45 -->\n",
              "<g id=\"edge45\" class=\"edge\">\n",
              "<title>39&#45;&gt;45</title>\n",
              "<path fill=\"none\" stroke=\"black\" d=\"M1551.58,-579.58C1557.83,-571.07 1564.49,-562.01 1570.95,-553.23\"/>\n",
              "<polygon fill=\"black\" stroke=\"black\" points=\"1573.58,-555.55 1576.69,-545.42 1567.94,-551.4 1573.58,-555.55\"/>\n",
              "</g>\n",
              "<!-- 41 -->\n",
              "<g id=\"node42\" class=\"node\">\n",
              "<title>41</title>\n",
              "<path fill=\"#399de5\" stroke=\"black\" d=\"M1351.25,-417.5C1351.25,-417.5 1273.75,-417.5 1273.75,-417.5 1267.75,-417.5 1261.75,-411.5 1261.75,-405.5 1261.75,-405.5 1261.75,-361.5 1261.75,-361.5 1261.75,-355.5 1267.75,-349.5 1273.75,-349.5 1273.75,-349.5 1351.25,-349.5 1351.25,-349.5 1357.25,-349.5 1363.25,-355.5 1363.25,-361.5 1363.25,-361.5 1363.25,-405.5 1363.25,-405.5 1363.25,-411.5 1357.25,-417.5 1351.25,-417.5\"/>\n",
              "<text text-anchor=\"start\" x=\"1284.75\" y=\"-400.2\" font-family=\"Helvetica,sans-Serif\" font-size=\"14.00\">gini = 0.0</text>\n",
              "<text text-anchor=\"start\" x=\"1271.62\" y=\"-385.2\" font-family=\"Helvetica,sans-Serif\" font-size=\"14.00\">samples = 47</text>\n",
              "<text text-anchor=\"start\" x=\"1269.75\" y=\"-370.2\" font-family=\"Helvetica,sans-Serif\" font-size=\"14.00\">value = [0, 47]</text>\n",
              "<text text-anchor=\"start\" x=\"1279.12\" y=\"-355.2\" font-family=\"Helvetica,sans-Serif\" font-size=\"14.00\">class = low</text>\n",
              "</g>\n",
              "<!-- 40&#45;&gt;41 -->\n",
              "<g id=\"edge41\" class=\"edge\">\n",
              "<title>40&#45;&gt;41</title>\n",
              "<path fill=\"none\" stroke=\"black\" d=\"M1395.08,-460.58C1382.76,-449.23 1369.38,-436.9 1357.05,-425.55\"/>\n",
              "<polygon fill=\"black\" stroke=\"black\" points=\"1359.55,-423.09 1349.83,-418.89 1354.81,-428.24 1359.55,-423.09\"/>\n",
              "</g>\n",
              "<!-- 42 -->\n",
              "<g id=\"node43\" class=\"node\">\n",
              "<title>42</title>\n",
              "<path fill=\"#4ca6e7\" stroke=\"black\" d=\"M1485.75,-425C1485.75,-425 1393.25,-425 1393.25,-425 1387.25,-425 1381.25,-419 1381.25,-413 1381.25,-413 1381.25,-354 1381.25,-354 1381.25,-348 1387.25,-342 1393.25,-342 1393.25,-342 1485.75,-342 1485.75,-342 1491.75,-342 1497.75,-348 1497.75,-354 1497.75,-354 1497.75,-413 1497.75,-413 1497.75,-419 1491.75,-425 1485.75,-425\"/>\n",
              "<text text-anchor=\"start\" x=\"1389.25\" y=\"-407.7\" font-family=\"Helvetica,sans-Serif\" font-size=\"14.00\">Leadership ≤ 2.5</text>\n",
              "<text text-anchor=\"start\" x=\"1404.25\" y=\"-392.7\" font-family=\"Helvetica,sans-Serif\" font-size=\"14.00\">gini = 0.159</text>\n",
              "<text text-anchor=\"start\" x=\"1398.62\" y=\"-377.7\" font-family=\"Helvetica,sans-Serif\" font-size=\"14.00\">samples = 23</text>\n",
              "<text text-anchor=\"start\" x=\"1396.75\" y=\"-362.7\" font-family=\"Helvetica,sans-Serif\" font-size=\"14.00\">value = [2, 21]</text>\n",
              "<text text-anchor=\"start\" x=\"1406.12\" y=\"-347.7\" font-family=\"Helvetica,sans-Serif\" font-size=\"14.00\">class = low</text>\n",
              "</g>\n",
              "<!-- 40&#45;&gt;42 -->\n",
              "<g id=\"edge42\" class=\"edge\">\n",
              "<title>40&#45;&gt;42</title>\n",
              "<path fill=\"none\" stroke=\"black\" d=\"M1439.5,-460.58C1439.5,-452.79 1439.5,-444.53 1439.5,-436.45\"/>\n",
              "<polygon fill=\"black\" stroke=\"black\" points=\"1443,-436.71 1439.5,-426.71 1436,-436.71 1443,-436.71\"/>\n",
              "</g>\n",
              "<!-- 43 -->\n",
              "<g id=\"node44\" class=\"node\">\n",
              "<title>43</title>\n",
              "<path fill=\"#49a5e7\" stroke=\"black\" d=\"M1360.25,-298.5C1360.25,-298.5 1282.75,-298.5 1282.75,-298.5 1276.75,-298.5 1270.75,-292.5 1270.75,-286.5 1270.75,-286.5 1270.75,-242.5 1270.75,-242.5 1270.75,-236.5 1276.75,-230.5 1282.75,-230.5 1282.75,-230.5 1360.25,-230.5 1360.25,-230.5 1366.25,-230.5 1372.25,-236.5 1372.25,-242.5 1372.25,-242.5 1372.25,-286.5 1372.25,-286.5 1372.25,-292.5 1366.25,-298.5 1360.25,-298.5\"/>\n",
              "<text text-anchor=\"start\" x=\"1286.25\" y=\"-281.2\" font-family=\"Helvetica,sans-Serif\" font-size=\"14.00\">gini = 0.142</text>\n",
              "<text text-anchor=\"start\" x=\"1280.62\" y=\"-266.2\" font-family=\"Helvetica,sans-Serif\" font-size=\"14.00\">samples = 13</text>\n",
              "<text text-anchor=\"start\" x=\"1278.75\" y=\"-251.2\" font-family=\"Helvetica,sans-Serif\" font-size=\"14.00\">value = [1, 12]</text>\n",
              "<text text-anchor=\"start\" x=\"1288.12\" y=\"-236.2\" font-family=\"Helvetica,sans-Serif\" font-size=\"14.00\">class = low</text>\n",
              "</g>\n",
              "<!-- 42&#45;&gt;43 -->\n",
              "<g id=\"edge43\" class=\"edge\">\n",
              "<title>42&#45;&gt;43</title>\n",
              "<path fill=\"none\" stroke=\"black\" d=\"M1398.23,-341.58C1386.89,-330.34 1374.59,-318.14 1363.23,-306.87\"/>\n",
              "<polygon fill=\"black\" stroke=\"black\" points=\"1365.79,-304.48 1356.22,-299.93 1360.86,-309.45 1365.79,-304.48\"/>\n",
              "</g>\n",
              "<!-- 44 -->\n",
              "<g id=\"node45\" class=\"node\">\n",
              "<title>44</title>\n",
              "<path fill=\"#4fa8e8\" stroke=\"black\" d=\"M1476.38,-298.5C1476.38,-298.5 1402.62,-298.5 1402.62,-298.5 1396.62,-298.5 1390.62,-292.5 1390.62,-286.5 1390.62,-286.5 1390.62,-242.5 1390.62,-242.5 1390.62,-236.5 1396.62,-230.5 1402.62,-230.5 1402.62,-230.5 1476.38,-230.5 1476.38,-230.5 1482.38,-230.5 1488.38,-236.5 1488.38,-242.5 1488.38,-242.5 1488.38,-286.5 1488.38,-286.5 1488.38,-292.5 1482.38,-298.5 1476.38,-298.5\"/>\n",
              "<text text-anchor=\"start\" x=\"1408\" y=\"-281.2\" font-family=\"Helvetica,sans-Serif\" font-size=\"14.00\">gini = 0.18</text>\n",
              "<text text-anchor=\"start\" x=\"1398.62\" y=\"-266.2\" font-family=\"Helvetica,sans-Serif\" font-size=\"14.00\">samples = 10</text>\n",
              "<text text-anchor=\"start\" x=\"1400.5\" y=\"-251.2\" font-family=\"Helvetica,sans-Serif\" font-size=\"14.00\">value = [1, 9]</text>\n",
              "<text text-anchor=\"start\" x=\"1406.12\" y=\"-236.2\" font-family=\"Helvetica,sans-Serif\" font-size=\"14.00\">class = low</text>\n",
              "</g>\n",
              "<!-- 42&#45;&gt;44 -->\n",
              "<g id=\"edge44\" class=\"edge\">\n",
              "<title>42&#45;&gt;44</title>\n",
              "<path fill=\"none\" stroke=\"black\" d=\"M1439.5,-341.58C1439.5,-331.43 1439.5,-320.5 1439.5,-310.18\"/>\n",
              "<polygon fill=\"black\" stroke=\"black\" points=\"1443,-310.37 1439.5,-300.37 1436,-310.37 1443,-310.37\"/>\n",
              "</g>\n",
              "<!-- 46 -->\n",
              "<g id=\"node47\" class=\"node\">\n",
              "<title>46</title>\n",
              "<path fill=\"#41a1e6\" stroke=\"black\" d=\"M1683.75,-425C1683.75,-425 1531.25,-425 1531.25,-425 1525.25,-425 1519.25,-419 1519.25,-413 1519.25,-413 1519.25,-354 1519.25,-354 1519.25,-348 1525.25,-342 1531.25,-342 1531.25,-342 1683.75,-342 1683.75,-342 1689.75,-342 1695.75,-348 1695.75,-354 1695.75,-354 1695.75,-413 1695.75,-413 1695.75,-419 1689.75,-425 1683.75,-425\"/>\n",
              "<text text-anchor=\"start\" x=\"1527.25\" y=\"-407.7\" font-family=\"Helvetica,sans-Serif\" font-size=\"14.00\">Num_Prev_Positions ≤ 0.5</text>\n",
              "<text text-anchor=\"start\" x=\"1572.25\" y=\"-392.7\" font-family=\"Helvetica,sans-Serif\" font-size=\"14.00\">gini = 0.077</text>\n",
              "<text text-anchor=\"start\" x=\"1566.62\" y=\"-377.7\" font-family=\"Helvetica,sans-Serif\" font-size=\"14.00\">samples = 25</text>\n",
              "<text text-anchor=\"start\" x=\"1564.75\" y=\"-362.7\" font-family=\"Helvetica,sans-Serif\" font-size=\"14.00\">value = [1, 24]</text>\n",
              "<text text-anchor=\"start\" x=\"1574.12\" y=\"-347.7\" font-family=\"Helvetica,sans-Serif\" font-size=\"14.00\">class = low</text>\n",
              "</g>\n",
              "<!-- 45&#45;&gt;46 -->\n",
              "<g id=\"edge46\" class=\"edge\">\n",
              "<title>45&#45;&gt;46</title>\n",
              "<path fill=\"none\" stroke=\"black\" d=\"M1607.5,-460.58C1607.5,-452.79 1607.5,-444.53 1607.5,-436.45\"/>\n",
              "<polygon fill=\"black\" stroke=\"black\" points=\"1611,-436.71 1607.5,-426.71 1604,-436.71 1611,-436.71\"/>\n",
              "</g>\n",
              "<!-- 49 -->\n",
              "<g id=\"node50\" class=\"node\">\n",
              "<title>49</title>\n",
              "<path fill=\"#eb9f69\" stroke=\"black\" d=\"M1853.88,-425C1853.88,-425 1729.12,-425 1729.12,-425 1723.12,-425 1717.12,-419 1717.12,-413 1717.12,-413 1717.12,-354 1717.12,-354 1717.12,-348 1723.12,-342 1729.12,-342 1729.12,-342 1853.88,-342 1853.88,-342 1859.88,-342 1865.88,-348 1865.88,-354 1865.88,-354 1865.88,-413 1865.88,-413 1865.88,-419 1859.88,-425 1853.88,-425\"/>\n",
              "<text text-anchor=\"start\" x=\"1725.12\" y=\"-407.7\" font-family=\"Helvetica,sans-Serif\" font-size=\"14.00\">Time_Employed ≤ 3.5</text>\n",
              "<text text-anchor=\"start\" x=\"1756.25\" y=\"-392.7\" font-family=\"Helvetica,sans-Serif\" font-size=\"14.00\">gini = 0.313</text>\n",
              "<text text-anchor=\"start\" x=\"1750.62\" y=\"-377.7\" font-family=\"Helvetica,sans-Serif\" font-size=\"14.00\">samples = 36</text>\n",
              "<text text-anchor=\"start\" x=\"1748.75\" y=\"-362.7\" font-family=\"Helvetica,sans-Serif\" font-size=\"14.00\">value = [29, 7]</text>\n",
              "<text text-anchor=\"start\" x=\"1755.5\" y=\"-347.7\" font-family=\"Helvetica,sans-Serif\" font-size=\"14.00\">class = high</text>\n",
              "</g>\n",
              "<!-- 45&#45;&gt;49 -->\n",
              "<g id=\"edge49\" class=\"edge\">\n",
              "<title>45&#45;&gt;49</title>\n",
              "<path fill=\"none\" stroke=\"black\" d=\"M1671.85,-460.58C1686.7,-451.14 1702.61,-441.02 1717.82,-431.35\"/>\n",
              "<polygon fill=\"black\" stroke=\"black\" points=\"1719.34,-434.53 1725.9,-426.21 1715.59,-428.62 1719.34,-434.53\"/>\n",
              "</g>\n",
              "<!-- 47 -->\n",
              "<g id=\"node48\" class=\"node\">\n",
              "<title>47</title>\n",
              "<path fill=\"#399de5\" stroke=\"black\" d=\"M1596.25,-298.5C1596.25,-298.5 1518.75,-298.5 1518.75,-298.5 1512.75,-298.5 1506.75,-292.5 1506.75,-286.5 1506.75,-286.5 1506.75,-242.5 1506.75,-242.5 1506.75,-236.5 1512.75,-230.5 1518.75,-230.5 1518.75,-230.5 1596.25,-230.5 1596.25,-230.5 1602.25,-230.5 1608.25,-236.5 1608.25,-242.5 1608.25,-242.5 1608.25,-286.5 1608.25,-286.5 1608.25,-292.5 1602.25,-298.5 1596.25,-298.5\"/>\n",
              "<text text-anchor=\"start\" x=\"1529.75\" y=\"-281.2\" font-family=\"Helvetica,sans-Serif\" font-size=\"14.00\">gini = 0.0</text>\n",
              "<text text-anchor=\"start\" x=\"1516.62\" y=\"-266.2\" font-family=\"Helvetica,sans-Serif\" font-size=\"14.00\">samples = 15</text>\n",
              "<text text-anchor=\"start\" x=\"1514.75\" y=\"-251.2\" font-family=\"Helvetica,sans-Serif\" font-size=\"14.00\">value = [0, 15]</text>\n",
              "<text text-anchor=\"start\" x=\"1524.12\" y=\"-236.2\" font-family=\"Helvetica,sans-Serif\" font-size=\"14.00\">class = low</text>\n",
              "</g>\n",
              "<!-- 46&#45;&gt;47 -->\n",
              "<g id=\"edge47\" class=\"edge\">\n",
              "<title>46&#45;&gt;47</title>\n",
              "<path fill=\"none\" stroke=\"black\" d=\"M1590.01,-341.58C1585.53,-331.1 1580.7,-319.79 1576.17,-309.18\"/>\n",
              "<polygon fill=\"black\" stroke=\"black\" points=\"1579.5,-308.07 1572.35,-300.25 1573.06,-310.82 1579.5,-308.07\"/>\n",
              "</g>\n",
              "<!-- 48 -->\n",
              "<g id=\"node49\" class=\"node\">\n",
              "<title>48</title>\n",
              "<path fill=\"#4fa8e8\" stroke=\"black\" d=\"M1712.38,-298.5C1712.38,-298.5 1638.62,-298.5 1638.62,-298.5 1632.62,-298.5 1626.62,-292.5 1626.62,-286.5 1626.62,-286.5 1626.62,-242.5 1626.62,-242.5 1626.62,-236.5 1632.62,-230.5 1638.62,-230.5 1638.62,-230.5 1712.38,-230.5 1712.38,-230.5 1718.38,-230.5 1724.38,-236.5 1724.38,-242.5 1724.38,-242.5 1724.38,-286.5 1724.38,-286.5 1724.38,-292.5 1718.38,-298.5 1712.38,-298.5\"/>\n",
              "<text text-anchor=\"start\" x=\"1644\" y=\"-281.2\" font-family=\"Helvetica,sans-Serif\" font-size=\"14.00\">gini = 0.18</text>\n",
              "<text text-anchor=\"start\" x=\"1634.62\" y=\"-266.2\" font-family=\"Helvetica,sans-Serif\" font-size=\"14.00\">samples = 10</text>\n",
              "<text text-anchor=\"start\" x=\"1636.5\" y=\"-251.2\" font-family=\"Helvetica,sans-Serif\" font-size=\"14.00\">value = [1, 9]</text>\n",
              "<text text-anchor=\"start\" x=\"1642.12\" y=\"-236.2\" font-family=\"Helvetica,sans-Serif\" font-size=\"14.00\">class = low</text>\n",
              "</g>\n",
              "<!-- 46&#45;&gt;48 -->\n",
              "<g id=\"edge48\" class=\"edge\">\n",
              "<title>46&#45;&gt;48</title>\n",
              "<path fill=\"none\" stroke=\"black\" d=\"M1631.28,-341.58C1637.5,-330.88 1644.22,-319.32 1650.5,-308.52\"/>\n",
              "<polygon fill=\"black\" stroke=\"black\" points=\"1653.35,-310.57 1655.35,-300.17 1647.3,-307.06 1653.35,-310.57\"/>\n",
              "</g>\n",
              "<!-- 50 -->\n",
              "<g id=\"node51\" class=\"node\">\n",
              "<title>50</title>\n",
              "<path fill=\"#8ec7f0\" stroke=\"black\" d=\"M1828.38,-298.5C1828.38,-298.5 1754.62,-298.5 1754.62,-298.5 1748.62,-298.5 1742.62,-292.5 1742.62,-286.5 1742.62,-286.5 1742.62,-242.5 1742.62,-242.5 1742.62,-236.5 1748.62,-230.5 1754.62,-230.5 1754.62,-230.5 1828.38,-230.5 1828.38,-230.5 1834.38,-230.5 1840.38,-236.5 1840.38,-242.5 1840.38,-242.5 1840.38,-286.5 1840.38,-286.5 1840.38,-292.5 1834.38,-298.5 1828.38,-298.5\"/>\n",
              "<text text-anchor=\"start\" x=\"1760\" y=\"-281.2\" font-family=\"Helvetica,sans-Serif\" font-size=\"14.00\">gini = 0.42</text>\n",
              "<text text-anchor=\"start\" x=\"1750.62\" y=\"-266.2\" font-family=\"Helvetica,sans-Serif\" font-size=\"14.00\">samples = 10</text>\n",
              "<text text-anchor=\"start\" x=\"1752.5\" y=\"-251.2\" font-family=\"Helvetica,sans-Serif\" font-size=\"14.00\">value = [3, 7]</text>\n",
              "<text text-anchor=\"start\" x=\"1758.12\" y=\"-236.2\" font-family=\"Helvetica,sans-Serif\" font-size=\"14.00\">class = low</text>\n",
              "</g>\n",
              "<!-- 49&#45;&gt;50 -->\n",
              "<g id=\"edge50\" class=\"edge\">\n",
              "<title>49&#45;&gt;50</title>\n",
              "<path fill=\"none\" stroke=\"black\" d=\"M1791.5,-341.58C1791.5,-331.43 1791.5,-320.5 1791.5,-310.18\"/>\n",
              "<polygon fill=\"black\" stroke=\"black\" points=\"1795,-310.37 1791.5,-300.37 1788,-310.37 1795,-310.37\"/>\n",
              "</g>\n",
              "<!-- 51 -->\n",
              "<g id=\"node52\" class=\"node\">\n",
              "<title>51</title>\n",
              "<path fill=\"#e58139\" stroke=\"black\" d=\"M1948.25,-298.5C1948.25,-298.5 1870.75,-298.5 1870.75,-298.5 1864.75,-298.5 1858.75,-292.5 1858.75,-286.5 1858.75,-286.5 1858.75,-242.5 1858.75,-242.5 1858.75,-236.5 1864.75,-230.5 1870.75,-230.5 1870.75,-230.5 1948.25,-230.5 1948.25,-230.5 1954.25,-230.5 1960.25,-236.5 1960.25,-242.5 1960.25,-242.5 1960.25,-286.5 1960.25,-286.5 1960.25,-292.5 1954.25,-298.5 1948.25,-298.5\"/>\n",
              "<text text-anchor=\"start\" x=\"1881.75\" y=\"-281.2\" font-family=\"Helvetica,sans-Serif\" font-size=\"14.00\">gini = 0.0</text>\n",
              "<text text-anchor=\"start\" x=\"1868.62\" y=\"-266.2\" font-family=\"Helvetica,sans-Serif\" font-size=\"14.00\">samples = 26</text>\n",
              "<text text-anchor=\"start\" x=\"1866.75\" y=\"-251.2\" font-family=\"Helvetica,sans-Serif\" font-size=\"14.00\">value = [26, 0]</text>\n",
              "<text text-anchor=\"start\" x=\"1873.5\" y=\"-236.2\" font-family=\"Helvetica,sans-Serif\" font-size=\"14.00\">class = high</text>\n",
              "</g>\n",
              "<!-- 49&#45;&gt;51 -->\n",
              "<g id=\"edge51\" class=\"edge\">\n",
              "<title>49&#45;&gt;51</title>\n",
              "<path fill=\"none\" stroke=\"black\" d=\"M1832.77,-341.58C1844.11,-330.34 1856.41,-318.14 1867.77,-306.87\"/>\n",
              "<polygon fill=\"black\" stroke=\"black\" points=\"1870.14,-309.45 1874.78,-299.93 1865.21,-304.48 1870.14,-309.45\"/>\n",
              "</g>\n",
              "<!-- 53 -->\n",
              "<g id=\"node54\" class=\"node\">\n",
              "<title>53</title>\n",
              "<path fill=\"#f0f7fd\" stroke=\"black\" d=\"M2327.75,-544C2327.75,-544 2175.25,-544 2175.25,-544 2169.25,-544 2163.25,-538 2163.25,-532 2163.25,-532 2163.25,-473 2163.25,-473 2163.25,-467 2169.25,-461 2175.25,-461 2175.25,-461 2327.75,-461 2327.75,-461 2333.75,-461 2339.75,-467 2339.75,-473 2339.75,-473 2339.75,-532 2339.75,-532 2339.75,-538 2333.75,-544 2327.75,-544\"/>\n",
              "<text text-anchor=\"start\" x=\"2171.25\" y=\"-526.7\" font-family=\"Helvetica,sans-Serif\" font-size=\"14.00\">Num_Prev_Positions ≤ 1.5</text>\n",
              "<text text-anchor=\"start\" x=\"2216.25\" y=\"-511.7\" font-family=\"Helvetica,sans-Serif\" font-size=\"14.00\">gini = 0.499</text>\n",
              "<text text-anchor=\"start\" x=\"2210.62\" y=\"-496.7\" font-family=\"Helvetica,sans-Serif\" font-size=\"14.00\">samples = 75</text>\n",
              "<text text-anchor=\"start\" x=\"2205\" y=\"-481.7\" font-family=\"Helvetica,sans-Serif\" font-size=\"14.00\">value = [36, 39]</text>\n",
              "<text text-anchor=\"start\" x=\"2218.12\" y=\"-466.7\" font-family=\"Helvetica,sans-Serif\" font-size=\"14.00\">class = low</text>\n",
              "</g>\n",
              "<!-- 52&#45;&gt;53 -->\n",
              "<g id=\"edge53\" class=\"edge\">\n",
              "<title>52&#45;&gt;53</title>\n",
              "<path fill=\"none\" stroke=\"black\" d=\"M2251.5,-579.58C2251.5,-571.79 2251.5,-563.53 2251.5,-555.45\"/>\n",
              "<polygon fill=\"black\" stroke=\"black\" points=\"2255,-555.71 2251.5,-545.71 2248,-555.71 2255,-555.71\"/>\n",
              "</g>\n",
              "<!-- 62 -->\n",
              "<g id=\"node63\" class=\"node\">\n",
              "<title>62</title>\n",
              "<path fill=\"#e99456\" stroke=\"black\" d=\"M2595.75,-544C2595.75,-544 2503.25,-544 2503.25,-544 2497.25,-544 2491.25,-538 2491.25,-532 2491.25,-532 2491.25,-473 2491.25,-473 2491.25,-467 2497.25,-461 2503.25,-461 2503.25,-461 2595.75,-461 2595.75,-461 2601.75,-461 2607.75,-467 2607.75,-473 2607.75,-473 2607.75,-532 2607.75,-532 2607.75,-538 2601.75,-544 2595.75,-544\"/>\n",
              "<text text-anchor=\"start\" x=\"2499.25\" y=\"-526.7\" font-family=\"Helvetica,sans-Serif\" font-size=\"14.00\">Leadership ≤ 5.5</text>\n",
              "<text text-anchor=\"start\" x=\"2514.25\" y=\"-511.7\" font-family=\"Helvetica,sans-Serif\" font-size=\"14.00\">gini = 0.226</text>\n",
              "<text text-anchor=\"start\" x=\"2504.88\" y=\"-496.7\" font-family=\"Helvetica,sans-Serif\" font-size=\"14.00\">samples = 108</text>\n",
              "<text text-anchor=\"start\" x=\"2503\" y=\"-481.7\" font-family=\"Helvetica,sans-Serif\" font-size=\"14.00\">value = [94, 14]</text>\n",
              "<text text-anchor=\"start\" x=\"2513.5\" y=\"-466.7\" font-family=\"Helvetica,sans-Serif\" font-size=\"14.00\">class = high</text>\n",
              "</g>\n",
              "<!-- 52&#45;&gt;62 -->\n",
              "<g id=\"edge62\" class=\"edge\">\n",
              "<title>52&#45;&gt;62</title>\n",
              "<path fill=\"none\" stroke=\"black\" d=\"M2326.31,-591.13C2373.66,-572.54 2434.42,-548.68 2480.59,-530.56\"/>\n",
              "<polygon fill=\"black\" stroke=\"black\" points=\"2481.66,-533.9 2489.69,-526.98 2479.1,-527.38 2481.66,-533.9\"/>\n",
              "</g>\n",
              "<!-- 54 -->\n",
              "<g id=\"node55\" class=\"node\">\n",
              "<title>54</title>\n",
              "<path fill=\"#70b8ec\" stroke=\"black\" d=\"M2230.75,-425C2230.75,-425 2138.25,-425 2138.25,-425 2132.25,-425 2126.25,-419 2126.25,-413 2126.25,-413 2126.25,-354 2126.25,-354 2126.25,-348 2132.25,-342 2138.25,-342 2138.25,-342 2230.75,-342 2230.75,-342 2236.75,-342 2242.75,-348 2242.75,-354 2242.75,-354 2242.75,-413 2242.75,-413 2242.75,-419 2236.75,-425 2230.75,-425\"/>\n",
              "<text text-anchor=\"start\" x=\"2134.25\" y=\"-407.7\" font-family=\"Helvetica,sans-Serif\" font-size=\"14.00\">Leadership ≤ 6.5</text>\n",
              "<text text-anchor=\"start\" x=\"2149.25\" y=\"-392.7\" font-family=\"Helvetica,sans-Serif\" font-size=\"14.00\">gini = 0.339</text>\n",
              "<text text-anchor=\"start\" x=\"2143.62\" y=\"-377.7\" font-family=\"Helvetica,sans-Serif\" font-size=\"14.00\">samples = 37</text>\n",
              "<text text-anchor=\"start\" x=\"2141.75\" y=\"-362.7\" font-family=\"Helvetica,sans-Serif\" font-size=\"14.00\">value = [8, 29]</text>\n",
              "<text text-anchor=\"start\" x=\"2151.12\" y=\"-347.7\" font-family=\"Helvetica,sans-Serif\" font-size=\"14.00\">class = low</text>\n",
              "</g>\n",
              "<!-- 53&#45;&gt;54 -->\n",
              "<g id=\"edge54\" class=\"edge\">\n",
              "<title>53&#45;&gt;54</title>\n",
              "<path fill=\"none\" stroke=\"black\" d=\"M2228.07,-460.58C2223.35,-452.34 2218.33,-443.58 2213.45,-435.06\"/>\n",
              "<polygon fill=\"black\" stroke=\"black\" points=\"2216.57,-433.45 2208.56,-426.51 2210.49,-436.93 2216.57,-433.45\"/>\n",
              "</g>\n",
              "<!-- 59 -->\n",
              "<g id=\"node60\" class=\"node\">\n",
              "<title>59</title>\n",
              "<path fill=\"#eeae80\" stroke=\"black\" d=\"M2365.75,-425C2365.75,-425 2273.25,-425 2273.25,-425 2267.25,-425 2261.25,-419 2261.25,-413 2261.25,-413 2261.25,-354 2261.25,-354 2261.25,-348 2267.25,-342 2273.25,-342 2273.25,-342 2365.75,-342 2365.75,-342 2371.75,-342 2377.75,-348 2377.75,-354 2377.75,-354 2377.75,-413 2377.75,-413 2377.75,-419 2371.75,-425 2365.75,-425\"/>\n",
              "<text text-anchor=\"start\" x=\"2269.25\" y=\"-407.7\" font-family=\"Helvetica,sans-Serif\" font-size=\"14.00\">Leadership ≤ 5.5</text>\n",
              "<text text-anchor=\"start\" x=\"2284.25\" y=\"-392.7\" font-family=\"Helvetica,sans-Serif\" font-size=\"14.00\">gini = 0.388</text>\n",
              "<text text-anchor=\"start\" x=\"2278.62\" y=\"-377.7\" font-family=\"Helvetica,sans-Serif\" font-size=\"14.00\">samples = 38</text>\n",
              "<text text-anchor=\"start\" x=\"2273\" y=\"-362.7\" font-family=\"Helvetica,sans-Serif\" font-size=\"14.00\">value = [28, 10]</text>\n",
              "<text text-anchor=\"start\" x=\"2283.5\" y=\"-347.7\" font-family=\"Helvetica,sans-Serif\" font-size=\"14.00\">class = high</text>\n",
              "</g>\n",
              "<!-- 53&#45;&gt;59 -->\n",
              "<g id=\"edge59\" class=\"edge\">\n",
              "<title>53&#45;&gt;59</title>\n",
              "<path fill=\"none\" stroke=\"black\" d=\"M2275.28,-460.58C2280.07,-452.34 2285.16,-443.58 2290.12,-435.06\"/>\n",
              "<polygon fill=\"black\" stroke=\"black\" points=\"2293.09,-436.91 2295.08,-426.51 2287.03,-433.4 2293.09,-436.91\"/>\n",
              "</g>\n",
              "<!-- 55 -->\n",
              "<g id=\"node56\" class=\"node\">\n",
              "<title>55</title>\n",
              "<path fill=\"#42a1e6\" stroke=\"black\" d=\"M2114.88,-306C2114.88,-306 1990.12,-306 1990.12,-306 1984.12,-306 1978.12,-300 1978.12,-294 1978.12,-294 1978.12,-235 1978.12,-235 1978.12,-229 1984.12,-223 1990.12,-223 1990.12,-223 2114.88,-223 2114.88,-223 2120.88,-223 2126.88,-229 2126.88,-235 2126.88,-235 2126.88,-294 2126.88,-294 2126.88,-300 2120.88,-306 2114.88,-306\"/>\n",
              "<text text-anchor=\"start\" x=\"1986.12\" y=\"-288.7\" font-family=\"Helvetica,sans-Serif\" font-size=\"14.00\">Time_Employed ≤ 2.5</text>\n",
              "<text text-anchor=\"start\" x=\"2021\" y=\"-273.7\" font-family=\"Helvetica,sans-Serif\" font-size=\"14.00\">gini = 0.08</text>\n",
              "<text text-anchor=\"start\" x=\"2011.62\" y=\"-258.7\" font-family=\"Helvetica,sans-Serif\" font-size=\"14.00\">samples = 24</text>\n",
              "<text text-anchor=\"start\" x=\"2009.75\" y=\"-243.7\" font-family=\"Helvetica,sans-Serif\" font-size=\"14.00\">value = [1, 23]</text>\n",
              "<text text-anchor=\"start\" x=\"2019.12\" y=\"-228.7\" font-family=\"Helvetica,sans-Serif\" font-size=\"14.00\">class = low</text>\n",
              "</g>\n",
              "<!-- 54&#45;&gt;55 -->\n",
              "<g id=\"edge55\" class=\"edge\">\n",
              "<title>54&#45;&gt;55</title>\n",
              "<path fill=\"none\" stroke=\"black\" d=\"M2138.33,-341.58C2128.13,-332.53 2117.22,-322.87 2106.73,-313.56\"/>\n",
              "<polygon fill=\"black\" stroke=\"black\" points=\"2109.36,-311.22 2099.55,-307.2 2104.71,-316.46 2109.36,-311.22\"/>\n",
              "</g>\n",
              "<!-- 58 -->\n",
              "<g id=\"node59\" class=\"node\">\n",
              "<title>58</title>\n",
              "<path fill=\"#fbede3\" stroke=\"black\" d=\"M2230.38,-298.5C2230.38,-298.5 2156.62,-298.5 2156.62,-298.5 2150.62,-298.5 2144.62,-292.5 2144.62,-286.5 2144.62,-286.5 2144.62,-242.5 2144.62,-242.5 2144.62,-236.5 2150.62,-230.5 2156.62,-230.5 2156.62,-230.5 2230.38,-230.5 2230.38,-230.5 2236.38,-230.5 2242.38,-236.5 2242.38,-242.5 2242.38,-242.5 2242.38,-286.5 2242.38,-286.5 2242.38,-292.5 2236.38,-298.5 2230.38,-298.5\"/>\n",
              "<text text-anchor=\"start\" x=\"2158.25\" y=\"-281.2\" font-family=\"Helvetica,sans-Serif\" font-size=\"14.00\">gini = 0.497</text>\n",
              "<text text-anchor=\"start\" x=\"2152.62\" y=\"-266.2\" font-family=\"Helvetica,sans-Serif\" font-size=\"14.00\">samples = 13</text>\n",
              "<text text-anchor=\"start\" x=\"2154.5\" y=\"-251.2\" font-family=\"Helvetica,sans-Serif\" font-size=\"14.00\">value = [7, 6]</text>\n",
              "<text text-anchor=\"start\" x=\"2157.5\" y=\"-236.2\" font-family=\"Helvetica,sans-Serif\" font-size=\"14.00\">class = high</text>\n",
              "</g>\n",
              "<!-- 54&#45;&gt;58 -->\n",
              "<g id=\"edge58\" class=\"edge\">\n",
              "<title>54&#45;&gt;58</title>\n",
              "<path fill=\"none\" stroke=\"black\" d=\"M2187.65,-341.58C2188.43,-331.43 2189.27,-320.5 2190.06,-310.18\"/>\n",
              "<polygon fill=\"black\" stroke=\"black\" points=\"2193.54,-310.61 2190.82,-300.37 2186.56,-310.07 2193.54,-310.61\"/>\n",
              "</g>\n",
              "<!-- 56 -->\n",
              "<g id=\"node57\" class=\"node\">\n",
              "<title>56</title>\n",
              "<path fill=\"#399de5\" stroke=\"black\" d=\"M2031.25,-179.5C2031.25,-179.5 1953.75,-179.5 1953.75,-179.5 1947.75,-179.5 1941.75,-173.5 1941.75,-167.5 1941.75,-167.5 1941.75,-123.5 1941.75,-123.5 1941.75,-117.5 1947.75,-111.5 1953.75,-111.5 1953.75,-111.5 2031.25,-111.5 2031.25,-111.5 2037.25,-111.5 2043.25,-117.5 2043.25,-123.5 2043.25,-123.5 2043.25,-167.5 2043.25,-167.5 2043.25,-173.5 2037.25,-179.5 2031.25,-179.5\"/>\n",
              "<text text-anchor=\"start\" x=\"1964.75\" y=\"-162.2\" font-family=\"Helvetica,sans-Serif\" font-size=\"14.00\">gini = 0.0</text>\n",
              "<text text-anchor=\"start\" x=\"1951.62\" y=\"-147.2\" font-family=\"Helvetica,sans-Serif\" font-size=\"14.00\">samples = 13</text>\n",
              "<text text-anchor=\"start\" x=\"1949.75\" y=\"-132.2\" font-family=\"Helvetica,sans-Serif\" font-size=\"14.00\">value = [0, 13]</text>\n",
              "<text text-anchor=\"start\" x=\"1959.12\" y=\"-117.2\" font-family=\"Helvetica,sans-Serif\" font-size=\"14.00\">class = low</text>\n",
              "</g>\n",
              "<!-- 55&#45;&gt;56 -->\n",
              "<g id=\"edge56\" class=\"edge\">\n",
              "<title>55&#45;&gt;56</title>\n",
              "<path fill=\"none\" stroke=\"black\" d=\"M2031.51,-222.58C2026.09,-211.99 2020.22,-200.56 2014.73,-189.85\"/>\n",
              "<polygon fill=\"black\" stroke=\"black\" points=\"2017.98,-188.51 2010.3,-181.21 2011.75,-191.7 2017.98,-188.51\"/>\n",
              "</g>\n",
              "<!-- 57 -->\n",
              "<g id=\"node58\" class=\"node\">\n",
              "<title>57</title>\n",
              "<path fill=\"#4da7e8\" stroke=\"black\" d=\"M2151.25,-179.5C2151.25,-179.5 2073.75,-179.5 2073.75,-179.5 2067.75,-179.5 2061.75,-173.5 2061.75,-167.5 2061.75,-167.5 2061.75,-123.5 2061.75,-123.5 2061.75,-117.5 2067.75,-111.5 2073.75,-111.5 2073.75,-111.5 2151.25,-111.5 2151.25,-111.5 2157.25,-111.5 2163.25,-117.5 2163.25,-123.5 2163.25,-123.5 2163.25,-167.5 2163.25,-167.5 2163.25,-173.5 2157.25,-179.5 2151.25,-179.5\"/>\n",
              "<text text-anchor=\"start\" x=\"2077.25\" y=\"-162.2\" font-family=\"Helvetica,sans-Serif\" font-size=\"14.00\">gini = 0.165</text>\n",
              "<text text-anchor=\"start\" x=\"2071.62\" y=\"-147.2\" font-family=\"Helvetica,sans-Serif\" font-size=\"14.00\">samples = 11</text>\n",
              "<text text-anchor=\"start\" x=\"2069.75\" y=\"-132.2\" font-family=\"Helvetica,sans-Serif\" font-size=\"14.00\">value = [1, 10]</text>\n",
              "<text text-anchor=\"start\" x=\"2079.12\" y=\"-117.2\" font-family=\"Helvetica,sans-Serif\" font-size=\"14.00\">class = low</text>\n",
              "</g>\n",
              "<!-- 55&#45;&gt;57 -->\n",
              "<g id=\"edge57\" class=\"edge\">\n",
              "<title>55&#45;&gt;57</title>\n",
              "<path fill=\"none\" stroke=\"black\" d=\"M2073.49,-222.58C2078.91,-211.99 2084.78,-200.56 2090.27,-189.85\"/>\n",
              "<polygon fill=\"black\" stroke=\"black\" points=\"2093.25,-191.7 2094.7,-181.21 2087.02,-188.51 2093.25,-191.7\"/>\n",
              "</g>\n",
              "<!-- 60 -->\n",
              "<g id=\"node61\" class=\"node\">\n",
              "<title>60</title>\n",
              "<path fill=\"#d7ebfa\" stroke=\"black\" d=\"M2350.25,-298.5C2350.25,-298.5 2272.75,-298.5 2272.75,-298.5 2266.75,-298.5 2260.75,-292.5 2260.75,-286.5 2260.75,-286.5 2260.75,-242.5 2260.75,-242.5 2260.75,-236.5 2266.75,-230.5 2272.75,-230.5 2272.75,-230.5 2350.25,-230.5 2350.25,-230.5 2356.25,-230.5 2362.25,-236.5 2362.25,-242.5 2362.25,-242.5 2362.25,-286.5 2362.25,-286.5 2362.25,-292.5 2356.25,-298.5 2350.25,-298.5\"/>\n",
              "<text text-anchor=\"start\" x=\"2276.25\" y=\"-281.2\" font-family=\"Helvetica,sans-Serif\" font-size=\"14.00\">gini = 0.494</text>\n",
              "<text text-anchor=\"start\" x=\"2270.62\" y=\"-266.2\" font-family=\"Helvetica,sans-Serif\" font-size=\"14.00\">samples = 18</text>\n",
              "<text text-anchor=\"start\" x=\"2268.75\" y=\"-251.2\" font-family=\"Helvetica,sans-Serif\" font-size=\"14.00\">value = [8, 10]</text>\n",
              "<text text-anchor=\"start\" x=\"2278.12\" y=\"-236.2\" font-family=\"Helvetica,sans-Serif\" font-size=\"14.00\">class = low</text>\n",
              "</g>\n",
              "<!-- 59&#45;&gt;60 -->\n",
              "<g id=\"edge60\" class=\"edge\">\n",
              "<title>59&#45;&gt;60</title>\n",
              "<path fill=\"none\" stroke=\"black\" d=\"M2316.7,-341.58C2316.01,-331.43 2315.26,-320.5 2314.56,-310.18\"/>\n",
              "<polygon fill=\"black\" stroke=\"black\" points=\"2318.06,-310.11 2313.88,-300.37 2311.07,-310.59 2318.06,-310.11\"/>\n",
              "</g>\n",
              "<!-- 61 -->\n",
              "<g id=\"node62\" class=\"node\">\n",
              "<title>61</title>\n",
              "<path fill=\"#e58139\" stroke=\"black\" d=\"M2470.25,-298.5C2470.25,-298.5 2392.75,-298.5 2392.75,-298.5 2386.75,-298.5 2380.75,-292.5 2380.75,-286.5 2380.75,-286.5 2380.75,-242.5 2380.75,-242.5 2380.75,-236.5 2386.75,-230.5 2392.75,-230.5 2392.75,-230.5 2470.25,-230.5 2470.25,-230.5 2476.25,-230.5 2482.25,-236.5 2482.25,-242.5 2482.25,-242.5 2482.25,-286.5 2482.25,-286.5 2482.25,-292.5 2476.25,-298.5 2470.25,-298.5\"/>\n",
              "<text text-anchor=\"start\" x=\"2403.75\" y=\"-281.2\" font-family=\"Helvetica,sans-Serif\" font-size=\"14.00\">gini = 0.0</text>\n",
              "<text text-anchor=\"start\" x=\"2390.62\" y=\"-266.2\" font-family=\"Helvetica,sans-Serif\" font-size=\"14.00\">samples = 20</text>\n",
              "<text text-anchor=\"start\" x=\"2388.75\" y=\"-251.2\" font-family=\"Helvetica,sans-Serif\" font-size=\"14.00\">value = [20, 0]</text>\n",
              "<text text-anchor=\"start\" x=\"2395.5\" y=\"-236.2\" font-family=\"Helvetica,sans-Serif\" font-size=\"14.00\">class = high</text>\n",
              "</g>\n",
              "<!-- 59&#45;&gt;61 -->\n",
              "<g id=\"edge61\" class=\"edge\">\n",
              "<title>59&#45;&gt;61</title>\n",
              "<path fill=\"none\" stroke=\"black\" d=\"M2358.67,-341.58C2369.43,-330.34 2381.11,-318.14 2391.89,-306.87\"/>\n",
              "<polygon fill=\"black\" stroke=\"black\" points=\"2394.13,-309.6 2398.52,-299.95 2389.07,-304.76 2394.13,-309.6\"/>\n",
              "</g>\n",
              "<!-- 63 -->\n",
              "<g id=\"node64\" class=\"node\">\n",
              "<title>63</title>\n",
              "<path fill=\"#eeae80\" stroke=\"black\" d=\"M2625.75,-425C2625.75,-425 2473.25,-425 2473.25,-425 2467.25,-425 2461.25,-419 2461.25,-413 2461.25,-413 2461.25,-354 2461.25,-354 2461.25,-348 2467.25,-342 2473.25,-342 2473.25,-342 2625.75,-342 2625.75,-342 2631.75,-342 2637.75,-348 2637.75,-354 2637.75,-354 2637.75,-413 2637.75,-413 2637.75,-419 2631.75,-425 2625.75,-425\"/>\n",
              "<text text-anchor=\"start\" x=\"2469.25\" y=\"-407.7\" font-family=\"Helvetica,sans-Serif\" font-size=\"14.00\">Num_Prev_Positions ≤ 0.5</text>\n",
              "<text text-anchor=\"start\" x=\"2514.25\" y=\"-392.7\" font-family=\"Helvetica,sans-Serif\" font-size=\"14.00\">gini = 0.389</text>\n",
              "<text text-anchor=\"start\" x=\"2508.62\" y=\"-377.7\" font-family=\"Helvetica,sans-Serif\" font-size=\"14.00\">samples = 53</text>\n",
              "<text text-anchor=\"start\" x=\"2503\" y=\"-362.7\" font-family=\"Helvetica,sans-Serif\" font-size=\"14.00\">value = [39, 14]</text>\n",
              "<text text-anchor=\"start\" x=\"2513.5\" y=\"-347.7\" font-family=\"Helvetica,sans-Serif\" font-size=\"14.00\">class = high</text>\n",
              "</g>\n",
              "<!-- 62&#45;&gt;63 -->\n",
              "<g id=\"edge63\" class=\"edge\">\n",
              "<title>62&#45;&gt;63</title>\n",
              "<path fill=\"none\" stroke=\"black\" d=\"M2549.5,-460.58C2549.5,-452.79 2549.5,-444.53 2549.5,-436.45\"/>\n",
              "<polygon fill=\"black\" stroke=\"black\" points=\"2553,-436.71 2549.5,-426.71 2546,-436.71 2553,-436.71\"/>\n",
              "</g>\n",
              "<!-- 68 -->\n",
              "<g id=\"node69\" class=\"node\">\n",
              "<title>68</title>\n",
              "<path fill=\"#e58139\" stroke=\"black\" d=\"M2745.25,-417.5C2745.25,-417.5 2667.75,-417.5 2667.75,-417.5 2661.75,-417.5 2655.75,-411.5 2655.75,-405.5 2655.75,-405.5 2655.75,-361.5 2655.75,-361.5 2655.75,-355.5 2661.75,-349.5 2667.75,-349.5 2667.75,-349.5 2745.25,-349.5 2745.25,-349.5 2751.25,-349.5 2757.25,-355.5 2757.25,-361.5 2757.25,-361.5 2757.25,-405.5 2757.25,-405.5 2757.25,-411.5 2751.25,-417.5 2745.25,-417.5\"/>\n",
              "<text text-anchor=\"start\" x=\"2678.75\" y=\"-400.2\" font-family=\"Helvetica,sans-Serif\" font-size=\"14.00\">gini = 0.0</text>\n",
              "<text text-anchor=\"start\" x=\"2665.62\" y=\"-385.2\" font-family=\"Helvetica,sans-Serif\" font-size=\"14.00\">samples = 55</text>\n",
              "<text text-anchor=\"start\" x=\"2663.75\" y=\"-370.2\" font-family=\"Helvetica,sans-Serif\" font-size=\"14.00\">value = [55, 0]</text>\n",
              "<text text-anchor=\"start\" x=\"2670.5\" y=\"-355.2\" font-family=\"Helvetica,sans-Serif\" font-size=\"14.00\">class = high</text>\n",
              "</g>\n",
              "<!-- 62&#45;&gt;68 -->\n",
              "<g id=\"edge68\" class=\"edge\">\n",
              "<title>62&#45;&gt;68</title>\n",
              "<path fill=\"none\" stroke=\"black\" d=\"M2604.41,-460.58C2620.08,-448.9 2637.14,-436.19 2652.74,-424.57\"/>\n",
              "<polygon fill=\"black\" stroke=\"black\" points=\"2654.59,-427.55 2660.52,-418.77 2650.41,-421.93 2654.59,-427.55\"/>\n",
              "</g>\n",
              "<!-- 64 -->\n",
              "<g id=\"node65\" class=\"node\">\n",
              "<title>64</title>\n",
              "<path fill=\"#4fa8e8\" stroke=\"black\" d=\"M2586.38,-298.5C2586.38,-298.5 2512.62,-298.5 2512.62,-298.5 2506.62,-298.5 2500.62,-292.5 2500.62,-286.5 2500.62,-286.5 2500.62,-242.5 2500.62,-242.5 2500.62,-236.5 2506.62,-230.5 2512.62,-230.5 2512.62,-230.5 2586.38,-230.5 2586.38,-230.5 2592.38,-230.5 2598.38,-236.5 2598.38,-242.5 2598.38,-242.5 2598.38,-286.5 2598.38,-286.5 2598.38,-292.5 2592.38,-298.5 2586.38,-298.5\"/>\n",
              "<text text-anchor=\"start\" x=\"2518\" y=\"-281.2\" font-family=\"Helvetica,sans-Serif\" font-size=\"14.00\">gini = 0.18</text>\n",
              "<text text-anchor=\"start\" x=\"2508.62\" y=\"-266.2\" font-family=\"Helvetica,sans-Serif\" font-size=\"14.00\">samples = 10</text>\n",
              "<text text-anchor=\"start\" x=\"2510.5\" y=\"-251.2\" font-family=\"Helvetica,sans-Serif\" font-size=\"14.00\">value = [1, 9]</text>\n",
              "<text text-anchor=\"start\" x=\"2516.12\" y=\"-236.2\" font-family=\"Helvetica,sans-Serif\" font-size=\"14.00\">class = low</text>\n",
              "</g>\n",
              "<!-- 63&#45;&gt;64 -->\n",
              "<g id=\"edge64\" class=\"edge\">\n",
              "<title>63&#45;&gt;64</title>\n",
              "<path fill=\"none\" stroke=\"black\" d=\"M2549.5,-341.58C2549.5,-331.43 2549.5,-320.5 2549.5,-310.18\"/>\n",
              "<polygon fill=\"black\" stroke=\"black\" points=\"2553,-310.37 2549.5,-300.37 2546,-310.37 2553,-310.37\"/>\n",
              "</g>\n",
              "<!-- 65 -->\n",
              "<g id=\"node66\" class=\"node\">\n",
              "<title>65</title>\n",
              "<path fill=\"#e89253\" stroke=\"black\" d=\"M2716.5,-306C2716.5,-306 2628.5,-306 2628.5,-306 2622.5,-306 2616.5,-300 2616.5,-294 2616.5,-294 2616.5,-235 2616.5,-235 2616.5,-229 2622.5,-223 2628.5,-223 2628.5,-223 2716.5,-223 2716.5,-223 2722.5,-223 2728.5,-229 2728.5,-235 2728.5,-235 2728.5,-294 2728.5,-294 2728.5,-300 2722.5,-306 2716.5,-306\"/>\n",
              "<text text-anchor=\"start\" x=\"2624.5\" y=\"-288.7\" font-family=\"Helvetica,sans-Serif\" font-size=\"14.00\">Teamwork ≤ 6.5</text>\n",
              "<text text-anchor=\"start\" x=\"2637.25\" y=\"-273.7\" font-family=\"Helvetica,sans-Serif\" font-size=\"14.00\">gini = 0.206</text>\n",
              "<text text-anchor=\"start\" x=\"2631.62\" y=\"-258.7\" font-family=\"Helvetica,sans-Serif\" font-size=\"14.00\">samples = 43</text>\n",
              "<text text-anchor=\"start\" x=\"2629.75\" y=\"-243.7\" font-family=\"Helvetica,sans-Serif\" font-size=\"14.00\">value = [38, 5]</text>\n",
              "<text text-anchor=\"start\" x=\"2636.5\" y=\"-228.7\" font-family=\"Helvetica,sans-Serif\" font-size=\"14.00\">class = high</text>\n",
              "</g>\n",
              "<!-- 63&#45;&gt;65 -->\n",
              "<g id=\"edge65\" class=\"edge\">\n",
              "<title>63&#45;&gt;65</title>\n",
              "<path fill=\"none\" stroke=\"black\" d=\"M2592.52,-341.58C2601.84,-332.71 2611.79,-323.25 2621.39,-314.12\"/>\n",
              "<polygon fill=\"black\" stroke=\"black\" points=\"2623.78,-316.67 2628.62,-307.24 2618.96,-311.6 2623.78,-316.67\"/>\n",
              "</g>\n",
              "<!-- 66 -->\n",
              "<g id=\"node67\" class=\"node\">\n",
              "<title>66</title>\n",
              "<path fill=\"#f8dbc6\" stroke=\"black\" d=\"M2650.38,-179.5C2650.38,-179.5 2576.62,-179.5 2576.62,-179.5 2570.62,-179.5 2564.62,-173.5 2564.62,-167.5 2564.62,-167.5 2564.62,-123.5 2564.62,-123.5 2564.62,-117.5 2570.62,-111.5 2576.62,-111.5 2576.62,-111.5 2650.38,-111.5 2650.38,-111.5 2656.38,-111.5 2662.38,-117.5 2662.38,-123.5 2662.38,-123.5 2662.38,-167.5 2662.38,-167.5 2662.38,-173.5 2656.38,-179.5 2650.38,-179.5\"/>\n",
              "<text text-anchor=\"start\" x=\"2578.25\" y=\"-162.2\" font-family=\"Helvetica,sans-Serif\" font-size=\"14.00\">gini = 0.486</text>\n",
              "<text text-anchor=\"start\" x=\"2572.62\" y=\"-147.2\" font-family=\"Helvetica,sans-Serif\" font-size=\"14.00\">samples = 12</text>\n",
              "<text text-anchor=\"start\" x=\"2574.5\" y=\"-132.2\" font-family=\"Helvetica,sans-Serif\" font-size=\"14.00\">value = [7, 5]</text>\n",
              "<text text-anchor=\"start\" x=\"2577.5\" y=\"-117.2\" font-family=\"Helvetica,sans-Serif\" font-size=\"14.00\">class = high</text>\n",
              "</g>\n",
              "<!-- 65&#45;&gt;66 -->\n",
              "<g id=\"edge66\" class=\"edge\">\n",
              "<title>65&#45;&gt;66</title>\n",
              "<path fill=\"none\" stroke=\"black\" d=\"M2651.86,-222.58C2646.53,-211.99 2640.76,-200.56 2635.36,-189.85\"/>\n",
              "<polygon fill=\"black\" stroke=\"black\" points=\"2638.63,-188.57 2631,-181.21 2632.38,-191.72 2638.63,-188.57\"/>\n",
              "</g>\n",
              "<!-- 67 -->\n",
              "<g id=\"node68\" class=\"node\">\n",
              "<title>67</title>\n",
              "<path fill=\"#e58139\" stroke=\"black\" d=\"M2770.25,-179.5C2770.25,-179.5 2692.75,-179.5 2692.75,-179.5 2686.75,-179.5 2680.75,-173.5 2680.75,-167.5 2680.75,-167.5 2680.75,-123.5 2680.75,-123.5 2680.75,-117.5 2686.75,-111.5 2692.75,-111.5 2692.75,-111.5 2770.25,-111.5 2770.25,-111.5 2776.25,-111.5 2782.25,-117.5 2782.25,-123.5 2782.25,-123.5 2782.25,-167.5 2782.25,-167.5 2782.25,-173.5 2776.25,-179.5 2770.25,-179.5\"/>\n",
              "<text text-anchor=\"start\" x=\"2703.75\" y=\"-162.2\" font-family=\"Helvetica,sans-Serif\" font-size=\"14.00\">gini = 0.0</text>\n",
              "<text text-anchor=\"start\" x=\"2690.62\" y=\"-147.2\" font-family=\"Helvetica,sans-Serif\" font-size=\"14.00\">samples = 31</text>\n",
              "<text text-anchor=\"start\" x=\"2688.75\" y=\"-132.2\" font-family=\"Helvetica,sans-Serif\" font-size=\"14.00\">value = [31, 0]</text>\n",
              "<text text-anchor=\"start\" x=\"2695.5\" y=\"-117.2\" font-family=\"Helvetica,sans-Serif\" font-size=\"14.00\">class = high</text>\n",
              "</g>\n",
              "<!-- 65&#45;&gt;67 -->\n",
              "<g id=\"edge67\" class=\"edge\">\n",
              "<title>65&#45;&gt;67</title>\n",
              "<path fill=\"none\" stroke=\"black\" d=\"M2693.14,-222.58C2698.47,-211.99 2704.24,-200.56 2709.64,-189.85\"/>\n",
              "<polygon fill=\"black\" stroke=\"black\" points=\"2712.62,-191.72 2714,-181.21 2706.37,-188.57 2712.62,-191.72\"/>\n",
              "</g>\n",
              "</g>\n",
              "</svg>\n"
            ],
            "text/plain": [
              "<graphviz.sources.Source at 0x1564bf790>"
            ]
          },
          "execution_count": 23,
          "metadata": {},
          "output_type": "execute_result"
        }
      ],
      "source": [
        "feature_names = x_train.columns if hasattr(x_train, 'columns') else [f\"Feature {i}\" for i in range(x_train.shape[1])]\n",
        "\n",
        "class_names = [str(label) for label in sorted(set(y_train))]\n",
        "\n",
        "dot_data = tree.export_graphviz(\n",
        "    model, \n",
        "    out_file=None, \n",
        "    feature_names=feature_names, \n",
        "    class_names=class_names, \n",
        "    filled=True, \n",
        "    rounded=True, \n",
        "    special_characters=True\n",
        ")\n",
        "graph = graphviz.Source(dot_data)\n",
        "graph"
      ]
    },
    {
      "cell_type": "code",
      "execution_count": 24,
      "metadata": {
        "id": "nprW0L9cZRsr"
      },
      "outputs": [],
      "source": [
        "cv = KFold(n_splits = 10, random_state = 1, shuffle = True)"
      ]
    },
    {
      "cell_type": "code",
      "execution_count": 25,
      "metadata": {
        "id": "fol-fzmGaLR2"
      },
      "outputs": [],
      "source": [
        "y_pred = cross_val_predict(model, x_train, y_train, cv = cv)\n",
        "\n",
        "x_train['predicted_class'] = y_pred \n",
        "x_train['actual_class'] = y_train "
      ]
    },
    {
      "cell_type": "code",
      "execution_count": 26,
      "metadata": {
        "id": "ReaCyZdwW5HA"
      },
      "outputs": [],
      "source": [
        "df['Performance_Evaluation'].value_counts()\n",
        "aprior = 687/len(df)"
      ]
    },
    {
      "cell_type": "code",
      "execution_count": 27,
      "metadata": {
        "colab": {
          "base_uri": "https://localhost:8080/"
        },
        "id": "5H4EGM-WadSG",
        "outputId": "28486e7f-d632-4355-e3e1-2b3343b77f55"
      },
      "outputs": [
        {
          "name": "stdout",
          "output_type": "stream",
          "text": [
            "              precision    recall  f1-score   support\n",
            "\n",
            "        high       0.80      0.82      0.81       239\n",
            "         low       0.92      0.91      0.92       561\n",
            "\n",
            "    accuracy                           0.89       800\n",
            "   macro avg       0.86      0.87      0.87       800\n",
            "weighted avg       0.89      0.89      0.89       800\n",
            "\n",
            "Cohen's Kappa score: 0.73\n",
            "Lift: 1.3\n"
          ]
        }
      ],
      "source": [
        "print(classification_report(y_pred, y_train))\n",
        "kappa = round(metrics.cohen_kappa_score(y_pred, y_train), 2)\n",
        "lift = round(.89/aprior, 2)\n",
        "print(\"Cohen's Kappa score:\", kappa)\n",
        "print(\"Lift:\", lift)"
      ]
    },
    {
      "cell_type": "code",
      "execution_count": 28,
      "metadata": {
        "colab": {
          "base_uri": "https://localhost:8080/",
          "height": 449
        },
        "id": "_o2AuJMvbED_",
        "outputId": "39dd4382-dd72-4158-d3ba-c80032f1fa80"
      },
      "outputs": [
        {
          "data": {
            "image/png": "[encoded data removed]",
            "text/plain": [
              "<Figure size 640x480 with 2 Axes>"
            ]
          },
          "metadata": {},
          "output_type": "display_data"
        }
      ],
      "source": [
        "conf = pd.DataFrame(x_train, columns=['actual_class','predicted_class'])\n",
        "confusion_matrix = pd.crosstab(conf['actual_class'], conf['predicted_class'], rownames=['Actual'], colnames=['Predicted'])\n",
        "\n",
        "sns.heatmap(confusion_matrix, annot=True, fmt='g')\n",
        "sns.set(rc={'figure.figsize':(12,10)})\n",
        "plt.show()"
      ]
    },
    {
      "cell_type": "markdown",
      "metadata": {
        "id": "-D7XPjJjdMas"
      },
      "source": [
        "**Results interpretation for ALL results generated in 3B:**\n",
        "\n",
        "Performance_Evaluation_low (positive class = performance WAS found to be low)\n",
        "\n",
        "*   True positive  (TP): Predicted to be low, was low 512 times.\n",
        "*   False positive (FP): Predicted to be low, was high 49 times.\n",
        "*   True negative  (TN): Predicted to be high, was high 42 times.\n",
        "*   False negative (FN): Predicted to be high, was low 197 times.\n",
        "\n",
        "\n",
        "\n",
        "\n"
      ]
    },
    {
      "cell_type": "markdown",
      "metadata": {
        "id": "d4YPBNJIij5e"
      },
      "source": [
        "## **C**\n",
        "\n",
        "**Create at least one visualization with a caption or description about how this visualization contributes towards a *meaningful* interpretation of the manager performance data. Draw from the visualization portion of this course, and create your own relevant visualization, label it, and include a brief caption.**\n",
        "\n",
        "**You may choose to focus on only one or two variables (i.e., it does not need to include all IVs). Imagine you're presenting this analysis to your supervisor or another stakeholder. Create a visualization you would use to illustrate a trend you noted in the Part 3 analysis.**"
      ]
    },
    {
      "cell_type": "code",
      "execution_count": 29,
      "metadata": {
        "colab": {
          "base_uri": "https://localhost:8080/",
          "height": 857
        },
        "id": "BT9nXtrQjtHW",
        "outputId": "c349ca55-13d4-4bfd-8a34-645235620292"
      },
      "outputs": [
        {
          "data": {
            "image/png": "[encoded data removed]",
            "text/plain": [
              "<Figure size 1200x1000 with 1 Axes>"
            ]
          },
          "metadata": {},
          "output_type": "display_data"
        }
      ],
      "source": [
        "category_avg = df.groupby(by= 'Performance_Evaluation').mean()\n",
        "category_avg['Motivation']\n",
        "plt.bar(x=category_avg.index.values, height = category_avg['Motivation'] )\n",
        "plt.title(\"Average Motivation Score\")\n",
        "plt.show()"
      ]
    },
    {
      "cell_type": "markdown",
      "metadata": {
        "id": "eXoj3beTj-k1"
      },
      "source": [
        "Caption:Because Motivation was at the top of our decision tree, it was our most influental feature. If I were to present to a supervisor or stakeholder, I would focus on the most impactfull score."
      ]
    },
    {
      "cell_type": "markdown",
      "metadata": {
        "id": "GKea83-zkPDv"
      },
      "source": [
        "## Supervised DM Technique 2\n",
        "\n",
        "## A"
      ]
    },
    {
      "cell_type": "markdown",
      "metadata": {
        "id": "3BUojaU6a9BL"
      },
      "source": [
        "We chose to run a logitic regression model. We are choosing this because we only have 2 outcomes, and because it is useful as a predictive tool to discover which managers will have high performance.\n",
        "\n"
      ]
    },
    {
      "cell_type": "markdown",
      "metadata": {
        "id": "rIKSKO_UbPKe"
      },
      "source": [
        "## B"
      ]
    },
    {
      "cell_type": "code",
      "execution_count": 30,
      "metadata": {
        "id": "-uNm7XCcb64v"
      },
      "outputs": [],
      "source": [
        "from sklearn.linear_model import LogisticRegression\n",
        "from sklearn.metrics import classification_report, confusion_matrix\n",
        "from sklearn.model_selection import KFold\n",
        "from sklearn.model_selection import cross_validate\n",
        "from sklearn.model_selection import cross_val_predict\n",
        "from sklearn.model_selection import train_test_split\n",
        "import sklearn.metrics as metrics\n",
        "import statsmodels.api as sm\n",
        "import seaborn as sns\n",
        "df = pd.read_csv(\"/Users/lincolnwhiting/Git Portfolio/Datasets/manager_performance_clean.csv\")"
      ]
    },
    {
      "cell_type": "code",
      "execution_count": 31,
      "metadata": {
        "id": "9ALdwlr8cV8h"
      },
      "outputs": [],
      "source": [
        "x = df.drop(['Manager_ID', 'Performance_Evaluation'], axis=1)\n",
        "x = pd.get_dummies(data = x, drop_first = False)\n",
        "\n",
        "y = df['Performance_Evaluation']"
      ]
    },
    {
      "cell_type": "code",
      "execution_count": 32,
      "metadata": {
        "colab": {
          "base_uri": "https://localhost:8080/"
        },
        "id": "QL54jMblcj_G",
        "outputId": "e504557a-1ab7-4f2e-e7f1-17077f0f2603"
      },
      "outputs": [
        {
          "name": "stdout",
          "output_type": "stream",
          "text": [
            "(800, 5)\n",
            "(200, 5)\n",
            "(800,)\n",
            "(200,)\n"
          ]
        }
      ],
      "source": [
        "x_train, x_test, y_train, y_test = train_test_split(x, y, test_size=0.2, random_state=100)\n",
        "print(x_train.shape)\n",
        "print(x_test.shape)\n",
        "print(y_train.shape)\n",
        "print(y_test.shape)"
      ]
    },
    {
      "cell_type": "code",
      "execution_count": 33,
      "metadata": {
        "id": "I2eALQdde4J8"
      },
      "outputs": [],
      "source": [
        "cv = KFold(n_splits = 10, random_state = 1, shuffle = True)\n",
        "model = LogisticRegression()"
      ]
    },
    {
      "cell_type": "code",
      "execution_count": 34,
      "metadata": {
        "id": "klosLCvrcw5T"
      },
      "outputs": [],
      "source": [
        "scoring = {'acc': 'accuracy',\n",
        "           'f1' : 'f1',\n",
        "           'precision' : 'precision',\n",
        "           'recall' : 'recall',\n",
        "           'roc_auc' : 'roc_auc',\n",
        "           'r2' : 'r2'}"
      ]
    },
    {
      "cell_type": "code",
      "execution_count": 35,
      "metadata": {
        "colab": {
          "base_uri": "https://localhost:8080/"
        },
        "id": "BAU9OA5jcz-R",
        "outputId": "9b4ed648-ed65-4f26-aebd-b8a877d36c65"
      },
      "outputs": [
        {
          "data": {
            "text/plain": [
              "fit_time          0.002073\n",
              "score_time        0.003218\n",
              "test_acc          0.878750\n",
              "test_f1                NaN\n",
              "test_precision         NaN\n",
              "test_recall            NaN\n",
              "test_roc_auc      0.953672\n",
              "test_r2                NaN\n",
              "dtype: float64"
            ]
          },
          "execution_count": 35,
          "metadata": {},
          "output_type": "execute_result"
        }
      ],
      "source": [
        "scores2 = cross_validate(model, x_train, y_train, scoring = scoring, cv = cv, return_train_score=False)\n",
        "\n",
        "scores2 = pd.DataFrame(scores2, columns = scores2.keys())\n",
        "scores2.mean()"
      ]
    },
    {
      "cell_type": "code",
      "execution_count": 36,
      "metadata": {
        "colab": {
          "base_uri": "https://localhost:8080/"
        },
        "id": "k2PFBYEM6xyX",
        "outputId": "bdacd889-4acc-46de-9319-8036df1154a5"
      },
      "outputs": [
        {
          "name": "stdout",
          "output_type": "stream",
          "text": [
            "              precision    recall  f1-score   support\n",
            "\n",
            "        high       0.80      0.82      0.81       239\n",
            "         low       0.92      0.91      0.92       561\n",
            "\n",
            "    accuracy                           0.89       800\n",
            "   macro avg       0.86      0.87      0.87       800\n",
            "weighted avg       0.89      0.89      0.89       800\n",
            "\n",
            "Cohen's Kappa score: 0.73\n",
            "Lift: 1.28\n"
          ]
        }
      ],
      "source": [
        "print(classification_report(y_pred, y_train))\n",
        "kappa = round(metrics.cohen_kappa_score(y_pred, y_train), 2)\n",
        "lift = round(.88/aprior, 2)\n",
        "print(\"Cohen's Kappa score:\", kappa)\n",
        "print(\"Lift:\", lift)"
      ]
    },
    {
      "cell_type": "code",
      "execution_count": 37,
      "metadata": {
        "colab": {
          "base_uri": "https://localhost:8080/"
        },
        "id": "2sl8QMDcc48-",
        "outputId": "ad5cfd15-7956-404d-a24e-485b72daeb13"
      },
      "outputs": [
        {
          "data": {
            "text/plain": [
              "fit_time          0.002073\n",
              "score_time        0.003218\n",
              "test_acc          0.878750\n",
              "test_f1                NaN\n",
              "test_precision         NaN\n",
              "test_recall            NaN\n",
              "test_roc_auc      0.953672\n",
              "test_r2                NaN\n",
              "dtype: float64"
            ]
          },
          "execution_count": 37,
          "metadata": {},
          "output_type": "execute_result"
        }
      ],
      "source": [
        "scores2.mean()"
      ]
    },
    {
      "cell_type": "code",
      "execution_count": 38,
      "metadata": {
        "colab": {
          "base_uri": "https://localhost:8080/"
        },
        "id": "j0QQUYbzdYNj",
        "outputId": "6dc456ab-797f-4ab9-ac8c-88a32a4d94cc"
      },
      "outputs": [
        {
          "data": {
            "text/plain": [
              "0.7117170666468534"
            ]
          },
          "execution_count": 38,
          "metadata": {},
          "output_type": "execute_result"
        }
      ],
      "source": [
        "y_pred = cross_val_predict(model, x_train, y_train, cv = cv)\n",
        "metrics.cohen_kappa_score(y_train, y_pred)"
      ]
    },
    {
      "cell_type": "code",
      "execution_count": 39,
      "metadata": {
        "colab": {
          "base_uri": "https://localhost:8080/"
        },
        "id": "L4iLPimrxa2K",
        "outputId": "6544bb63-048d-4421-9ff0-ea6ced126ed1"
      },
      "outputs": [
        {
          "data": {
            "text/plain": [
              "Performance_Evaluation\n",
              "low     687\n",
              "high    313\n",
              "Name: count, dtype: int64"
            ]
          },
          "execution_count": 39,
          "metadata": {},
          "output_type": "execute_result"
        }
      ],
      "source": [
        "df['Performance_Evaluation'].value_counts()"
      ]
    },
    {
      "cell_type": "code",
      "execution_count": 40,
      "metadata": {
        "colab": {
          "base_uri": "https://localhost:8080/",
          "height": 858
        },
        "id": "An_wkGB1c_zH",
        "outputId": "555fb6c7-4c1f-49f9-86c6-c86ff221fe3c"
      },
      "outputs": [
        {
          "data": {
            "image/png": "[encoded data removed]",
            "text/plain": [
              "<Figure size 1200x1000 with 2 Axes>"
            ]
          },
          "metadata": {},
          "output_type": "display_data"
        }
      ],
      "source": [
        "y_pred = cross_val_predict(model, x_train, y_train, cv = cv)\n",
        "conf = confusion_matrix(y_train, y_pred)\n",
        "\n",
        "sns.heatmap(conf, annot=True, fmt ='g')\n",
        "sns.set(rc={'figure.figsize': (12,10)})\n",
        "plt.xlabel('Predicted Class')\n",
        "plt.ylabel('Actual Class')\n",
        "plt.show()"
      ]
    },
    {
      "cell_type": "markdown",
      "metadata": {
        "id": "FS64nWSddvY4"
      },
      "source": [
        "**Results Interpretation**\n",
        "\n",
        "\n",
        "ROC-AUC is .953, Roc-auc is measured between 0-1, higher indicates that it has high performance, it performs better than random chance which is 50%\n",
        "\n",
        "TP: 511 predicted low and is actually low\n",
        "\n",
        "FP: 54 predicted low and is actually high\n",
        "\n",
        "TN: 192 predicted high and is actually high\n",
        "\n",
        "FN: 43 predicted high and is actually low\n",
        "\n",
        "Precision is .903, this means that when the model predicts a positive outcome, in this case low, it is correct about 90.3% of the time while minimizing false positives\n",
        "\n",
        "Recall is .923, this means that when the model predicts a positive case, it is correct about 92.3% of the time while minimizing false negatives\n",
        "\n",
        "Kappa is 0.712. This is a good Kappa value because kappa measures how much better the model is performing than chance. This is a good value because kappa is from 0-1, and the closer to 1 the better.\n",
        "\n",
        "Lift is 1.28. Since lift is from 0 to infinity, the greater lift is the better. A lift of 1.28 shows the model performs 1.28 times better than the baseline prediction at identifying true positive cases.\n",
        "\n",
        "Cross validated accuracy is 0.8785, The model is 87.5% accurate when used on other data besides the training data\n",
        "\n",
        "F1 is .912. F1 is measured from 0-1. Being close to 1 indicates that the model has a high level of accuracy in identifying true positive cases while obtaining high precision and high recall."
      ]
    },
    {
      "cell_type": "markdown",
      "metadata": {
        "id": "BjrRP7zYgqh6"
      },
      "source": [
        "## **C**\n",
        "\n",
        "**Visualization and insight presentation**"
      ]
    },
    {
      "cell_type": "code",
      "execution_count": 41,
      "metadata": {
        "colab": {
          "base_uri": "https://localhost:8080/",
          "height": 857
        },
        "id": "RFyHnxpBg1_y",
        "outputId": "3390b3d4-0b66-498d-f99b-6d5c88881456"
      },
      "outputs": [
        {
          "data": {
            "image/png": "[encoded data removed]",
            "text/plain": [
              "<Figure size 1200x1000 with 1 Axes>"
            ]
          },
          "metadata": {},
          "output_type": "display_data"
        }
      ],
      "source": [
        "category_avg = df.groupby(by= 'Performance_Evaluation').mean()\n",
        "category_avg['Num_Prev_Positions']\n",
        "plt.bar(x=category_avg.index.values, height = category_avg['Num_Prev_Positions'] )\n",
        "plt.title(\"Average Number of Previous Positions\")\n",
        "plt.show()"
      ]
    },
    {
      "cell_type": "markdown",
      "metadata": {
        "id": "ifHt4f-1iFmM"
      },
      "source": [
        "Caption: This shows that those who are rated as high performers tend to have more previous positions worked, which is helpful data when reviewing candidates for managers."
      ]
    },
    {
      "cell_type": "markdown",
      "metadata": {
        "id": "bIjQZQ6liYjJ"
      },
      "source": [
        "## **Evaluation of Models & Business Recommendations**"
      ]
    },
    {
      "cell_type": "code",
      "execution_count": 42,
      "metadata": {
        "id": "v_TfLS00jYWw"
      },
      "outputs": [],
      "source": [
        "model_1 = (0.89,0.92,0.91,0.92)\n",
        "model_2 = (0.878,0.903,0.923,0.912)\n",
        "\n",
        "models = model_1, model_2"
      ]
    },
    {
      "cell_type": "code",
      "execution_count": 43,
      "metadata": {
        "colab": {
          "base_uri": "https://localhost:8080/",
          "height": 125
        },
        "id": "EfDQVWm5recW",
        "outputId": "3bfc759e-6ae8-4e09-9bc2-e7e1f04fd57b"
      },
      "outputs": [
        {
          "data": {
            "text/html": [
              "<div>\n",
              "<style scoped>\n",
              "    .dataframe tbody tr th:only-of-type {\n",
              "        vertical-align: middle;\n",
              "    }\n",
              "\n",
              "    .dataframe tbody tr th {\n",
              "        vertical-align: top;\n",
              "    }\n",
              "\n",
              "    .dataframe thead th {\n",
              "        text-align: right;\n",
              "    }\n",
              "</style>\n",
              "<table border=\"1\" class=\"dataframe\">\n",
              "  <thead>\n",
              "    <tr style=\"text-align: right;\">\n",
              "      <th></th>\n",
              "      <th>test_acc</th>\n",
              "      <th>test_precision</th>\n",
              "      <th>test_recall</th>\n",
              "      <th>test_f1</th>\n",
              "    </tr>\n",
              "  </thead>\n",
              "  <tbody>\n",
              "    <tr>\n",
              "      <th>model_1</th>\n",
              "      <td>0.890</td>\n",
              "      <td>0.920</td>\n",
              "      <td>0.910</td>\n",
              "      <td>0.920</td>\n",
              "    </tr>\n",
              "    <tr>\n",
              "      <th>model_2</th>\n",
              "      <td>0.878</td>\n",
              "      <td>0.903</td>\n",
              "      <td>0.923</td>\n",
              "      <td>0.912</td>\n",
              "    </tr>\n",
              "  </tbody>\n",
              "</table>\n",
              "</div>"
            ],
            "text/plain": [
              "         test_acc  test_precision  test_recall  test_f1\n",
              "model_1     0.890           0.920        0.910    0.920\n",
              "model_2     0.878           0.903        0.923    0.912"
            ]
          },
          "execution_count": 43,
          "metadata": {},
          "output_type": "execute_result"
        }
      ],
      "source": [
        "model_compare = pd.DataFrame(data = models,\n",
        "                        index = [\"model_1\", \"model_2\"],\n",
        "                        columns = [\"test_acc\",\n",
        "                                   \"test_precision\",\n",
        "                                   \"test_recall\",\n",
        "                                   \"test_f1\"])\n",
        "model_compare"
      ]
    },
    {
      "cell_type": "markdown",
      "metadata": {
        "id": "U0OpTztXlAtw"
      },
      "source": [
        "## **B**\n",
        "\n",
        "**Which model performed the best?**"
      ]
    },
    {
      "cell_type": "markdown",
      "metadata": {
        "id": "VApu2WlmlKIJ"
      },
      "source": [
        "\n",
        "We should use recall to evaluate performance because a false negative would cost the company more because hiring a manger who is predicted to be be a high perfomer but is actually a low performer would cost the company money. Either in the manager losing the company money or in the company having to fire the manager and hire a new manager.\n",
        "But a false positive would be a benefit to the company because hiring someone with predicted low performance who actually performs high would just benefit the company.\n",
        "\n",
        "Based on recall, model 2 is the better performer."
      ]
    },
    {
      "cell_type": "markdown",
      "metadata": {
        "id": "8uL9EIjsl7IC"
      },
      "source": [
        "## C"
      ]
    },
    {
      "cell_type": "code",
      "execution_count": 44,
      "metadata": {
        "colab": {
          "base_uri": "https://localhost:8080/"
        },
        "id": "jQqqW_FemJKC",
        "outputId": "489d9e79-d991-45ec-fb42-de67f667f588"
      },
      "outputs": [
        {
          "name": "stdout",
          "output_type": "stream",
          "text": [
            "              precision    recall  f1-score   support\n",
            "\n",
            "        high       0.86      0.82      0.84        67\n",
            "         low       0.91      0.93      0.92       133\n",
            "\n",
            "    accuracy                           0.90       200\n",
            "   macro avg       0.89      0.88      0.88       200\n",
            "weighted avg       0.89      0.90      0.89       200\n",
            "\n"
          ]
        }
      ],
      "source": [
        "\n",
        "model.fit(x_train, y_train) \n",
        "\n",
        "predictions = model.predict(x_test)\n",
        "\n",
        "print(classification_report(y_test, predictions))"
      ]
    },
    {
      "cell_type": "markdown",
      "metadata": {
        "id": "kFShzYE2n6Dr"
      },
      "source": [
        "Accuracy went up from .878 to .90.\n",
        "F1 went up from .912 to .92.\n",
        "Precision went up from .903 to .91.\n",
        "Recall went up from .923 to .93.\n",
        "The model improved, which shows that it is not overfit. It performed better on the new data showing it is a good model.\n"
      ]
    },
    {
      "cell_type": "markdown",
      "metadata": {
        "id": "TSRJvUqpoHXf"
      },
      "source": [
        "## D\n",
        "\n",
        "**What business recommendations**\n",
        "\n"
      ]
    },
    {
      "cell_type": "markdown",
      "metadata": {
        "id": "4JJbl8j_ok7p"
      },
      "source": [
        "The business problem at the beginning was wanting to find a high performing manager based on the various performance metrics. The current managers were surveyed, creating a dataset, which was then used to predict which future candidates would make the best managers. The first step taken was to clean the data and find any underlying patterns. We used k-means clustering, decision trees, and logistic regression models as steps in this process. The logistic regression model was better at preventing false negatives, so we recommend that they use that model. We're confident in the model because it has high accuracy, high cross validated accuracy, precision, recall, and it performs better than the baseline. We would recomend to hire candidates with higher previous # of positions and a higher leadership score on their scale."
      ]
    }
  ],
  "metadata": {
    "colab": {
      "provenance": []
    },
    "kernelspec": {
      "display_name": "Python 3",
      "name": "python3"
    },
    "language_info": {
      "codemirror_mode": {
        "name": "ipython",
        "version": 3
      },
      "file_extension": ".py",
      "mimetype": "text/x-python",
      "name": "python",
      "nbconvert_exporter": "python",
      "pygments_lexer": "ipython3",
      "version": "3.11.5"
    }
  },
  "nbformat": 4,
  "nbformat_minor": 0
}
